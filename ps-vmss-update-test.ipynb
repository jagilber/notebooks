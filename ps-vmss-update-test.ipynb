{
 "cells": [
  {
   "cell_type": "code",
   "execution_count": 6,
   "metadata": {
    "scrolled": true
   },
   "outputs": [],
   "source": [
    "# for demo overrides write-host\n",
    "if ((test-path .\\utilities.ps1)) {. .\\utilities.ps1 -useArm}"
   ]
  },
  {
   "cell_type": "code",
   "execution_count": 7,
   "metadata": {
    "scrolled": true
   },
   "outputs": [
    {
     "data": {
      "text/html": [
       "<pre>\r\n",
       "Name               : {{subscriptionName}} ({{subscription}}) - {{email}}\n",
       "Account            : {{email}}\n",
       "Environment        : AzureCloud\r\n",
       "Subscription       : {{subscription}}\r\n",
       "Tenant             : {{tenant}}\r\n",
       "TokenCache         : Microsoft.Azure.Commands.Common.Authentication.Core.ProtectedFileTokenCache\r\n",
       "VersionProfile     : \r\n",
       "ExtendedProperties : {}\r\n",
       "\r\n",
       "\r\n",
       "</pre>\r\n"
      ]
     },
     "metadata": {},
     "output_type": "display_data"
    },
    {
     "data": {
      "text/html": [
       "<pre>connected</pre>\r\n"
      ]
     },
     "metadata": {},
     "output_type": "display_data"
    }
   ],
   "source": [
    "param(\n",
    "    $clusterName = '{{resourceGroupName}}',\n",
    "    $resourceGroupName = '{{resourceGroupName}}',\n",
    "    $nodeTypeName = '{{Microsoft.Compute/virtualMachineScaleSets}}',\n",
    "    $agName = '{{resourceGroupName}}ag'\n",
    ")    \n",
    "\n",
    "if((test-path .\\utilities.ps1)) {. .\\utilities.ps1}\n",
    "\n",
    "$error.clear()\n",
    "if(!(get-command get-azcontext)) {\n",
    "    set-executionPolicy -executionPolicy Bypass\n",
    "    install-module az.accounts\n",
    "}\n",
    "\n",
    "if(!(get-azcontext)) {\n",
    "    $error.clear()\n",
    "    import-module az.accounts\n",
    "    connect-azaccount\n",
    "}\n",
    "\n",
    "if($error) {\n",
    "   $error\n",
    "}\n",
    "else {\n",
    "    write-host (get-azcontext | fl * | out-string)\n",
    "    'connected'\n",
    "}"
   ]
  },
  {
   "cell_type": "code",
   "execution_count": 5,
   "metadata": {
    "scrolled": true
   },
   "outputs": [
    {
     "data": {
      "text/html": [
       "<pre>{\r\n",
       "  &quot;ResourceGroupName&quot;: &quot;{{resourceGroupName}}&quot;,\r\n",
       "  &quot;Sku&quot;: {\r\n",
       "    &quot;Name&quot;: &quot;Standard_D2_v2&quot;,\r\n",
       "    &quot;Tier&quot;: &quot;Standard&quot;,\r\n",
       "    &quot;Capacity&quot;: 3\r\n",
       "  },\r\n",
       "  &quot;Plan&quot;: null,\r\n",
       "  &quot;UpgradePolicy&quot;: {\r\n",
       "    &quot;Mode&quot;: &quot;Automatic&quot;,\r\n",
       "    &quot;RollingUpgradePolicy&quot;: null,\r\n",
       "    &quot;AutomaticOSUpgradePolicy&quot;: null\r\n",
       "  },\r\n",
       "  &quot;VirtualMachineProfile&quot;: {\r\n",
       "    &quot;OsProfile&quot;: {\r\n",
       "      &quot;ComputerNamePrefix&quot;: &quot;{{Microsoft.Compute/virtualMachineScaleSets}}&quot;,\r\n",
       "      &quot;AdminUsername&quot;: &quot;{{vmadmin}}&quot;,\r\n",
       "      &quot;AdminPassword&quot;: null,\r\n",
       "      &quot;CustomData&quot;: null,\r\n",
       "      &quot;WindowsConfiguration&quot;: {\r\n",
       "        &quot;ProvisionVMAgent&quot;: true,\r\n",
       "        &quot;EnableAutomaticUpdates&quot;: true,\r\n",
       "        &quot;TimeZone&quot;: null,\r\n",
       "        &quot;AdditionalUnattendContent&quot;: null,\r\n",
       "        &quot;WinRM&quot;: null\r\n",
       "      },\r\n",
       "      &quot;LinuxConfiguration&quot;: null,\r\n",
       "      &quot;Secrets&quot;: [\r\n",
       "        {\r\n",
       "          &quot;SourceVault&quot;: {\r\n",
       "            &quot;Id&quot;: &quot;/subscriptions/{{subscription}}/resourceGroups/{{resourceGroupName}}/providers/Microsoft.KeyVault/vaults/{{Microsoft.KeyVault/vaults}}&quot;\r\n",
       "          },\r\n",
       "          &quot;VaultCertificates&quot;: [\r\n",
       "            {\r\n",
       "              &quot;CertificateUrl&quot;: &quot;https://{{Microsoft.KeyVault/vaults}}.vault.azure.net/secrets/{{Microsoft.KeyVault/vaults}}/xxxxxxxxxxxxxxxxxxxxxxxxxxxxxxxx&quot;,\r\n",
       "              &quot;CertificateStore&quot;: &quot;My&quot;\r\n",
       "            }\r\n",
       "          ]\r\n",
       "        }\r\n",
       "      ]\r\n",
       "    },\r\n",
       "    &quot;StorageProfile&quot;: {\r\n",
       "      &quot;ImageReference&quot;: {\r\n",
       "        &quot;Publisher&quot;: &quot;MicrosoftWindowsServer&quot;,\r\n",
       "        &quot;Offer&quot;: &quot;WindowsServer&quot;,\r\n",
       "        &quot;Sku&quot;: &quot;2016-Datacenter-with-containers&quot;,\r\n",
       "        &quot;Version&quot;: &quot;14393.3326.1911120150&quot;,\r\n",
       "        &quot;Id&quot;: null\r\n",
       "      },\r\n",
       "      &quot;OsDisk&quot;: {\r\n",
       "        &quot;Name&quot;: null,\r\n",
       "        &quot;Caching&quot;: &quot;ReadOnly&quot;,\r\n",
       "        &quot;WriteAcceleratorEnabled&quot;: null,\r\n",
       "        &quot;CreateOption&quot;: &quot;FromImage&quot;,\r\n",
       "        &quot;DiffDiskSettings&quot;: null,\r\n",
       "        &quot;DiskSizeGB&quot;: 127,\r\n",
       "        &quot;OsType&quot;: null,\r\n",
       "        &quot;Image&quot;: null,\r\n",
       "        &quot;VhdContainers&quot;: null,\r\n",
       "        &quot;ManagedDisk&quot;: {\r\n",
       "          &quot;StorageAccountType&quot;: &quot;Standard_LRS&quot;\r\n",
       "        }\r\n",
       "      },\r\n",
       "      &quot;DataDisks&quot;: null\r\n",
       "    },\r\n",
       "    &quot;NetworkProfile&quot;: {\r\n",
       "      &quot;HealthProbe&quot;: null,\r\n",
       "      &quot;NetworkInterfaceConfigurations&quot;: [\r\n",
       "        {\r\n",
       "          &quot;Name&quot;: &quot;NIC-0&quot;,\r\n",
       "          &quot;Primary&quot;: true,\r\n",
       "          &quot;EnableAcceleratedNetworking&quot;: false,\r\n",
       "          &quot;NetworkSecurityGroup&quot;: null,\r\n",
       "          &quot;DnsSettings&quot;: {\r\n",
       "            &quot;DnsServers&quot;: []\r\n",
       "          },\r\n",
       "          &quot;IpConfigurations&quot;: [\r\n",
       "            {\r\n",
       "              &quot;Name&quot;: &quot;NIC-0&quot;,\r\n",
       "              &quot;Subnet&quot;: {\r\n",
       "                &quot;Id&quot;: &quot;/subscriptions/{{subscription}}/resourceGroups/{{resourceGroupName}}/providers/Microsoft.Network/virtualNetworks/{{Microsoft.Network/virtualNetworks}}/subnets/Subnet-0&quot;\r\n",
       "              },\r\n",
       "              &quot;Primary&quot;: null,\r\n",
       "              &quot;PublicIPAddressConfiguration&quot;: null,\r\n",
       "              &quot;PrivateIPAddressVersion&quot;: &quot;IPv4&quot;,\r\n",
       "              &quot;ApplicationGatewayBackendAddressPools&quot;: null,\r\n",
       "              &quot;ApplicationSecurityGroups&quot;: null,\r\n",
       "              &quot;LoadBalancerBackendAddressPools&quot;: [\r\n",
       "                {\r\n",
       "                  &quot;Id&quot;: &quot;/subscriptions/{{subscription}}/resourceGroups/{{resourceGroupName}}/providers/Microsoft.Network/loadBalancers/LB-{{resourceGroupName}}-{{Microsoft.Compute/virtualMachineScaleSets}}/backendAddressPools/LoadBalancerBEAddressPool&quot;\r\n",
       "                }\r\n",
       "              ],\r\n",
       "              &quot;LoadBalancerInboundNatPools&quot;: [\r\n",
       "                {\r\n",
       "                  &quot;Id&quot;: &quot;/subscriptions/{{subscription}}/resourceGroups/{{resourceGroupName}}/providers/Microsoft.Network/loadBalancers/LB-{{resourceGroupName}}-{{Microsoft.Compute/virtualMachineScaleSets}}/inboundNatPools/LoadBalancerBEAddressNatPool&quot;\r\n",
       "                }\r\n",
       "              ],\r\n",
       "              &quot;Id&quot;: null\r\n",
       "            }\r\n",
       "          ],\r\n",
       "          &quot;EnableIPForwarding&quot;: false,\r\n",
       "          &quot;Id&quot;: null\r\n",
       "        }\r\n",
       "      ]\r\n",
       "    },\r\n",
       "    &quot;DiagnosticsProfile&quot;: null,\r\n",
       "    &quot;ExtensionProfile&quot;: {\r\n",
       "      &quot;Extensions&quot;: [\r\n",
       "        {\r\n",
       "          &quot;Name&quot;: &quot;{{Microsoft.Compute/virtualMachineScaleSets}}_ServiceFabricNode&quot;,\r\n",
       "          &quot;ForceUpdateTag&quot;: null,\r\n",
       "          &quot;Publisher&quot;: &quot;Microsoft.Azure.ServiceFabric&quot;,\r\n",
       "          &quot;Type&quot;: &quot;ServiceFabricNode&quot;,\r\n",
       "          &quot;TypeHandlerVersion&quot;: &quot;1.0&quot;,\r\n",
       "          &quot;AutoUpgradeMinorVersion&quot;: true,\r\n",
       "          &quot;Settings&quot;: {\r\n",
       "            &quot;clusterEndpoint&quot;: &quot;https://{{location}}.servicefabric.azure.com/runtime/clusters/xxxxxxxx-xxxx-xxxx-xxxx-xxxxxxxxxxxx&quot;,\r\n",
       "            &quot;nodeTypeRef&quot;: &quot;{{Microsoft.Compute/virtualMachineScaleSets}}&quot;,\r\n",
       "            &quot;dataPath&quot;: &quot;D:\\\\\\\\SvcFab&quot;,\r\n",
       "            &quot;durabilityLevel&quot;: &quot;Bronze&quot;,\r\n",
       "            &quot;enableParallelJobs&quot;: true,\r\n",
       "            &quot;nicPrefixOverride&quot;: &quot;xxx.xxx.xxx.xxx/24&quot;,\r\n",
       "            &quot;certificate&quot;: {\r\n",
       "              &quot;thumbprint&quot;: &quot;xxxxxxxxxxxxxxxxxxxxxxxxxxxxxxxxxxxxxxxx&quot;,\r\n",
       "              &quot;x509StoreName&quot;: &quot;My&quot;\r\n",
       "            }\r\n",
       "          },\r\n",
       "          &quot;ProtectedSettings&quot;: null,\r\n",
       "          &quot;ProvisioningState&quot;: null,\r\n",
       "          &quot;ProvisionAfterExtensions&quot;: null,\r\n",
       "          &quot;Id&quot;: null\r\n",
       "        },\r\n",
       "        {\r\n",
       "          &quot;Name&quot;: &quot;VMDiagnosticsVmExt_vmNodeType0Name&quot;,\r\n",
       "          &quot;ForceUpdateTag&quot;: null,\r\n",
       "          &quot;Publisher&quot;: &quot;Microsoft.Azure.Diagnostics&quot;,\r\n",
       "          &quot;Type&quot;: &quot;IaaSDiagnostics&quot;,\r\n",
       "          &quot;TypeHandlerVersion&quot;: &quot;1.5&quot;,\r\n",
       "          &quot;AutoUpgradeMinorVersion&quot;: true,\r\n",
       "          &quot;Settings&quot;: {\r\n",
       "            &quot;WadCfg&quot;: {\r\n",
       "              &quot;DiagnosticMonitorConfiguration&quot;: {\r\n",
       "                &quot;overallQuotaInMB&quot;: &quot;50000&quot;,\r\n",
       "                &quot;EtwProviders&quot;: {\r\n",
       "                  &quot;EtwEventSourceProviderConfiguration&quot;: [\r\n",
       "                    {\r\n",
       "                      &quot;provider&quot;: &quot;Microsoft-ServiceFabric-Actors&quot;,\r\n",
       "                      &quot;scheduledTransferKeywordFilter&quot;: &quot;1&quot;,\r\n",
       "                      &quot;scheduledTransferPeriod&quot;: &quot;PT5M&quot;,\r\n",
       "                      &quot;DefaultEvents&quot;: {\r\n",
       "                        &quot;eventDestination&quot;: &quot;ServiceFabricReliableActorEventTable&quot;\r\n",
       "                      }\r\n",
       "                    },\r\n",
       "                    {\r\n",
       "                      &quot;provider&quot;: &quot;Microsoft-ServiceFabric-Services&quot;,\r\n",
       "                      &quot;scheduledTransferPeriod&quot;: &quot;PT5M&quot;,\r\n",
       "                      &quot;DefaultEvents&quot;: {\r\n",
       "                        &quot;eventDestination&quot;: &quot;ServiceFabricReliableServiceEventTable&quot;\r\n",
       "                      }\r\n",
       "                    }\r\n",
       "                  ],\r\n",
       "                  &quot;EtwManifestProviderConfiguration&quot;: [\r\n",
       "                    {\r\n",
       "                      &quot;provider&quot;: &quot;xxxxxxxx-xxxx-xxxx-xxxx-xxxxxxxxxxxx&quot;,\r\n",
       "                      &quot;scheduledTransferLogLevelFilter&quot;: &quot;Information&quot;,\r\n",
       "                      &quot;scheduledTransferKeywordFilter&quot;: &quot;4611686018427387904&quot;,\r\n",
       "                      &quot;scheduledTransferPeriod&quot;: &quot;PT5M&quot;,\r\n",
       "                      &quot;DefaultEvents&quot;: {\r\n",
       "                        &quot;eventDestination&quot;: &quot;ServiceFabricSystemEventTable&quot;\r\n",
       "                      }\r\n",
       "                    }\r\n",
       "                  ]\r\n",
       "                }\r\n",
       "              }\r\n",
       "            },\r\n",
       "            &quot;StorageAccount&quot;: &quot;{{Microsoft.Storage/storageAccounts}}&quot;\r\n",
       "          },\r\n",
       "          &quot;ProtectedSettings&quot;: null,\r\n",
       "          &quot;ProvisioningState&quot;: null,\r\n",
       "          &quot;ProvisionAfterExtensions&quot;: null,\r\n",
       "          &quot;Id&quot;: null\r\n",
       "        },\r\n",
       "        {\r\n",
       "          &quot;Name&quot;: &quot;MMAExtension&quot;,\r\n",
       "          &quot;ForceUpdateTag&quot;: null,\r\n",
       "          &quot;Publisher&quot;: &quot;Microsoft.EnterpriseCloud.Monitoring&quot;,\r\n",
       "          &quot;Type&quot;: &quot;MicrosoftMonitoringAgent&quot;,\r\n",
       "          &quot;TypeHandlerVersion&quot;: &quot;1.0&quot;,\r\n",
       "          &quot;AutoUpgradeMinorVersion&quot;: true,\r\n",
       "          &quot;Settings&quot;: {\r\n",
       "            &quot;workspaceId&quot;: &quot;xxxxxxxx-xxxx-xxxx-xxxx-xxxxxxxxxxxx&quot;,\r\n",
       "            &quot;stopOnMultipleConnections&quot;: &quot;true&quot;\r\n",
       "          },\r\n",
       "          &quot;ProtectedSettings&quot;: null,\r\n",
       "          &quot;ProvisioningState&quot;: null,\r\n",
       "          &quot;ProvisionAfterExtensions&quot;: null,\r\n",
       "          &quot;Id&quot;: null\r\n",
       "        }\r\n",
       "      ]\r\n",
       "    },\r\n",
       "    &quot;LicenseType&quot;: null,\r\n",
       "    &quot;Priority&quot;: null,\r\n",
       "    &quot;EvictionPolicy&quot;: null,\r\n",
       "    &quot;BillingProfile&quot;: null,\r\n",
       "    &quot;ScheduledEventsProfile&quot;: null\r\n",
       "  },\r\n",
       "  &quot;ProvisioningState&quot;: &quot;Succeeded&quot;,\r\n",
       "  &quot;Overprovision&quot;: false,\r\n",
       "  &quot;DoNotRunExtensionsOnOverprovisionedVMs&quot;: false,\r\n",
       "  &quot;UniqueId&quot;: &quot;xxxxxxxx-xxxx-xxxx-xxxx-xxxxxxxxxxxx&quot;,\r\n",
       "  &quot;SinglePlacementGroup&quot;: true,\r\n",
       "  &quot;ZoneBalance&quot;: null,\r\n",
       "  &quot;PlatformFaultDomainCount&quot;: null,\r\n",
       "  &quot;ProximityPlacementGroup&quot;: null,\r\n",
       "  &quot;AdditionalCapabilities&quot;: null,\r\n",
       "  &quot;Identity&quot;: null,\r\n",
       "  &quot;Zones&quot;: null,\r\n",
       "  &quot;Id&quot;: &quot;/subscriptions/{{subscription}}/resourceGroups/{{resourceGroupName}}/providers/Microsoft.Compute/virtualMachineScaleSets/{{Microsoft.Compute/virtualMachineScaleSets}}&quot;,\r\n",
       "  &quot;Name&quot;: &quot;{{Microsoft.Compute/virtualMachineScaleSets}}&quot;,\r\n",
       "  &quot;Type&quot;: &quot;Microsoft.Compute/virtualMachineScaleSets&quot;,\r\n",
       "  &quot;Location&quot;: &quot;{{location}}&quot;,\r\n",
       "  &quot;Tags&quot;: {\r\n",
       "    &quot;resourceType&quot;: &quot;Service Fabric&quot;,\r\n",
       "    &quot;clusterName&quot;: &quot;{{resourceGroupName}}&quot;,\r\n",
       "    &quot;templateupdatetest&quot;: &quot;0302-3&quot;\r\n",
       "  },\r\n",
       "  &quot;FullyQualifiedDomainName&quot;: null\r\n",
       "}</pre>\r\n"
      ]
     },
     "metadata": {},
     "output_type": "display_data"
    }
   ],
   "source": [
    "$vmss = get-azvmss -ResourceGroupName $resourceGroupName -Name $nodeTypeName\n",
    "\n",
    "write-host ($vmss | convertto-json -depth 99)"
   ]
  },
  {
   "cell_type": "code",
   "execution_count": 6,
   "metadata": {
    "scrolled": true
   },
   "outputs": [
    {
     "data": {
      "text/html": [
       "<pre>\r\n",
       "ResourceGroupName                      : {{resourceGroupName}}\r\n",
       "Sku                                    : Microsoft.Azure.Management.Compute.Models.Sku\r\n",
       "Plan                                   : \r\n",
       "UpgradePolicy                          : Microsoft.Azure.Management.Compute.Models.UpgradePolicy\r\n",
       "VirtualMachineProfile                  : Microsoft.Azure.Management.Compute.Models.VirtualMachineScaleSetVMProfile\r\n",
       "ProvisioningState                      : Succeeded\r\n",
       "Overprovision                          : False\r\n",
       "DoNotRunExtensionsOnOverprovisionedVMs : False\r\n",
       "UniqueId                               : xxxxxxxx-xxxx-xxxx-xxxx-xxxxxxxxxxxx\r\n",
       "SinglePlacementGroup                   : True\r\n",
       "ZoneBalance                            : \r\n",
       "PlatformFaultDomainCount               : \r\n",
       "ProximityPlacementGroup                : \r\n",
       "AdditionalCapabilities                 : \r\n",
       "Identity                               : \r\n",
       "Zones                                  : \r\n",
       "Id                                     : /subscriptions/{{subscription}}/resourceGroups/{{resourceGroupName}}/providers/Microsoft.Compute/virtualMachineScaleSets/{{Microsoft.Compute/virtualMachineScaleSets}}\r\n",
       "Name                                   : {{Microsoft.Compute/virtualMachineScaleSets}}\r\n",
       "Type                                   : Microsoft.Compute/virtualMachineScaleSets\r\n",
       "Location                               : {{location}}\r\n",
       "Tags                                   : {[resourceType, Service Fabric], [clusterName, {{resourceGroupName}}]}\r\n",
       "FullyQualifiedDomainName               : \r\n",
       "\r\n",
       "\r\n",
       "</pre>\r\n"
      ]
     },
     "metadata": {},
     "output_type": "display_data"
    }
   ],
   "source": [
    "write-host $vmss"
   ]
  },
  {
   "cell_type": "code",
   "execution_count": 10,
   "metadata": {
    "scrolled": true
   },
   "outputs": [
    {
     "data": {
      "text/html": [
       "<pre></pre>\r\n"
      ]
     },
     "metadata": {},
     "output_type": "display_data"
    },
    {
     "data": {
      "text/html": [
       "<pre>Name                        : NIC-0</pre>\r\n"
      ]
     },
     "metadata": {},
     "output_type": "display_data"
    },
    {
     "data": {
      "text/html": [
       "<pre>Primary                     : True</pre>\r\n"
      ]
     },
     "metadata": {},
     "output_type": "display_data"
    },
    {
     "data": {
      "text/html": [
       "<pre>EnableAcceleratedNetworking : False</pre>\r\n"
      ]
     },
     "metadata": {},
     "output_type": "display_data"
    },
    {
     "data": {
      "text/html": [
       "<pre>NetworkSecurityGroup        : </pre>\r\n"
      ]
     },
     "metadata": {},
     "output_type": "display_data"
    },
    {
     "data": {
      "text/html": [
       "<pre>DnsSettings                 : Microsoft.Azure.Management.Compute.Models.VirtualMachineScaleSetNetworkConfigurationDnsSettings</pre>\r\n"
      ]
     },
     "metadata": {},
     "output_type": "display_data"
    },
    {
     "data": {
      "text/html": [
       "<pre>IpConfigurations            : {NIC-0}</pre>\r\n"
      ]
     },
     "metadata": {},
     "output_type": "display_data"
    },
    {
     "data": {
      "text/html": [
       "<pre>EnableIPForwarding          : False</pre>\r\n"
      ]
     },
     "metadata": {},
     "output_type": "display_data"
    },
    {
     "data": {
      "text/html": [
       "<pre>Id                          : </pre>\r\n"
      ]
     },
     "metadata": {},
     "output_type": "display_data"
    },
    {
     "data": {
      "text/html": [
       "<pre></pre>\r\n"
      ]
     },
     "metadata": {},
     "output_type": "display_data"
    },
    {
     "data": {
      "text/html": [
       "<pre></pre>\r\n"
      ]
     },
     "metadata": {},
     "output_type": "display_data"
    }
   ],
   "source": [
    "$vmss.VirtualMachineProfile.NetworkProfile.NetworkInterfaceConfigurations"
   ]
  },
  {
   "cell_type": "code",
   "execution_count": 12,
   "metadata": {
    "scrolled": true
   },
   "outputs": [
    {
     "data": {
      "text/html": [
       "<pre>\r\n",
       "Name                                  : NIC-0\r\n",
       "Subnet                                : Microsoft.Azure.Management.Compute.Models.ApiEntityReference\r\n",
       "Primary                               : \r\n",
       "PublicIPAddressConfiguration          : \r\n",
       "PrivateIPAddressVersion               : IPv4\r\n",
       "ApplicationGatewayBackendAddressPools : \r\n",
       "ApplicationSecurityGroups             : \r\n",
       "LoadBalancerBackendAddressPools       : {/subscriptions/{{subscription}}/resourceGroups/{{resourceGroupName}}/providers/Microsoft.Network/loadBalancers/LB-{{resourceGroupName}}-{{Microsoft.Compute/virtualMachineScaleSets}}/backendAddressPools/LoadBalancerBEAddressPool}\r\n",
       "LoadBalancerInboundNatPools           : {/subscriptions/{{subscription}}/resourceGroups/{{resourceGroupName}}/providers/Microsoft.Network/loadBalancers/LB-{{resourceGroupName}}-{{Microsoft.Compute/virtualMachineScaleSets}}/inboundNatPools/LoadBalancerBEAddressNatPool}\r\n",
       "Id                                    : \r\n",
       "\r\n",
       "\r\n",
       "</pre>\r\n"
      ]
     },
     "metadata": {},
     "output_type": "display_data"
    }
   ],
   "source": [
    "write-host ($vmss.VirtualMachineProfile.NetworkProfile.NetworkInterfaceConfigurations[0].IpConfigurations)"
   ]
  },
  {
   "cell_type": "code",
   "execution_count": 17,
   "metadata": {
    "scrolled": true
   },
   "outputs": [
    {
     "data": {
      "text/html": [
       "<pre></pre>\r\n"
      ]
     },
     "metadata": {},
     "output_type": "display_data"
    }
   ],
   "source": [
    "write-host ($vmss.VirtualMachineProfile.NetworkProfile.NetworkInterfaceConfigurations[0].IpConfigurations[0].ApplicationGatewayBackendAddressPools)"
   ]
  },
  {
   "cell_type": "code",
   "execution_count": 13,
   "metadata": {
    "scrolled": true
   },
   "outputs": [
    {
     "data": {
      "text/html": [
       "<pre></pre>\r\n"
      ]
     },
     "metadata": {},
     "output_type": "display_data"
    },
    {
     "data": {
      "text/html": [
       "<pre></pre>\r\n"
      ]
     },
     "metadata": {},
     "output_type": "display_data"
    },
    {
     "data": {
      "text/html": [
       "<pre>   TypeName: Microsoft.Azure.Management.Compute.Models.SubResource</pre>\r\n"
      ]
     },
     "metadata": {},
     "output_type": "display_data"
    },
    {
     "data": {
      "text/html": [
       "<pre></pre>\r\n"
      ]
     },
     "metadata": {},
     "output_type": "display_data"
    },
    {
     "data": {
      "text/html": [
       "<pre>Name        MemberType Definition</pre>\r\n"
      ]
     },
     "metadata": {},
     "output_type": "display_data"
    },
    {
     "data": {
      "text/html": [
       "<pre>----        ---------- ----------</pre>\r\n"
      ]
     },
     "metadata": {},
     "output_type": "display_data"
    },
    {
     "data": {
      "text/html": [
       "<pre>Equals      Method     bool Equals(System.Object obj)</pre>\r\n"
      ]
     },
     "metadata": {},
     "output_type": "display_data"
    },
    {
     "data": {
      "text/html": [
       "<pre>GetHashCode Method     int GetHashCode()</pre>\r\n"
      ]
     },
     "metadata": {},
     "output_type": "display_data"
    },
    {
     "data": {
      "text/html": [
       "<pre>GetType     Method     type GetType()</pre>\r\n"
      ]
     },
     "metadata": {},
     "output_type": "display_data"
    },
    {
     "data": {
      "text/html": [
       "<pre>ToString    Method     string ToString()</pre>\r\n"
      ]
     },
     "metadata": {},
     "output_type": "display_data"
    },
    {
     "data": {
      "text/html": [
       "<pre>Id          Property   string Id {get;set;}</pre>\r\n"
      ]
     },
     "metadata": {},
     "output_type": "display_data"
    },
    {
     "data": {
      "text/html": [
       "<pre></pre>\r\n"
      ]
     },
     "metadata": {},
     "output_type": "display_data"
    }
   ],
   "source": [
    "$vmss.VirtualMachineProfile.NetworkProfile.NetworkInterfaceConfigurations[0].IpConfigurations[0].ApplicationGatewayBackendAddressPools | get-member"
   ]
  },
  {
   "cell_type": "code",
   "execution_count": 18,
   "metadata": {
    "scrolled": true
   },
   "outputs": [
    {
     "data": {
      "text/html": [
       "<pre></pre>\r\n"
      ]
     },
     "metadata": {},
     "output_type": "display_data"
    },
    {
     "data": {
      "text/html": [
       "<pre>IsPublic IsSerial Name                                     BaseType</pre>\r\n"
      ]
     },
     "metadata": {},
     "output_type": "display_data"
    },
    {
     "data": {
      "text/html": [
       "<pre>-------- -------- ----                                     --------</pre>\r\n"
      ]
     },
     "metadata": {},
     "output_type": "display_data"
    },
    {
     "data": {
      "text/html": [
       "<pre>True     False    SubResource                              System.Object</pre>\r\n"
      ]
     },
     "metadata": {},
     "output_type": "display_data"
    },
    {
     "data": {
      "text/html": [
       "<pre></pre>\r\n"
      ]
     },
     "metadata": {},
     "output_type": "display_data"
    },
    {
     "data": {
      "text/html": [
       "<pre>Id : </pre>\r\n"
      ]
     },
     "metadata": {},
     "output_type": "display_data"
    },
    {
     "data": {
      "text/html": [
       "<pre></pre>\r\n"
      ]
     },
     "metadata": {},
     "output_type": "display_data"
    },
    {
     "data": {
      "text/html": [
       "<pre></pre>\r\n"
      ]
     },
     "metadata": {},
     "output_type": "display_data"
    }
   ],
   "source": [
    "$subResource = [Microsoft.Azure.Management.Compute.Models.SubResource]::new()\n",
    "$subResource.GetType()\n",
    "$subResource"
   ]
  },
  {
   "cell_type": "code",
   "execution_count": 18,
   "metadata": {
    "scrolled": true
   },
   "outputs": [
    {
     "data": {
      "text/html": [
       "<pre>Get-AzApplicationGateway: The Resource &#39;Microsoft.Network/applicationGateways/{{resourceGroupName}}ag&#39; under resource group &#39;{{resourceGroupName}}&#39; was not found.</pre>\r\n"
      ]
     },
     "metadata": {},
     "output_type": "display_data"
    },
    {
     "data": {
      "text/html": [
       "<pre></pre>\r\n"
      ]
     },
     "metadata": {},
     "output_type": "display_data"
    }
   ],
   "source": [
    "$ag = Get-AzApplicationGateway -ResourceGroupName $resourceGroupName -Name $agName\n",
    "write-host ($ag)"
   ]
  },
  {
   "cell_type": "code",
   "execution_count": 21,
   "metadata": {
    "scrolled": true
   },
   "outputs": [
    {
     "data": {
      "text/html": [
       "<pre></pre>\r\n"
      ]
     },
     "metadata": {},
     "output_type": "display_data"
    },
    {
     "data": {
      "text/html": [
       "<pre>BackendAddresses            : {}</pre>\r\n"
      ]
     },
     "metadata": {},
     "output_type": "display_data"
    },
    {
     "data": {
      "text/html": [
       "<pre>BackendIpConfigurations     : {, , }</pre>\r\n"
      ]
     },
     "metadata": {},
     "output_type": "display_data"
    },
    {
     "data": {
      "text/html": [
       "<pre>ProvisioningState           : Succeeded</pre>\r\n"
      ]
     },
     "metadata": {},
     "output_type": "display_data"
    },
    {
     "data": {
      "text/html": [
       "<pre>Type                        : Microsoft.Network/applicationGateways/backendAddressPools</pre>\r\n"
      ]
     },
     "metadata": {},
     "output_type": "display_data"
    },
    {
     "data": {
      "text/html": [
       "<pre>BackendAddressesText        : []</pre>\r\n"
      ]
     },
     "metadata": {},
     "output_type": "display_data"
    },
    {
     "data": {
      "text/html": [
       "<pre>BackendIpConfigurationsText : [</pre>\r\n"
      ]
     },
     "metadata": {},
     "output_type": "display_data"
    },
    {
     "data": {
      "text/html": [
       "<pre>                                {</pre>\r\n"
      ]
     },
     "metadata": {},
     "output_type": "display_data"
    },
    {
     "data": {
      "text/html": [
       "<pre>                                  &quot;Id&quot;: &quot;/subscriptions/{{subscription}}/resourceGroups/{{Microsoft.KeyVault/vaults}}3nt3/providers/Microsoft.Compute/virtualMachineScaleSets/{{Microsoft.Compute/virtualMachineScaleSets}}/virtualMachines/0/networkInterfaces/NIC-0/ipConfigurations/NIC-0&quot;,</pre>\r\n"
      ]
     },
     "metadata": {},
     "output_type": "display_data"
    },
    {
     "data": {
      "text/html": [
       "<pre>                                  &quot;Primary&quot;: false</pre>\r\n"
      ]
     },
     "metadata": {},
     "output_type": "display_data"
    },
    {
     "data": {
      "text/html": [
       "<pre>                                },</pre>\r\n"
      ]
     },
     "metadata": {},
     "output_type": "display_data"
    },
    {
     "data": {
      "text/html": [
       "<pre>                                {</pre>\r\n"
      ]
     },
     "metadata": {},
     "output_type": "display_data"
    },
    {
     "data": {
      "text/html": [
       "<pre>                                  &quot;Id&quot;: &quot;/subscriptions/{{subscription}}/resourceGroups/{{Microsoft.KeyVault/vaults}}3nt3/providers/Microsoft.Compute/virtualMachineScaleSets/{{Microsoft.Compute/virtualMachineScaleSets}}/virtualMachines/1/networkInterfaces/NIC-0/ipConfigurations/NIC-0&quot;,</pre>\r\n"
      ]
     },
     "metadata": {},
     "output_type": "display_data"
    },
    {
     "data": {
      "text/html": [
       "<pre>                                  &quot;Primary&quot;: false</pre>\r\n"
      ]
     },
     "metadata": {},
     "output_type": "display_data"
    },
    {
     "data": {
      "text/html": [
       "<pre>                                },</pre>\r\n"
      ]
     },
     "metadata": {},
     "output_type": "display_data"
    },
    {
     "data": {
      "text/html": [
       "<pre>                                {</pre>\r\n"
      ]
     },
     "metadata": {},
     "output_type": "display_data"
    },
    {
     "data": {
      "text/html": [
       "<pre>                                  &quot;Id&quot;: &quot;/subscriptions/{{subscription}}/resourceGroups/{{Microsoft.KeyVault/vaults}}3nt3/providers/Microsoft.Compute/virtualMachineScaleSets/{{Microsoft.Compute/virtualMachineScaleSets}}/virtualMachines/2/networkInterfaces/NIC-0/ipConfigurations/NIC-0&quot;,</pre>\r\n"
      ]
     },
     "metadata": {},
     "output_type": "display_data"
    },
    {
     "data": {
      "text/html": [
       "<pre>                                  &quot;Primary&quot;: false</pre>\r\n"
      ]
     },
     "metadata": {},
     "output_type": "display_data"
    },
    {
     "data": {
      "text/html": [
       "<pre>                                }</pre>\r\n"
      ]
     },
     "metadata": {},
     "output_type": "display_data"
    },
    {
     "data": {
      "text/html": [
       "<pre>                              ]</pre>\r\n"
      ]
     },
     "metadata": {},
     "output_type": "display_data"
    },
    {
     "data": {
      "text/html": [
       "<pre>Name                        : {{Microsoft.KeyVault/vaults}}3nt3agbepool</pre>\r\n"
      ]
     },
     "metadata": {},
     "output_type": "display_data"
    },
    {
     "data": {
      "text/html": [
       "<pre>Etag                        : W/&quot;xxxxxxxx-xxxx-xxxx-xxxx-xxxxxxxxxxxx&quot;</pre>\r\n"
      ]
     },
     "metadata": {},
     "output_type": "display_data"
    },
    {
     "data": {
      "text/html": [
       "<pre>Id                          : /subscriptions/{{subscription}}/resourceGroups/{{Microsoft.KeyVault/vaults}}3nt3/providers/Microsoft.Network/applicationGateways/{{Microsoft.KeyVault/vaults}}3nt3ag/backendAddressPools/{{Microsoft.KeyVault/vaults}}3nt3agbepool</pre>\r\n"
      ]
     },
     "metadata": {},
     "output_type": "display_data"
    },
    {
     "data": {
      "text/html": [
       "<pre></pre>\r\n"
      ]
     },
     "metadata": {},
     "output_type": "display_data"
    },
    {
     "data": {
      "text/html": [
       "<pre></pre>\r\n"
      ]
     },
     "metadata": {},
     "output_type": "display_data"
    }
   ],
   "source": [
    "$ag.BackendAddressPools"
   ]
  },
  {
   "cell_type": "code",
   "execution_count": 22,
   "metadata": {
    "scrolled": true
   },
   "outputs": [
    {
     "data": {
      "text/html": [
       "<pre>/subscriptions/{{subscription}}/resourceGroups/{{Microsoft.KeyVault/vaults}}3nt3/providers/Microsoft.Network/applicationGateways/{{Microsoft.KeyVault/vaults}}3nt3ag/backendAddressPools/{{Microsoft.KeyVault/vaults}}3nt3agbepool</pre>\r\n"
      ]
     },
     "metadata": {},
     "output_type": "display_data"
    }
   ],
   "source": [
    "$ag.BackendAddressPools[0].Id"
   ]
  },
  {
   "cell_type": "code",
   "execution_count": 23,
   "metadata": {
    "scrolled": true
   },
   "outputs": [
    {
     "data": {
      "text/html": [
       "<pre></pre>\r\n"
      ]
     },
     "metadata": {},
     "output_type": "display_data"
    },
    {
     "data": {
      "text/html": [
       "<pre>Id</pre>\r\n"
      ]
     },
     "metadata": {},
     "output_type": "display_data"
    },
    {
     "data": {
      "text/html": [
       "<pre>--</pre>\r\n"
      ]
     },
     "metadata": {},
     "output_type": "display_data"
    },
    {
     "data": {
      "text/html": [
       "<pre>/subscriptions/{{subscription}}/resourceGroups/{{Microsoft.KeyVault/vaults}}3nt3/providers/Microsoft.Network/applicationGateways/{{Microsoft.KeyVault/vaults}}3nt3ag/backendAddressPools/{{Microsoft.KeyVault/vaults}}3n…</pre>\r\n"
      ]
     },
     "metadata": {},
     "output_type": "display_data"
    },
    {
     "data": {
      "text/html": [
       "<pre></pre>\r\n"
      ]
     },
     "metadata": {},
     "output_type": "display_data"
    }
   ],
   "source": [
    "$vmss.VirtualMachineProfile.NetworkProfile.NetworkInterfaceConfigurations[0].IpConfigurations[0].ApplicationGatewayBackendAddressPools[0]"
   ]
  },
  {
   "cell_type": "code",
   "execution_count": 38,
   "metadata": {
    "scrolled": true
   },
   "outputs": [],
   "source": [
    "$vmss.VirtualMachineProfile.NetworkProfile.NetworkInterfaceConfigurations[0].IpConfigurations[0].ApplicationGatewayBackendAddressPools[0] = $subResource"
   ]
  },
  {
   "cell_type": "code",
   "execution_count": 41,
   "metadata": {
    "scrolled": true
   },
   "outputs": [],
   "source": [
    "$vmss.VirtualMachineProfile.NetworkProfile.NetworkInterfaceConfigurations[0].IpConfigurations[0].ApplicationGatewayBackendAddressPools[0] = $ag.BackendAddressPools[0].Id"
   ]
  },
  {
   "cell_type": "code",
   "execution_count": 42,
   "metadata": {
    "scrolled": true
   },
   "outputs": [
    {
     "data": {
      "text/html": [
       "<pre>DEBUG: 10:16:12 AM - UpdateAzureRmVmss begin processing with ParameterSet &#39;DefaultParameter&#39;.</pre>\r\n"
      ]
     },
     "metadata": {},
     "output_type": "display_data"
    },
    {
     "data": {
      "text/html": [
       "<pre>DEBUG: 10:16:12 AM - using account id &#39;{{email}}#39;...</pre>\r\n"
      ]
     },
     "metadata": {},
     "output_type": "display_data"
    },
    {
     "data": {
      "text/html": [
       "<pre>VERBOSE: Performing the operation &quot;Update&quot; on target &quot;{{Microsoft.Compute/virtualMachineScaleSets}}&quot;.</pre>\r\n"
      ]
     },
     "metadata": {},
     "output_type": "display_data"
    },
    {
     "data": {
      "text/html": [
       "<pre>DEBUG: [Common.Authentication]: Authenticating using Account: &#39;{{email}}#39;, environment: &#39;AzureCloud&#39;, tenant: &#39;{{tenant}}&#39;</pre>\r\n"
      ]
     },
     "metadata": {},
     "output_type": "display_data"
    },
    {
     "data": {
      "text/html": [
       "<pre>DEBUG: ============================ HTTP REQUEST ============================\r\n",
       "\r\n",
       "HTTP Method:\r\n",
       "PUT\r\n",
       "\r\n",
       "Absolute Uri:\r\n",
       "https://management.azure.com/subscriptions/{{subscription}}/resourceGroups/{{Microsoft.KeyVault/vaults}}3nt3/providers/Microsoft.Compute/virtualMachineScaleSets/{{Microsoft.Compute/virtualMachineScaleSets}}?api-version=2018-10-01\r\n",
       "\r\n",
       "Headers:\r\n",
       "x-ms-client-request-id        : xxxxxxxx-xxxx-xxxx-xxxx-xxxxxxxxxxxx\r\n",
       "Accept-Language               : en-US\r\n",
       "\r\n",
       "Body:\r\n",
       "{\r\n",
       "  &quot;sku&quot;: {\r\n",
       "    &quot;name&quot;: &quot;Standard_D2_v2&quot;,\r\n",
       "    &quot;tier&quot;: &quot;Standard&quot;,\r\n",
       "    &quot;capacity&quot;: 3\r\n",
       "  },\r\n",
       "  &quot;properties&quot;: {\r\n",
       "    &quot;upgradePolicy&quot;: {\r\n",
       "      &quot;mode&quot;: &quot;Automatic&quot;\r\n",
       "    },\r\n",
       "    &quot;virtualMachineProfile&quot;: {\r\n",
       "      &quot;osProfile&quot;: {\r\n",
       "        &quot;computerNamePrefix&quot;: &quot;{{Microsoft.Compute/virtualMachineScaleSets}}&quot;,\r\n",
       "        &quot;adminUsername&quot;: &quot;{{vmadmin}}&quot;,\r\n",
       "        &quot;windowsConfiguration&quot;: {\r\n",
       "          &quot;provisionVMAgent&quot;: true,\r\n",
       "          &quot;enableAutomaticUpdates&quot;: true\r\n",
       "        },\r\n",
       "        &quot;secrets&quot;: [\r\n",
       "          {\r\n",
       "            &quot;sourceVault&quot;: {\r\n",
       "              &quot;id&quot;: &quot;/subscriptions/{{subscription}}/resourceGroups/{{resourceGroupName}}/providers/Microsoft.KeyVault/vaults/{{Microsoft.KeyVault/vaults}}&quot;\r\n",
       "            },\r\n",
       "            &quot;vaultCertificates&quot;: [\r\n",
       "              {\r\n",
       "                &quot;certificateUrl&quot;: &quot;https://{{Microsoft.KeyVault/vaults}}.vault.azure.net/secrets/{{Microsoft.KeyVault/vaults}}/xxxxxxxxxxxxxxxxxxxxxxxxxxxxxxxx&quot;,\r\n",
       "                &quot;certificateStore&quot;: &quot;My&quot;\r\n",
       "              }\r\n",
       "            ]\r\n",
       "          }\r\n",
       "        ]\r\n",
       "      },\r\n",
       "      &quot;storageProfile&quot;: {\r\n",
       "        &quot;imageReference&quot;: {\r\n",
       "          &quot;publisher&quot;: &quot;MicrosoftWindowsServer&quot;,\r\n",
       "          &quot;offer&quot;: &quot;WindowsServer&quot;,\r\n",
       "          &quot;sku&quot;: &quot;2016-Datacenter-with-containers&quot;,\r\n",
       "          &quot;version&quot;: &quot;latest&quot;\r\n",
       "        },\r\n",
       "        &quot;osDisk&quot;: {\r\n",
       "          &quot;caching&quot;: &quot;ReadOnly&quot;,\r\n",
       "          &quot;createOption&quot;: &quot;FromImage&quot;,\r\n",
       "          &quot;diskSizeGB&quot;: 127,\r\n",
       "          &quot;managedDisk&quot;: {\r\n",
       "            &quot;storageAccountType&quot;: &quot;Standard_LRS&quot;\r\n",
       "          }\r\n",
       "        }\r\n",
       "      },\r\n",
       "      &quot;networkProfile&quot;: {\r\n",
       "        &quot;networkInterfaceConfigurations&quot;: [\r\n",
       "          {\r\n",
       "            &quot;name&quot;: &quot;NIC-0&quot;,\r\n",
       "            &quot;properties&quot;: {\r\n",
       "              &quot;primary&quot;: true,\r\n",
       "              &quot;enableAcceleratedNetworking&quot;: false,\r\n",
       "              &quot;dnsSettings&quot;: {\r\n",
       "                &quot;dnsServers&quot;: []\r\n",
       "              },\r\n",
       "              &quot;ipConfigurations&quot;: [\r\n",
       "                {\r\n",
       "                  &quot;name&quot;: &quot;NIC-0&quot;,\r\n",
       "                  &quot;properties&quot;: {\r\n",
       "                    &quot;subnet&quot;: {\r\n",
       "                      &quot;id&quot;: &quot;/subscriptions/{{subscription}}/resourceGroups/{{Microsoft.KeyVault/vaults}}3nt3/providers/Microsoft.Network/virtualNetworks/{{Microsoft.Network/virtualNetworks}}/subnets/Subnet-0&quot;\r\n",
       "                    },\r\n",
       "                    &quot;privateIPAddressVersion&quot;: &quot;IPv4&quot;,\r\n",
       "                    &quot;applicationGatewayBackendAddressPools&quot;: [\r\n",
       "                      {\r\n",
       "                        &quot;id&quot;: &quot;/subscriptions/{{subscription}}/resourceGroups/{{Microsoft.KeyVault/vaults}}3nt3/providers/Microsoft.Network/applicationGateways/{{Microsoft.KeyVault/vaults}}3nt3ag/backendAddressPools/{{Microsoft.KeyVault/vaults}}3nt3agbepool&quot;\r\n",
       "                      }\r\n",
       "                    ],\r\n",
       "                    &quot;loadBalancerBackendAddressPools&quot;: [\r\n",
       "                      {\r\n",
       "                        &quot;id&quot;: &quot;/subscriptions/{{subscription}}/resourceGroups/{{Microsoft.KeyVault/vaults}}3nt3/providers/Microsoft.Network/loadBalancers/LB-{{Microsoft.KeyVault/vaults}}3nt3-{{Microsoft.Compute/virtualMachineScaleSets}}/backendAddressPools/LoadBalancerBEAddressPool&quot;\r\n",
       "                      }\r\n",
       "                    ],\r\n",
       "                    &quot;loadBalancerInboundNatPools&quot;: [\r\n",
       "                      {\r\n",
       "                        &quot;id&quot;: &quot;/subscriptions/{{subscription}}/resourceGroups/{{Microsoft.KeyVault/vaults}}3nt3/providers/Microsoft.Network/loadBalancers/LB-{{Microsoft.KeyVault/vaults}}3nt3-{{Microsoft.Compute/virtualMachineScaleSets}}/inboundNatPools/LoadBalancerBEAddressNatPool&quot;\r\n",
       "                      }\r\n",
       "                    ]\r\n",
       "                  }\r\n",
       "                }\r\n",
       "              ],\r\n",
       "              &quot;enableIPForwarding&quot;: false\r\n",
       "            }\r\n",
       "          }\r\n",
       "        ]\r\n",
       "      },\r\n",
       "      &quot;extensionProfile&quot;: {\r\n",
       "        &quot;extensions&quot;: [\r\n",
       "          {\r\n",
       "            &quot;name&quot;: &quot;{{Microsoft.Compute/virtualMachineScaleSets}}_ServiceFabricNode&quot;,\r\n",
       "            &quot;properties&quot;: {\r\n",
       "              &quot;publisher&quot;: &quot;Microsoft.Azure.ServiceFabric&quot;,\r\n",
       "              &quot;type&quot;: &quot;ServiceFabricNode&quot;,\r\n",
       "              &quot;typeHandlerVersion&quot;: &quot;1.0&quot;,\r\n",
       "              &quot;autoUpgradeMinorVersion&quot;: true,\r\n",
       "              &quot;settings&quot;: {\r\n",
       "                &quot;clusterEndpoint&quot;: &quot;https://{{location}}.servicefabric.azure.com/runtime/clusters/xxxxxxxx-xxxx-xxxx-xxxx-xxxxxxxxxxxx&quot;,\r\n",
       "                &quot;nodeTypeRef&quot;: &quot;{{Microsoft.Compute/virtualMachineScaleSets}}&quot;,\r\n",
       "                &quot;dataPath&quot;: &quot;D:\\\\\\\\SvcFab&quot;,\r\n",
       "                &quot;durabilityLevel&quot;: &quot;Bronze&quot;,\r\n",
       "                &quot;enableParallelJobs&quot;: true,\r\n",
       "                &quot;nicPrefixOverride&quot;: &quot;xxx.xxx.xxx.xxx/24&quot;,\r\n",
       "                &quot;certificate&quot;: {\r\n",
       "                  &quot;thumbprint&quot;: &quot;xxxxxxxxxxxxxxxxxxxxxxxxxxxxxxxxxxxxxxxx&quot;,\r\n",
       "                  &quot;x509StoreName&quot;: &quot;My&quot;\r\n",
       "                }\r\n",
       "              }\r\n",
       "            }\r\n",
       "          },\r\n",
       "          {\r\n",
       "            &quot;name&quot;: &quot;VMDiagnosticsVmExt_vmNodeType0Name&quot;,\r\n",
       "            &quot;properties&quot;: {\r\n",
       "              &quot;publisher&quot;: &quot;Microsoft.Azure.Diagnostics&quot;,\r\n",
       "              &quot;type&quot;: &quot;IaaSDiagnostics&quot;,\r\n",
       "              &quot;typeHandlerVersion&quot;: &quot;1.5&quot;,\r\n",
       "              &quot;autoUpgradeMinorVersion&quot;: true,\r\n",
       "              &quot;settings&quot;: {\r\n",
       "                &quot;WadCfg&quot;: {\r\n",
       "                  &quot;DiagnosticMonitorConfiguration&quot;: {\r\n",
       "                    &quot;overallQuotaInMB&quot;: &quot;50000&quot;,\r\n",
       "                    &quot;EtwProviders&quot;: {\r\n",
       "                      &quot;EtwEventSourceProviderConfiguration&quot;: [\r\n",
       "                        {\r\n",
       "                          &quot;provider&quot;: &quot;Microsoft-ServiceFabric-Actors&quot;,\r\n",
       "                          &quot;scheduledTransferKeywordFilter&quot;: &quot;1&quot;,\r\n",
       "                          &quot;scheduledTransferPeriod&quot;: &quot;PT5M&quot;,\r\n",
       "                          &quot;DefaultEvents&quot;: {\r\n",
       "                            &quot;eventDestination&quot;: &quot;ServiceFabricReliableActorEventTable&quot;\r\n",
       "                          }\r\n",
       "                        },\r\n",
       "                        {\r\n",
       "                          &quot;provider&quot;: &quot;Microsoft-ServiceFabric-Services&quot;,\r\n",
       "                          &quot;scheduledTransferPeriod&quot;: &quot;PT5M&quot;,\r\n",
       "                          &quot;DefaultEvents&quot;: {\r\n",
       "                            &quot;eventDestination&quot;: &quot;ServiceFabricReliableServiceEventTable&quot;\r\n",
       "                          }\r\n",
       "                        }\r\n",
       "                      ],\r\n",
       "                      &quot;EtwManifestProviderConfiguration&quot;: [\r\n",
       "                        {\r\n",
       "                          &quot;provider&quot;: &quot;xxxxxxxx-xxxx-xxxx-xxxx-xxxxxxxxxxxx&quot;,\r\n",
       "                          &quot;scheduledTransferLogLevelFilter&quot;: &quot;Information&quot;,\r\n",
       "                          &quot;scheduledTransferKeywordFilter&quot;: &quot;4611686018427387904&quot;,\r\n",
       "                          &quot;scheduledTransferPeriod&quot;: &quot;PT5M&quot;,\r\n",
       "                          &quot;DefaultEvents&quot;: {\r\n",
       "                            &quot;eventDestination&quot;: &quot;ServiceFabricSystemEventTable&quot;\r\n",
       "                          }\r\n",
       "                        }\r\n",
       "                      ]\r\n",
       "                    }\r\n",
       "                  }\r\n",
       "                },\r\n",
       "                &quot;StorageAccount&quot;: &quot;pryziiw27wgx23&quot;\r\n",
       "              }\r\n",
       "            }\r\n",
       "          },\r\n",
       "          {\r\n",
       "            &quot;name&quot;: &quot;MMAExtension&quot;,\r\n",
       "            &quot;properties&quot;: {\r\n",
       "              &quot;publisher&quot;: &quot;Microsoft.EnterpriseCloud.Monitoring&quot;,\r\n",
       "              &quot;type&quot;: &quot;MicrosoftMonitoringAgent&quot;,\r\n",
       "              &quot;typeHandlerVersion&quot;: &quot;1.0&quot;,\r\n",
       "              &quot;autoUpgradeMinorVersion&quot;: true,\r\n",
       "              &quot;settings&quot;: {\r\n",
       "                &quot;workspaceId&quot;: &quot;xxxxxxxx-xxxx-xxxx-xxxx-xxxxxxxxxxxx&quot;,\r\n",
       "                &quot;stopOnMultipleConnections&quot;: &quot;true&quot;\r\n",
       "              }\r\n",
       "            }\r\n",
       "          }\r\n",
       "        ]\r\n",
       "      }\r\n",
       "    },\r\n",
       "    &quot;overprovision&quot;: false,\r\n",
       "    &quot;singlePlacementGroup&quot;: true\r\n",
       "  },\r\n",
       "  &quot;location&quot;: &quot;{{location}}&quot;,\r\n",
       "  &quot;tags&quot;: {\r\n",
       "    &quot;resourceType&quot;: &quot;Service Fabric&quot;,\r\n",
       "    &quot;clusterName&quot;: &quot;{{Microsoft.KeyVault/vaults}}3nt3&quot;\r\n",
       "  }\r\n",
       "}\r\n",
       "\r\n",
       "</pre>\r\n"
      ]
     },
     "metadata": {},
     "output_type": "display_data"
    },
    {
     "data": {
      "text/html": [
       "<pre>DEBUG: ============================ HTTP RESPONSE ============================\r\n",
       "\r\n",
       "Status Code:\r\n",
       "OK\r\n",
       "\r\n",
       "Headers:\r\n",
       "Cache-Control                 : no-cache\r\n",
       "Pragma                        : no-cache\r\n",
       "Retry-After                   : 10\r\n",
       "Azure-AsyncOperation          : https://management.azure.com/subscriptions/{{subscription}}/providers/Microsoft.Compute/locations/{{location}}/operations/xxxxxxxx-xxxx-xxxx-xxxx-xxxxxxxxxxxx?api-version=2018-10-01\r\n",
       "Azure-AsyncNotification       : Enabled\r\n",
       "x-ms-ratelimit-remaining-resource: Microsoft.Compute/CreateVMScaleSet3Min;56,Microsoft.Compute/CreateVMScaleSet30Min;293,Microsoft.Compute/VmssQueuedVMOperations;4800\r\n",
       "x-ms-request-charge           : 0\r\n",
       "Strict-Transport-Security     : max-age=31536000; includeSubDomains\r\n",
       "x-ms-request-id               : xxxxxxxx-xxxx-xxxx-xxxx-xxxxxxxxxxxx\r\n",
       "Server                        : Microsoft-HTTPAPI/2.0,Microsoft-HTTPAPI/2.0\r\n",
       "x-ms-ratelimit-remaining-subscription-writes: 1199\r\n",
       "x-ms-correlation-request-id   : xxxxxxxx-xxxx-xxxx-xxxx-xxxxxxxxxxxx\r\n",
       "x-ms-routing-request-id       : NORTHCENTRALUS:20200229T151613Z:xxxxxxxx-xxxx-xxxx-xxxx-xxxxxxxxxxxx\r\n",
       "X-Content-Type-Options        : nosniff\r\n",
       "Date                          : Sat, 29 Feb 2020 15:16:12 GMT\r\n",
       "\r\n",
       "Body:\r\n",
       "{\r\n",
       "  &quot;name&quot;: &quot;{{Microsoft.Compute/virtualMachineScaleSets}}&quot;,\r\n",
       "  &quot;id&quot;: &quot;/subscriptions/{{subscription}}/resourceGroups/{{Microsoft.KeyVault/vaults}}3nt3/providers/Microsoft.Compute/virtualMachineScaleSets/{{Microsoft.Compute/virtualMachineScaleSets}}&quot;,\r\n",
       "  &quot;type&quot;: &quot;Microsoft.Compute/virtualMachineScaleSets&quot;,\r\n",
       "  &quot;location&quot;: &quot;{{location}}&quot;,\r\n",
       "  &quot;tags&quot;: {\r\n",
       "    &quot;resourceType&quot;: &quot;Service Fabric&quot;,\r\n",
       "    &quot;clusterName&quot;: &quot;{{Microsoft.KeyVault/vaults}}3nt3&quot;\r\n",
       "  },\r\n",
       "  &quot;sku&quot;: {\r\n",
       "    &quot;name&quot;: &quot;Standard_D2_v2&quot;,\r\n",
       "    &quot;tier&quot;: &quot;Standard&quot;,\r\n",
       "    &quot;capacity&quot;: 3\r\n",
       "  },\r\n",
       "  &quot;properties&quot;: {\r\n",
       "    &quot;singlePlacementGroup&quot;: true,\r\n",
       "    &quot;upgradePolicy&quot;: {\r\n",
       "      &quot;mode&quot;: &quot;Automatic&quot;\r\n",
       "    },\r\n",
       "    &quot;virtualMachineProfile&quot;: {\r\n",
       "      &quot;osProfile&quot;: {\r\n",
       "        &quot;computerNamePrefix&quot;: &quot;{{Microsoft.Compute/virtualMachineScaleSets}}&quot;,\r\n",
       "        &quot;adminUsername&quot;: &quot;{{vmadmin}}&quot;,\r\n",
       "        &quot;windowsConfiguration&quot;: {\r\n",
       "          &quot;provisionVMAgent&quot;: true,\r\n",
       "          &quot;enableAutomaticUpdates&quot;: true\r\n",
       "        },\r\n",
       "        &quot;secrets&quot;: [\r\n",
       "          {\r\n",
       "            &quot;sourceVault&quot;: {\r\n",
       "              &quot;id&quot;: &quot;/subscriptions/{{subscription}}/resourceGroups/{{resourceGroupName}}/providers/Microsoft.KeyVault/vaults/{{Microsoft.KeyVault/vaults}}&quot;\r\n",
       "            },\r\n",
       "            &quot;vaultCertificates&quot;: [\r\n",
       "              {\r\n",
       "                &quot;certificateUrl&quot;: &quot;https://{{Microsoft.KeyVault/vaults}}.vault.azure.net/secrets/{{Microsoft.KeyVault/vaults}}/xxxxxxxxxxxxxxxxxxxxxxxxxxxxxxxx&quot;,\r\n",
       "                &quot;certificateStore&quot;: &quot;My&quot;\r\n",
       "              }\r\n",
       "            ]\r\n",
       "          }\r\n",
       "        ]\r\n",
       "      },\r\n",
       "      &quot;storageProfile&quot;: {\r\n",
       "        &quot;osDisk&quot;: {\r\n",
       "          &quot;createOption&quot;: &quot;FromImage&quot;,\r\n",
       "          &quot;caching&quot;: &quot;ReadOnly&quot;,\r\n",
       "          &quot;managedDisk&quot;: {\r\n",
       "            &quot;storageAccountType&quot;: &quot;Standard_LRS&quot;\r\n",
       "          },\r\n",
       "          &quot;diskSizeGB&quot;: 127\r\n",
       "        },\r\n",
       "        &quot;imageReference&quot;: {\r\n",
       "          &quot;publisher&quot;: &quot;MicrosoftWindowsServer&quot;,\r\n",
       "          &quot;offer&quot;: &quot;WindowsServer&quot;,\r\n",
       "          &quot;sku&quot;: &quot;2016-Datacenter-with-containers&quot;,\r\n",
       "          &quot;version&quot;: &quot;latest&quot;\r\n",
       "        }\r\n",
       "      },\r\n",
       "      &quot;networkProfile&quot;: {\r\n",
       "        &quot;networkInterfaceConfigurations&quot;: [\r\n",
       "          {\r\n",
       "            &quot;name&quot;: &quot;NIC-0&quot;,\r\n",
       "            &quot;properties&quot;: {\r\n",
       "              &quot;primary&quot;: true,\r\n",
       "              &quot;enableAcceleratedNetworking&quot;: false,\r\n",
       "              &quot;dnsSettings&quot;: {\r\n",
       "                &quot;dnsServers&quot;: []\r\n",
       "              },\r\n",
       "              &quot;enableIPForwarding&quot;: false,\r\n",
       "              &quot;ipConfigurations&quot;: [\r\n",
       "                {\r\n",
       "                  &quot;name&quot;: &quot;NIC-0&quot;,\r\n",
       "                  &quot;properties&quot;: {\r\n",
       "                    &quot;subnet&quot;: {\r\n",
       "                      &quot;id&quot;: &quot;/subscriptions/{{subscription}}/resourceGroups/{{Microsoft.KeyVault/vaults}}3nt3/providers/Microsoft.Network/virtualNetworks/{{Microsoft.Network/virtualNetworks}}/subnets/Subnet-0&quot;\r\n",
       "                    },\r\n",
       "                    &quot;privateIPAddressVersion&quot;: &quot;IPv4&quot;,\r\n",
       "                    &quot;loadBalancerBackendAddressPools&quot;: [\r\n",
       "                      {\r\n",
       "                        &quot;id&quot;: &quot;/subscriptions/{{subscription}}/resourceGroups/{{Microsoft.KeyVault/vaults}}3nt3/providers/Microsoft.Network/loadBalancers/LB-{{Microsoft.KeyVault/vaults}}3nt3-{{Microsoft.Compute/virtualMachineScaleSets}}/backendAddressPools/LoadBalancerBEAddressPool&quot;\r\n",
       "                      }\r\n",
       "                    ],\r\n",
       "                    &quot;applicationGatewayBackendAddressPools&quot;: [\r\n",
       "                      {\r\n",
       "                        &quot;id&quot;: &quot;/subscriptions/{{subscription}}/resourceGroups/{{Microsoft.KeyVault/vaults}}3nt3/providers/Microsoft.Network/applicationGateways/{{Microsoft.KeyVault/vaults}}3nt3ag/backendAddressPools/{{Microsoft.KeyVault/vaults}}3nt3agbepool&quot;\r\n",
       "                      }\r\n",
       "                    ],\r\n",
       "                    &quot;loadBalancerInboundNatPools&quot;: [\r\n",
       "                      {\r\n",
       "                        &quot;id&quot;: &quot;/subscriptions/{{subscription}}/resourceGroups/{{Microsoft.KeyVault/vaults}}3nt3/providers/Microsoft.Network/loadBalancers/LB-{{Microsoft.KeyVault/vaults}}3nt3-{{Microsoft.Compute/virtualMachineScaleSets}}/inboundNatPools/LoadBalancerBEAddressNatPool&quot;\r\n",
       "                      }\r\n",
       "                    ]\r\n",
       "                  }\r\n",
       "                }\r\n",
       "              ]\r\n",
       "            }\r\n",
       "          }\r\n",
       "        ]\r\n",
       "      },\r\n",
       "      &quot;extensionProfile&quot;: {\r\n",
       "        &quot;extensions&quot;: [\r\n",
       "          {\r\n",
       "            &quot;name&quot;: &quot;{{Microsoft.Compute/virtualMachineScaleSets}}_ServiceFabricNode&quot;,\r\n",
       "            &quot;properties&quot;: {\r\n",
       "              &quot;autoUpgradeMinorVersion&quot;: true,\r\n",
       "              &quot;publisher&quot;: &quot;Microsoft.Azure.ServiceFabric&quot;,\r\n",
       "              &quot;type&quot;: &quot;ServiceFabricNode&quot;,\r\n",
       "              &quot;typeHandlerVersion&quot;: &quot;1.0&quot;,\r\n",
       "              &quot;settings&quot;: {\r\n",
       "                &quot;clusterEndpoint&quot;: &quot;https://{{location}}.servicefabric.azure.com/runtime/clusters/xxxxxxxx-xxxx-xxxx-xxxx-xxxxxxxxxxxx&quot;,\r\n",
       "                &quot;nodeTypeRef&quot;: &quot;{{Microsoft.Compute/virtualMachineScaleSets}}&quot;,\r\n",
       "                &quot;dataPath&quot;: &quot;D:\\\\\\\\SvcFab&quot;,\r\n",
       "                &quot;durabilityLevel&quot;: &quot;Bronze&quot;,\r\n",
       "                &quot;enableParallelJobs&quot;: true,\r\n",
       "                &quot;nicPrefixOverride&quot;: &quot;xxx.xxx.xxx.xxx/24&quot;,\r\n",
       "                &quot;certificate&quot;: {\r\n",
       "                  &quot;thumbprint&quot;: &quot;xxxxxxxxxxxxxxxxxxxxxxxxxxxxxxxxxxxxxxxx&quot;,\r\n",
       "                  &quot;x509StoreName&quot;: &quot;My&quot;\r\n",
       "                }\r\n",
       "              }\r\n",
       "            }\r\n",
       "          },\r\n",
       "          {\r\n",
       "            &quot;name&quot;: &quot;VMDiagnosticsVmExt_vmNodeType0Name&quot;,\r\n",
       "            &quot;properties&quot;: {\r\n",
       "              &quot;autoUpgradeMinorVersion&quot;: true,\r\n",
       "              &quot;publisher&quot;: &quot;Microsoft.Azure.Diagnostics&quot;,\r\n",
       "              &quot;type&quot;: &quot;IaaSDiagnostics&quot;,\r\n",
       "              &quot;typeHandlerVersion&quot;: &quot;1.5&quot;,\r\n",
       "              &quot;settings&quot;: {\r\n",
       "                &quot;WadCfg&quot;: {\r\n",
       "                  &quot;DiagnosticMonitorConfiguration&quot;: {\r\n",
       "                    &quot;overallQuotaInMB&quot;: &quot;50000&quot;,\r\n",
       "                    &quot;EtwProviders&quot;: {\r\n",
       "                      &quot;EtwEventSourceProviderConfiguration&quot;: [\r\n",
       "                        {\r\n",
       "                          &quot;provider&quot;: &quot;Microsoft-ServiceFabric-Actors&quot;,\r\n",
       "                          &quot;scheduledTransferKeywordFilter&quot;: &quot;1&quot;,\r\n",
       "                          &quot;scheduledTransferPeriod&quot;: &quot;PT5M&quot;,\r\n",
       "                          &quot;DefaultEvents&quot;: {\r\n",
       "                            &quot;eventDestination&quot;: &quot;ServiceFabricReliableActorEventTable&quot;\r\n",
       "                          }\r\n",
       "                        },\r\n",
       "                        {\r\n",
       "                          &quot;provider&quot;: &quot;Microsoft-ServiceFabric-Services&quot;,\r\n",
       "                          &quot;scheduledTransferPeriod&quot;: &quot;PT5M&quot;,\r\n",
       "                          &quot;DefaultEvents&quot;: {\r\n",
       "                            &quot;eventDestination&quot;: &quot;ServiceFabricReliableServiceEventTable&quot;\r\n",
       "                          }\r\n",
       "                        }\r\n",
       "                      ],\r\n",
       "                      &quot;EtwManifestProviderConfiguration&quot;: [\r\n",
       "                        {\r\n",
       "                          &quot;provider&quot;: &quot;xxxxxxxx-xxxx-xxxx-xxxx-xxxxxxxxxxxx&quot;,\r\n",
       "                          &quot;scheduledTransferLogLevelFilter&quot;: &quot;Information&quot;,\r\n",
       "                          &quot;scheduledTransferKeywordFilter&quot;: &quot;4611686018427387904&quot;,\r\n",
       "                          &quot;scheduledTransferPeriod&quot;: &quot;PT5M&quot;,\r\n",
       "                          &quot;DefaultEvents&quot;: {\r\n",
       "                            &quot;eventDestination&quot;: &quot;ServiceFabricSystemEventTable&quot;\r\n",
       "                          }\r\n",
       "                        }\r\n",
       "                      ]\r\n",
       "                    }\r\n",
       "                  }\r\n",
       "                },\r\n",
       "                &quot;StorageAccount&quot;: &quot;pryziiw27wgx23&quot;\r\n",
       "              }\r\n",
       "            }\r\n",
       "          },\r\n",
       "          {\r\n",
       "            &quot;name&quot;: &quot;MMAExtension&quot;,\r\n",
       "            &quot;properties&quot;: {\r\n",
       "              &quot;autoUpgradeMinorVersion&quot;: true,\r\n",
       "              &quot;publisher&quot;: &quot;Microsoft.EnterpriseCloud.Monitoring&quot;,\r\n",
       "              &quot;type&quot;: &quot;MicrosoftMonitoringAgent&quot;,\r\n",
       "              &quot;typeHandlerVersion&quot;: &quot;1.0&quot;,\r\n",
       "              &quot;settings&quot;: {\r\n",
       "                &quot;workspaceId&quot;: &quot;xxxxxxxx-xxxx-xxxx-xxxx-xxxxxxxxxxxx&quot;,\r\n",
       "                &quot;stopOnMultipleConnections&quot;: &quot;true&quot;\r\n",
       "              }\r\n",
       "            }\r\n",
       "          }\r\n",
       "        ]\r\n",
       "      }\r\n",
       "    },\r\n",
       "    &quot;provisioningState&quot;: &quot;Updating&quot;,\r\n",
       "    &quot;overprovision&quot;: false,\r\n",
       "    &quot;doNotRunExtensionsOnOverprovisionedVMs&quot;: false,\r\n",
       "    &quot;uniqueId&quot;: &quot;xxxxxxxx-xxxx-xxxx-xxxx-xxxxxxxxxxxx&quot;\r\n",
       "  }\r\n",
       "}\r\n",
       "\r\n",
       "</pre>\r\n"
      ]
     },
     "metadata": {},
     "output_type": "display_data"
    },
    {
     "data": {
      "text/html": [
       "<pre>DEBUG: ============================ HTTP REQUEST ============================\r\n",
       "\r\n",
       "HTTP Method:\r\n",
       "GET\r\n",
       "\r\n",
       "Absolute Uri:\r\n",
       "https://management.azure.com/subscriptions/{{subscription}}/providers/Microsoft.Compute/locations/{{location}}/operations/xxxxxxxx-xxxx-xxxx-xxxx-xxxxxxxxxxxx?api-version=2018-10-01\r\n",
       "\r\n",
       "Headers:\r\n",
       "\r\n",
       "Body:\r\n",
       "\r\n",
       "\r\n",
       "</pre>\r\n"
      ]
     },
     "metadata": {},
     "output_type": "display_data"
    },
    {
     "data": {
      "text/html": [
       "<pre>DEBUG: ============================ HTTP RESPONSE ============================\r\n",
       "\r\n",
       "Status Code:\r\n",
       "OK\r\n",
       "\r\n",
       "Headers:\r\n",
       "Cache-Control                 : no-cache\r\n",
       "Pragma                        : no-cache\r\n",
       "x-ms-ratelimit-remaining-resource: Microsoft.Compute/GetOperation3Min;14998,Microsoft.Compute/GetOperation30Min;29998\r\n",
       "Strict-Transport-Security     : max-age=31536000; includeSubDomains\r\n",
       "x-ms-request-id               : xxxxxxxx-xxxx-xxxx-xxxx-xxxxxxxxxxxx\r\n",
       "Server                        : Microsoft-HTTPAPI/2.0,Microsoft-HTTPAPI/2.0\r\n",
       "x-ms-ratelimit-remaining-subscription-reads: 11999\r\n",
       "x-ms-correlation-request-id   : xxxxxxxx-xxxx-xxxx-xxxx-xxxxxxxxxxxx\r\n",
       "x-ms-routing-request-id       : NORTHCENTRALUS:20200229T151626Z:xxxxxxxx-xxxx-xxxx-xxxx-xxxxxxxxxxxx\r\n",
       "X-Content-Type-Options        : nosniff\r\n",
       "Date                          : Sat, 29 Feb 2020 15:16:26 GMT\r\n",
       "\r\n",
       "Body:\r\n",
       "{\r\n",
       "  &quot;startTime&quot;: &quot;2020-02-29T10:16:12.8883785-05:00&quot;,\r\n",
       "  &quot;endTime&quot;: &quot;2020-02-29T10:16:13.3884191-05:00&quot;,\r\n",
       "  &quot;status&quot;: &quot;Succeeded&quot;,\r\n",
       "  &quot;name&quot;: &quot;xxxxxxxx-xxxx-xxxx-xxxx-xxxxxxxxxxxx&quot;\r\n",
       "}\r\n",
       "\r\n",
       "</pre>\r\n"
      ]
     },
     "metadata": {},
     "output_type": "display_data"
    },
    {
     "data": {
      "text/html": [
       "<pre>DEBUG: ============================ HTTP REQUEST ============================\r\n",
       "\r\n",
       "HTTP Method:\r\n",
       "GET\r\n",
       "\r\n",
       "Absolute Uri:\r\n",
       "https://management.azure.com/subscriptions/{{subscription}}/resourceGroups/{{Microsoft.KeyVault/vaults}}3nt3/providers/Microsoft.Compute/virtualMachineScaleSets/{{Microsoft.Compute/virtualMachineScaleSets}}?api-version=2018-10-01\r\n",
       "\r\n",
       "Headers:\r\n",
       "\r\n",
       "Body:\r\n",
       "\r\n",
       "\r\n",
       "</pre>\r\n"
      ]
     },
     "metadata": {},
     "output_type": "display_data"
    },
    {
     "data": {
      "text/html": [
       "<pre>DEBUG: ============================ HTTP RESPONSE ============================\r\n",
       "\r\n",
       "Status Code:\r\n",
       "OK\r\n",
       "\r\n",
       "Headers:\r\n",
       "Cache-Control                 : no-cache\r\n",
       "Pragma                        : no-cache\r\n",
       "x-ms-ratelimit-remaining-resource: Microsoft.Compute/GetVMScaleSet3Min;394,Microsoft.Compute/GetVMScaleSet30Min;2588\r\n",
       "Strict-Transport-Security     : max-age=31536000; includeSubDomains\r\n",
       "x-ms-request-id               : xxxxxxxx-xxxx-xxxx-xxxx-xxxxxxxxxxxx\r\n",
       "Server                        : Microsoft-HTTPAPI/2.0,Microsoft-HTTPAPI/2.0\r\n",
       "x-ms-ratelimit-remaining-subscription-reads: 11998\r\n",
       "x-ms-correlation-request-id   : xxxxxxxx-xxxx-xxxx-xxxx-xxxxxxxxxxxx\r\n",
       "x-ms-routing-request-id       : NORTHCENTRALUS:20200229T151626Z:xxxxxxxx-xxxx-xxxx-xxxx-xxxxxxxxxxxx\r\n",
       "X-Content-Type-Options        : nosniff\r\n",
       "Date                          : Sat, 29 Feb 2020 15:16:26 GMT\r\n",
       "\r\n",
       "Body:\r\n",
       "{\r\n",
       "  &quot;name&quot;: &quot;{{Microsoft.Compute/virtualMachineScaleSets}}&quot;,\r\n",
       "  &quot;id&quot;: &quot;/subscriptions/{{subscription}}/resourceGroups/{{Microsoft.KeyVault/vaults}}3nt3/providers/Microsoft.Compute/virtualMachineScaleSets/{{Microsoft.Compute/virtualMachineScaleSets}}&quot;,\r\n",
       "  &quot;type&quot;: &quot;Microsoft.Compute/virtualMachineScaleSets&quot;,\r\n",
       "  &quot;location&quot;: &quot;{{location}}&quot;,\r\n",
       "  &quot;tags&quot;: {\r\n",
       "    &quot;resourceType&quot;: &quot;Service Fabric&quot;,\r\n",
       "    &quot;clusterName&quot;: &quot;{{Microsoft.KeyVault/vaults}}3nt3&quot;\r\n",
       "  },\r\n",
       "  &quot;sku&quot;: {\r\n",
       "    &quot;name&quot;: &quot;Standard_D2_v2&quot;,\r\n",
       "    &quot;tier&quot;: &quot;Standard&quot;,\r\n",
       "    &quot;capacity&quot;: 3\r\n",
       "  },\r\n",
       "  &quot;properties&quot;: {\r\n",
       "    &quot;singlePlacementGroup&quot;: true,\r\n",
       "    &quot;upgradePolicy&quot;: {\r\n",
       "      &quot;mode&quot;: &quot;Automatic&quot;\r\n",
       "    },\r\n",
       "    &quot;virtualMachineProfile&quot;: {\r\n",
       "      &quot;osProfile&quot;: {\r\n",
       "        &quot;computerNamePrefix&quot;: &quot;{{Microsoft.Compute/virtualMachineScaleSets}}&quot;,\r\n",
       "        &quot;adminUsername&quot;: &quot;{{vmadmin}}&quot;,\r\n",
       "        &quot;windowsConfiguration&quot;: {\r\n",
       "          &quot;provisionVMAgent&quot;: true,\r\n",
       "          &quot;enableAutomaticUpdates&quot;: true\r\n",
       "        },\r\n",
       "        &quot;secrets&quot;: [\r\n",
       "          {\r\n",
       "            &quot;sourceVault&quot;: {\r\n",
       "              &quot;id&quot;: &quot;/subscriptions/{{subscription}}/resourceGroups/{{resourceGroupName}}/providers/Microsoft.KeyVault/vaults/{{Microsoft.KeyVault/vaults}}&quot;\r\n",
       "            },\r\n",
       "            &quot;vaultCertificates&quot;: [\r\n",
       "              {\r\n",
       "                &quot;certificateUrl&quot;: &quot;https://{{Microsoft.KeyVault/vaults}}.vault.azure.net/secrets/{{Microsoft.KeyVault/vaults}}/xxxxxxxxxxxxxxxxxxxxxxxxxxxxxxxx&quot;,\r\n",
       "                &quot;certificateStore&quot;: &quot;My&quot;\r\n",
       "              }\r\n",
       "            ]\r\n",
       "          }\r\n",
       "        ]\r\n",
       "      },\r\n",
       "      &quot;storageProfile&quot;: {\r\n",
       "        &quot;osDisk&quot;: {\r\n",
       "          &quot;createOption&quot;: &quot;FromImage&quot;,\r\n",
       "          &quot;caching&quot;: &quot;ReadOnly&quot;,\r\n",
       "          &quot;managedDisk&quot;: {\r\n",
       "            &quot;storageAccountType&quot;: &quot;Standard_LRS&quot;\r\n",
       "          },\r\n",
       "          &quot;diskSizeGB&quot;: 127\r\n",
       "        },\r\n",
       "        &quot;imageReference&quot;: {\r\n",
       "          &quot;publisher&quot;: &quot;MicrosoftWindowsServer&quot;,\r\n",
       "          &quot;offer&quot;: &quot;WindowsServer&quot;,\r\n",
       "          &quot;sku&quot;: &quot;2016-Datacenter-with-containers&quot;,\r\n",
       "          &quot;version&quot;: &quot;latest&quot;\r\n",
       "        }\r\n",
       "      },\r\n",
       "      &quot;networkProfile&quot;: {\r\n",
       "        &quot;networkInterfaceConfigurations&quot;: [\r\n",
       "          {\r\n",
       "            &quot;name&quot;: &quot;NIC-0&quot;,\r\n",
       "            &quot;properties&quot;: {\r\n",
       "              &quot;primary&quot;: true,\r\n",
       "              &quot;enableAcceleratedNetworking&quot;: false,\r\n",
       "              &quot;dnsSettings&quot;: {\r\n",
       "                &quot;dnsServers&quot;: []\r\n",
       "              },\r\n",
       "              &quot;enableIPForwarding&quot;: false,\r\n",
       "              &quot;ipConfigurations&quot;: [\r\n",
       "                {\r\n",
       "                  &quot;name&quot;: &quot;NIC-0&quot;,\r\n",
       "                  &quot;properties&quot;: {\r\n",
       "                    &quot;subnet&quot;: {\r\n",
       "                      &quot;id&quot;: &quot;/subscriptions/{{subscription}}/resourceGroups/{{Microsoft.KeyVault/vaults}}3nt3/providers/Microsoft.Network/virtualNetworks/{{Microsoft.Network/virtualNetworks}}/subnets/Subnet-0&quot;\r\n",
       "                    },\r\n",
       "                    &quot;privateIPAddressVersion&quot;: &quot;IPv4&quot;,\r\n",
       "                    &quot;loadBalancerBackendAddressPools&quot;: [\r\n",
       "                      {\r\n",
       "                        &quot;id&quot;: &quot;/subscriptions/{{subscription}}/resourceGroups/{{Microsoft.KeyVault/vaults}}3nt3/providers/Microsoft.Network/loadBalancers/LB-{{Microsoft.KeyVault/vaults}}3nt3-{{Microsoft.Compute/virtualMachineScaleSets}}/backendAddressPools/LoadBalancerBEAddressPool&quot;\r\n",
       "                      }\r\n",
       "                    ],\r\n",
       "                    &quot;applicationGatewayBackendAddressPools&quot;: [\r\n",
       "                      {\r\n",
       "                        &quot;id&quot;: &quot;/subscriptions/{{subscription}}/resourceGroups/{{Microsoft.KeyVault/vaults}}3nt3/providers/Microsoft.Network/applicationGateways/{{Microsoft.KeyVault/vaults}}3nt3ag/backendAddressPools/{{Microsoft.KeyVault/vaults}}3nt3agbepool&quot;\r\n",
       "                      }\r\n",
       "                    ],\r\n",
       "                    &quot;loadBalancerInboundNatPools&quot;: [\r\n",
       "                      {\r\n",
       "                        &quot;id&quot;: &quot;/subscriptions/{{subscription}}/resourceGroups/{{Microsoft.KeyVault/vaults}}3nt3/providers/Microsoft.Network/loadBalancers/LB-{{Microsoft.KeyVault/vaults}}3nt3-{{Microsoft.Compute/virtualMachineScaleSets}}/inboundNatPools/LoadBalancerBEAddressNatPool&quot;\r\n",
       "                      }\r\n",
       "                    ]\r\n",
       "                  }\r\n",
       "                }\r\n",
       "              ]\r\n",
       "            }\r\n",
       "          }\r\n",
       "        ]\r\n",
       "      },\r\n",
       "      &quot;extensionProfile&quot;: {\r\n",
       "        &quot;extensions&quot;: [\r\n",
       "          {\r\n",
       "            &quot;name&quot;: &quot;{{Microsoft.Compute/virtualMachineScaleSets}}_ServiceFabricNode&quot;,\r\n",
       "            &quot;properties&quot;: {\r\n",
       "              &quot;autoUpgradeMinorVersion&quot;: true,\r\n",
       "              &quot;publisher&quot;: &quot;Microsoft.Azure.ServiceFabric&quot;,\r\n",
       "              &quot;type&quot;: &quot;ServiceFabricNode&quot;,\r\n",
       "              &quot;typeHandlerVersion&quot;: &quot;1.0&quot;,\r\n",
       "              &quot;settings&quot;: {\r\n",
       "                &quot;clusterEndpoint&quot;: &quot;https://{{location}}.servicefabric.azure.com/runtime/clusters/xxxxxxxx-xxxx-xxxx-xxxx-xxxxxxxxxxxx&quot;,\r\n",
       "                &quot;nodeTypeRef&quot;: &quot;{{Microsoft.Compute/virtualMachineScaleSets}}&quot;,\r\n",
       "                &quot;dataPath&quot;: &quot;D:\\\\\\\\SvcFab&quot;,\r\n",
       "                &quot;durabilityLevel&quot;: &quot;Bronze&quot;,\r\n",
       "                &quot;enableParallelJobs&quot;: true,\r\n",
       "                &quot;nicPrefixOverride&quot;: &quot;xxx.xxx.xxx.xxx/24&quot;,\r\n",
       "                &quot;certificate&quot;: {\r\n",
       "                  &quot;thumbprint&quot;: &quot;xxxxxxxxxxxxxxxxxxxxxxxxxxxxxxxxxxxxxxxx&quot;,\r\n",
       "                  &quot;x509StoreName&quot;: &quot;My&quot;\r\n",
       "                }\r\n",
       "              }\r\n",
       "            }\r\n",
       "          },\r\n",
       "          {\r\n",
       "            &quot;name&quot;: &quot;VMDiagnosticsVmExt_vmNodeType0Name&quot;,\r\n",
       "            &quot;properties&quot;: {\r\n",
       "              &quot;autoUpgradeMinorVersion&quot;: true,\r\n",
       "              &quot;publisher&quot;: &quot;Microsoft.Azure.Diagnostics&quot;,\r\n",
       "              &quot;type&quot;: &quot;IaaSDiagnostics&quot;,\r\n",
       "              &quot;typeHandlerVersion&quot;: &quot;1.5&quot;,\r\n",
       "              &quot;settings&quot;: {\r\n",
       "                &quot;WadCfg&quot;: {\r\n",
       "                  &quot;DiagnosticMonitorConfiguration&quot;: {\r\n",
       "                    &quot;overallQuotaInMB&quot;: &quot;50000&quot;,\r\n",
       "                    &quot;EtwProviders&quot;: {\r\n",
       "                      &quot;EtwEventSourceProviderConfiguration&quot;: [\r\n",
       "                        {\r\n",
       "                          &quot;provider&quot;: &quot;Microsoft-ServiceFabric-Actors&quot;,\r\n",
       "                          &quot;scheduledTransferKeywordFilter&quot;: &quot;1&quot;,\r\n",
       "                          &quot;scheduledTransferPeriod&quot;: &quot;PT5M&quot;,\r\n",
       "                          &quot;DefaultEvents&quot;: {\r\n",
       "                            &quot;eventDestination&quot;: &quot;ServiceFabricReliableActorEventTable&quot;\r\n",
       "                          }\r\n",
       "                        },\r\n",
       "                        {\r\n",
       "                          &quot;provider&quot;: &quot;Microsoft-ServiceFabric-Services&quot;,\r\n",
       "                          &quot;scheduledTransferPeriod&quot;: &quot;PT5M&quot;,\r\n",
       "                          &quot;DefaultEvents&quot;: {\r\n",
       "                            &quot;eventDestination&quot;: &quot;ServiceFabricReliableServiceEventTable&quot;\r\n",
       "                          }\r\n",
       "                        }\r\n",
       "                      ],\r\n",
       "                      &quot;EtwManifestProviderConfiguration&quot;: [\r\n",
       "                        {\r\n",
       "                          &quot;provider&quot;: &quot;xxxxxxxx-xxxx-xxxx-xxxx-xxxxxxxxxxxx&quot;,\r\n",
       "                          &quot;scheduledTransferLogLevelFilter&quot;: &quot;Information&quot;,\r\n",
       "                          &quot;scheduledTransferKeywordFilter&quot;: &quot;4611686018427387904&quot;,\r\n",
       "                          &quot;scheduledTransferPeriod&quot;: &quot;PT5M&quot;,\r\n",
       "                          &quot;DefaultEvents&quot;: {\r\n",
       "                            &quot;eventDestination&quot;: &quot;ServiceFabricSystemEventTable&quot;\r\n",
       "                          }\r\n",
       "                        }\r\n",
       "                      ]\r\n",
       "                    }\r\n",
       "                  }\r\n",
       "                },\r\n",
       "                &quot;StorageAccount&quot;: &quot;pryziiw27wgx23&quot;\r\n",
       "              }\r\n",
       "            }\r\n",
       "          },\r\n",
       "          {\r\n",
       "            &quot;name&quot;: &quot;MMAExtension&quot;,\r\n",
       "            &quot;properties&quot;: {\r\n",
       "              &quot;autoUpgradeMinorVersion&quot;: true,\r\n",
       "              &quot;publisher&quot;: &quot;Microsoft.EnterpriseCloud.Monitoring&quot;,\r\n",
       "              &quot;type&quot;: &quot;MicrosoftMonitoringAgent&quot;,\r\n",
       "              &quot;typeHandlerVersion&quot;: &quot;1.0&quot;,\r\n",
       "              &quot;settings&quot;: {\r\n",
       "                &quot;workspaceId&quot;: &quot;xxxxxxxx-xxxx-xxxx-xxxx-xxxxxxxxxxxx&quot;,\r\n",
       "                &quot;stopOnMultipleConnections&quot;: &quot;true&quot;\r\n",
       "              }\r\n",
       "            }\r\n",
       "          }\r\n",
       "        ]\r\n",
       "      }\r\n",
       "    },\r\n",
       "    &quot;provisioningState&quot;: &quot;Succeeded&quot;,\r\n",
       "    &quot;overprovision&quot;: false,\r\n",
       "    &quot;doNotRunExtensionsOnOverprovisionedVMs&quot;: false,\r\n",
       "    &quot;uniqueId&quot;: &quot;xxxxxxxx-xxxx-xxxx-xxxx-xxxxxxxxxxxx&quot;\r\n",
       "  }\r\n",
       "}\r\n",
       "\r\n",
       "</pre>\r\n"
      ]
     },
     "metadata": {},
     "output_type": "display_data"
    },
    {
     "data": {
      "text/html": [
       "<pre></pre>\r\n"
      ]
     },
     "metadata": {},
     "output_type": "display_data"
    },
    {
     "data": {
      "text/html": [
       "<pre></pre>\r\n"
      ]
     },
     "metadata": {},
     "output_type": "display_data"
    },
    {
     "data": {
      "text/html": [
       "<pre>ResourceGroupName                                 : {{Microsoft.KeyVault/vaults}}3nt3</pre>\r\n"
      ]
     },
     "metadata": {},
     "output_type": "display_data"
    },
    {
     "data": {
      "text/html": [
       "<pre>Sku                                               : </pre>\r\n"
      ]
     },
     "metadata": {},
     "output_type": "display_data"
    },
    {
     "data": {
      "text/html": [
       "<pre>  Name                                            : Standard_D2_v2</pre>\r\n"
      ]
     },
     "metadata": {},
     "output_type": "display_data"
    },
    {
     "data": {
      "text/html": [
       "<pre>  Tier                                            : Standard</pre>\r\n"
      ]
     },
     "metadata": {},
     "output_type": "display_data"
    },
    {
     "data": {
      "text/html": [
       "<pre>  Capacity                                        : 3</pre>\r\n"
      ]
     },
     "metadata": {},
     "output_type": "display_data"
    },
    {
     "data": {
      "text/html": [
       "<pre>UpgradePolicy                                     : </pre>\r\n"
      ]
     },
     "metadata": {},
     "output_type": "display_data"
    },
    {
     "data": {
      "text/html": [
       "<pre>  Mode                                            : Automatic</pre>\r\n"
      ]
     },
     "metadata": {},
     "output_type": "display_data"
    },
    {
     "data": {
      "text/html": [
       "<pre>VirtualMachineProfile                             : </pre>\r\n"
      ]
     },
     "metadata": {},
     "output_type": "display_data"
    },
    {
     "data": {
      "text/html": [
       "<pre>  OsProfile                                       : </pre>\r\n"
      ]
     },
     "metadata": {},
     "output_type": "display_data"
    },
    {
     "data": {
      "text/html": [
       "<pre>    ComputerNamePrefix                            : {{Microsoft.Compute/virtualMachineScaleSets}}</pre>\r\n"
      ]
     },
     "metadata": {},
     "output_type": "display_data"
    },
    {
     "data": {
      "text/html": [
       "<pre>    AdminUsername                                 : {{vmadmin}}</pre>\r\n"
      ]
     },
     "metadata": {},
     "output_type": "display_data"
    },
    {
     "data": {
      "text/html": [
       "<pre>    WindowsConfiguration                          : </pre>\r\n"
      ]
     },
     "metadata": {},
     "output_type": "display_data"
    },
    {
     "data": {
      "text/html": [
       "<pre>      ProvisionVMAgent                            : True</pre>\r\n"
      ]
     },
     "metadata": {},
     "output_type": "display_data"
    },
    {
     "data": {
      "text/html": [
       "<pre>      EnableAutomaticUpdates                      : True</pre>\r\n"
      ]
     },
     "metadata": {},
     "output_type": "display_data"
    },
    {
     "data": {
      "text/html": [
       "<pre>    Secrets[0]                                    : </pre>\r\n"
      ]
     },
     "metadata": {},
     "output_type": "display_data"
    },
    {
     "data": {
      "text/html": [
       "<pre>      SourceVault                                 : </pre>\r\n"
      ]
     },
     "metadata": {},
     "output_type": "display_data"
    },
    {
     "data": {
      "text/html": [
       "<pre>        Id                                        : /subscriptions/{{subscription}}/resourceGroups/{{resourceGroupName}}/providers/Microsoft.KeyVault/vaults/{{Microsoft.KeyVault/vaults}}</pre>\r\n"
      ]
     },
     "metadata": {},
     "output_type": "display_data"
    },
    {
     "data": {
      "text/html": [
       "<pre>      VaultCertificates[0]                        : </pre>\r\n"
      ]
     },
     "metadata": {},
     "output_type": "display_data"
    },
    {
     "data": {
      "text/html": [
       "<pre>        CertificateUrl                            : https://{{Microsoft.KeyVault/vaults}}.vault.azure.net/secrets/{{Microsoft.KeyVault/vaults}}/xxxxxxxxxxxxxxxxxxxxxxxxxxxxxxxx</pre>\r\n"
      ]
     },
     "metadata": {},
     "output_type": "display_data"
    },
    {
     "data": {
      "text/html": [
       "<pre>        CertificateStore                          : My</pre>\r\n"
      ]
     },
     "metadata": {},
     "output_type": "display_data"
    },
    {
     "data": {
      "text/html": [
       "<pre>  StorageProfile                                  : </pre>\r\n"
      ]
     },
     "metadata": {},
     "output_type": "display_data"
    },
    {
     "data": {
      "text/html": [
       "<pre>    ImageReference                                : </pre>\r\n"
      ]
     },
     "metadata": {},
     "output_type": "display_data"
    },
    {
     "data": {
      "text/html": [
       "<pre>      Publisher                                   : MicrosoftWindowsServer</pre>\r\n"
      ]
     },
     "metadata": {},
     "output_type": "display_data"
    },
    {
     "data": {
      "text/html": [
       "<pre>      Offer                                       : WindowsServer</pre>\r\n"
      ]
     },
     "metadata": {},
     "output_type": "display_data"
    },
    {
     "data": {
      "text/html": [
       "<pre>      Sku                                         : 2016-Datacenter-with-containers</pre>\r\n"
      ]
     },
     "metadata": {},
     "output_type": "display_data"
    },
    {
     "data": {
      "text/html": [
       "<pre>      Version                                     : latest</pre>\r\n"
      ]
     },
     "metadata": {},
     "output_type": "display_data"
    },
    {
     "data": {
      "text/html": [
       "<pre>    OsDisk                                        : </pre>\r\n"
      ]
     },
     "metadata": {},
     "output_type": "display_data"
    },
    {
     "data": {
      "text/html": [
       "<pre>      Caching                                     : ReadOnly</pre>\r\n"
      ]
     },
     "metadata": {},
     "output_type": "display_data"
    },
    {
     "data": {
      "text/html": [
       "<pre>      CreateOption                                : FromImage</pre>\r\n"
      ]
     },
     "metadata": {},
     "output_type": "display_data"
    },
    {
     "data": {
      "text/html": [
       "<pre>      DiskSizeGB                                  : 127</pre>\r\n"
      ]
     },
     "metadata": {},
     "output_type": "display_data"
    },
    {
     "data": {
      "text/html": [
       "<pre>      ManagedDisk                                 : </pre>\r\n"
      ]
     },
     "metadata": {},
     "output_type": "display_data"
    },
    {
     "data": {
      "text/html": [
       "<pre>        StorageAccountType                        : Standard_LRS</pre>\r\n"
      ]
     },
     "metadata": {},
     "output_type": "display_data"
    },
    {
     "data": {
      "text/html": [
       "<pre>  NetworkProfile                                  : </pre>\r\n"
      ]
     },
     "metadata": {},
     "output_type": "display_data"
    },
    {
     "data": {
      "text/html": [
       "<pre>    NetworkInterfaceConfigurations[0]             : </pre>\r\n"
      ]
     },
     "metadata": {},
     "output_type": "display_data"
    },
    {
     "data": {
      "text/html": [
       "<pre>      Name                                        : NIC-0</pre>\r\n"
      ]
     },
     "metadata": {},
     "output_type": "display_data"
    },
    {
     "data": {
      "text/html": [
       "<pre>      Primary                                     : True</pre>\r\n"
      ]
     },
     "metadata": {},
     "output_type": "display_data"
    },
    {
     "data": {
      "text/html": [
       "<pre>      EnableAcceleratedNetworking                 : False</pre>\r\n"
      ]
     },
     "metadata": {},
     "output_type": "display_data"
    },
    {
     "data": {
      "text/html": [
       "<pre>      DnsSettings                                 : </pre>\r\n"
      ]
     },
     "metadata": {},
     "output_type": "display_data"
    },
    {
     "data": {
      "text/html": [
       "<pre>      IpConfigurations[0]                         : </pre>\r\n"
      ]
     },
     "metadata": {},
     "output_type": "display_data"
    },
    {
     "data": {
      "text/html": [
       "<pre>        Name                                      : NIC-0</pre>\r\n"
      ]
     },
     "metadata": {},
     "output_type": "display_data"
    },
    {
     "data": {
      "text/html": [
       "<pre>        Subnet                                    : </pre>\r\n"
      ]
     },
     "metadata": {},
     "output_type": "display_data"
    },
    {
     "data": {
      "text/html": [
       "<pre>          Id                                      : /subscriptions/{{subscription}}/resourceGroups/{{Microsoft.KeyVault/vaults}}3nt3/providers/Microsoft.Network/virtualNetworks/{{Microsoft.Network/virtualNetworks}}/subnets/Subnet-0</pre>\r\n"
      ]
     },
     "metadata": {},
     "output_type": "display_data"
    },
    {
     "data": {
      "text/html": [
       "<pre>        PrivateIPAddressVersion                   : IPv4</pre>\r\n"
      ]
     },
     "metadata": {},
     "output_type": "display_data"
    },
    {
     "data": {
      "text/html": [
       "<pre>        ApplicationGatewayBackendAddressPools[0]  : </pre>\r\n"
      ]
     },
     "metadata": {},
     "output_type": "display_data"
    },
    {
     "data": {
      "text/html": [
       "<pre>          Id                                      : /subscriptions/{{subscription}}/resourceGroups/{{Microsoft.KeyVault/vaults}}3nt3/providers/Microsoft.Network/applicationGateways/{{Microsoft.KeyVault/vaults}}3nt3ag/backendAddressPools/{{Microsoft.KeyVault/vaults}}3nt3agbepool</pre>\r\n"
      ]
     },
     "metadata": {},
     "output_type": "display_data"
    },
    {
     "data": {
      "text/html": [
       "<pre>        LoadBalancerBackendAddressPools[0]        : </pre>\r\n"
      ]
     },
     "metadata": {},
     "output_type": "display_data"
    },
    {
     "data": {
      "text/html": [
       "<pre>          Id                                      : /subscriptions/{{subscription}}/resourceGroups/{{Microsoft.KeyVault/vaults}}3nt3/providers/Microsoft.Network/loadBalancers/LB-{{Microsoft.KeyVault/vaults}}3nt3-{{Microsoft.Compute/virtualMachineScaleSets}}/backendAddressPools/LoadBalancerBEAddressPool</pre>\r\n"
      ]
     },
     "metadata": {},
     "output_type": "display_data"
    },
    {
     "data": {
      "text/html": [
       "<pre>        LoadBalancerInboundNatPools[0]            : </pre>\r\n"
      ]
     },
     "metadata": {},
     "output_type": "display_data"
    },
    {
     "data": {
      "text/html": [
       "<pre>          Id                                      : /subscriptions/{{subscription}}/resourceGroups/{{Microsoft.KeyVault/vaults}}3nt3/providers/Microsoft.Network/loadBalancers/LB-{{Microsoft.KeyVault/vaults}}3nt3-{{Microsoft.Compute/virtualMachineScaleSets}}/inboundNatPools/LoadBalancerBEAddressNatPool</pre>\r\n"
      ]
     },
     "metadata": {},
     "output_type": "display_data"
    },
    {
     "data": {
      "text/html": [
       "<pre>      EnableIPForwarding                          : False</pre>\r\n"
      ]
     },
     "metadata": {},
     "output_type": "display_data"
    },
    {
     "data": {
      "text/html": [
       "<pre>  ExtensionProfile                                : </pre>\r\n"
      ]
     },
     "metadata": {},
     "output_type": "display_data"
    },
    {
     "data": {
      "text/html": [
       "<pre>    Extensions[0]                                 : </pre>\r\n"
      ]
     },
     "metadata": {},
     "output_type": "display_data"
    },
    {
     "data": {
      "text/html": [
       "<pre>      Name                                        : {{Microsoft.Compute/virtualMachineScaleSets}}_ServiceFabricNode</pre>\r\n"
      ]
     },
     "metadata": {},
     "output_type": "display_data"
    },
    {
     "data": {
      "text/html": [
       "<pre>      Publisher                                   : Microsoft.Azure.ServiceFabric</pre>\r\n"
      ]
     },
     "metadata": {},
     "output_type": "display_data"
    },
    {
     "data": {
      "text/html": [
       "<pre>      Type                                        : ServiceFabricNode</pre>\r\n"
      ]
     },
     "metadata": {},
     "output_type": "display_data"
    },
    {
     "data": {
      "text/html": [
       "<pre>      TypeHandlerVersion                          : 1.0</pre>\r\n"
      ]
     },
     "metadata": {},
     "output_type": "display_data"
    },
    {
     "data": {
      "text/html": [
       "<pre>      AutoUpgradeMinorVersion                     : True</pre>\r\n"
      ]
     },
     "metadata": {},
     "output_type": "display_data"
    },
    {
     "data": {
      "text/html": [
       "<pre>      Settings                                    : {&quot;clusterEndpoint&quot;:&quot;https://{{location}}.servicefabric.azure.com/runtime/clusters/xxxxxxxx-xxxx-xxxx-xxxx-xxxxxxxxxxxx&quot;,&quot;nodeTypeRef&quot;:&quot;{{Microsoft.Compute/virtualMachineScaleSets}}&quot;,&quot;dataPath&quot;:&quot;D:\\\\\\\\SvcFab&quot;,&quot;durabilityLevel&quot;:&quot;Bronze&quot;,&quot;enableParallelJobs&quot;:true,&quot;nicPrefixOverride&quot;:&quot;xxx.xxx.xxx.xxx/24&quot;,&quot;certificate&quot;:{&quot;thumbprint&quot;:&quot;xxxxxxxxxxxxxxxxxxxxxxxxxxxxxxxxxxxxxxxx&quot;,&quot;x509StoreName&quot;:&quot;My&quot;}}</pre>\r\n"
      ]
     },
     "metadata": {},
     "output_type": "display_data"
    },
    {
     "data": {
      "text/html": [
       "<pre>    Extensions[1]                                 : </pre>\r\n"
      ]
     },
     "metadata": {},
     "output_type": "display_data"
    },
    {
     "data": {
      "text/html": [
       "<pre>      Name                                        : VMDiagnosticsVmExt_vmNodeType0Name</pre>\r\n"
      ]
     },
     "metadata": {},
     "output_type": "display_data"
    },
    {
     "data": {
      "text/html": [
       "<pre>      Publisher                                   : Microsoft.Azure.Diagnostics</pre>\r\n"
      ]
     },
     "metadata": {},
     "output_type": "display_data"
    },
    {
     "data": {
      "text/html": [
       "<pre>      Type                                        : IaaSDiagnostics</pre>\r\n"
      ]
     },
     "metadata": {},
     "output_type": "display_data"
    },
    {
     "data": {
      "text/html": [
       "<pre>      TypeHandlerVersion                          : 1.5</pre>\r\n"
      ]
     },
     "metadata": {},
     "output_type": "display_data"
    },
    {
     "data": {
      "text/html": [
       "<pre>      AutoUpgradeMinorVersion                     : True</pre>\r\n"
      ]
     },
     "metadata": {},
     "output_type": "display_data"
    },
    {
     "data": {
      "text/html": [
       "<pre>      Settings                                    : {&quot;WadCfg&quot;:{&quot;DiagnosticMonitorConfiguration&quot;:{&quot;overallQuotaInMB&quot;:&quot;50000&quot;,&quot;EtwProviders&quot;:{&quot;EtwEventSourceProviderConfiguration&quot;:[{&quot;provider&quot;:&quot;Microsoft-ServiceFabric-Actors&quot;,&quot;scheduledTransferKeywordFilter&quot;:&quot;1&quot;,&quot;scheduledTransferPeriod&quot;:&quot;PT5M&quot;,&quot;DefaultEvents&quot;:{&quot;eventDestination&quot;:&quot;ServiceFabricReliableActorEventTable&quot;}},{&quot;provider&quot;:&quot;Microsoft-ServiceFabric-Services&quot;,&quot;scheduledTransferPeriod&quot;:&quot;PT5M&quot;,&quot;DefaultEvents&quot;:{&quot;eventDestination&quot;:&quot;ServiceFabricReliableServiceEventTable&quot;}}],&quot;EtwManifestProviderConfiguration&quot;:[{&quot;provider&quot;:&quot;xxxxxxxx-xxxx-xxxx-xxxx-xxxxxxxxxxxx&quot;,&quot;scheduledTransferLogLevelFilter&quot;:&quot;Information&quot;,&quot;scheduledTransferKeywordFilter&quot;:&quot;4611686018427387904&quot;,&quot;scheduledTransferPeriod&quot;:&quot;PT5M&quot;,&quot;DefaultEvents&quot;:{&quot;eventDestination&quot;:&quot;ServiceFabricSystemEventTable&quot;}}]}}},&quot;StorageAccount&quot;:&quot;pryziiw27wgx23&quot;}</pre>\r\n"
      ]
     },
     "metadata": {},
     "output_type": "display_data"
    },
    {
     "data": {
      "text/html": [
       "<pre>    Extensions[2]                                 : </pre>\r\n"
      ]
     },
     "metadata": {},
     "output_type": "display_data"
    },
    {
     "data": {
      "text/html": [
       "<pre>      Name                                        : MMAExtension</pre>\r\n"
      ]
     },
     "metadata": {},
     "output_type": "display_data"
    },
    {
     "data": {
      "text/html": [
       "<pre>      Publisher                                   : Microsoft.EnterpriseCloud.Monitoring</pre>\r\n"
      ]
     },
     "metadata": {},
     "output_type": "display_data"
    },
    {
     "data": {
      "text/html": [
       "<pre>      Type                                        : MicrosoftMonitoringAgent</pre>\r\n"
      ]
     },
     "metadata": {},
     "output_type": "display_data"
    },
    {
     "data": {
      "text/html": [
       "<pre>      TypeHandlerVersion                          : 1.0</pre>\r\n"
      ]
     },
     "metadata": {},
     "output_type": "display_data"
    },
    {
     "data": {
      "text/html": [
       "<pre>      AutoUpgradeMinorVersion                     : True</pre>\r\n"
      ]
     },
     "metadata": {},
     "output_type": "display_data"
    },
    {
     "data": {
      "text/html": [
       "<pre>      Settings                                    : {&quot;workspaceId&quot;:&quot;xxxxxxxx-xxxx-xxxx-xxxx-xxxxxxxxxxxx&quot;,&quot;stopOnMultipleConnections&quot;:&quot;true&quot;}</pre>\r\n"
      ]
     },
     "metadata": {},
     "output_type": "display_data"
    },
    {
     "data": {
      "text/html": [
       "<pre>ProvisioningState                                 : Succeeded</pre>\r\n"
      ]
     },
     "metadata": {},
     "output_type": "display_data"
    },
    {
     "data": {
      "text/html": [
       "<pre>Overprovision                                     : False</pre>\r\n"
      ]
     },
     "metadata": {},
     "output_type": "display_data"
    },
    {
     "data": {
      "text/html": [
       "<pre>UniqueId                                          : xxxxxxxx-xxxx-xxxx-xxxx-xxxxxxxxxxxx</pre>\r\n"
      ]
     },
     "metadata": {},
     "output_type": "display_data"
    },
    {
     "data": {
      "text/html": [
       "<pre>SinglePlacementGroup                              : True</pre>\r\n"
      ]
     },
     "metadata": {},
     "output_type": "display_data"
    },
    {
     "data": {
      "text/html": [
       "<pre>Id                                                : /subscriptions/{{subscription}}/resourceGroups/{{Microsoft.KeyVault/vaults}}3nt3/providers/Microsoft.Compute/virtualMachineScaleSets/{{Microsoft.Compute/virtualMachineScaleSets}}</pre>\r\n"
      ]
     },
     "metadata": {},
     "output_type": "display_data"
    },
    {
     "data": {
      "text/html": [
       "<pre>Name                                              : {{Microsoft.Compute/virtualMachineScaleSets}}</pre>\r\n"
      ]
     },
     "metadata": {},
     "output_type": "display_data"
    },
    {
     "data": {
      "text/html": [
       "<pre>Type                                              : Microsoft.Compute/virtualMachineScaleSets</pre>\r\n"
      ]
     },
     "metadata": {},
     "output_type": "display_data"
    },
    {
     "data": {
      "text/html": [
       "<pre>Location                                          : {{location}}</pre>\r\n"
      ]
     },
     "metadata": {},
     "output_type": "display_data"
    },
    {
     "data": {
      "text/html": [
       "<pre>Tags                                              : {&quot;resourceType&quot;:&quot;Service Fabric&quot;,&quot;clusterName&quot;:&quot;{{Microsoft.KeyVault/vaults}}3nt3&quot;}</pre>\r\n"
      ]
     },
     "metadata": {},
     "output_type": "display_data"
    },
    {
     "data": {
      "text/html": [
       "<pre></pre>\r\n"
      ]
     },
     "metadata": {},
     "output_type": "display_data"
    },
    {
     "data": {
      "text/html": [
       "<pre>DEBUG: AzureQoSEvent: CommandName - Update-AzVmss; IsSuccess - True; Duration - 00:00:14.5060890; Exception - ;</pre>\r\n"
      ]
     },
     "metadata": {},
     "output_type": "display_data"
    },
    {
     "data": {
      "text/html": [
       "<pre>DEBUG: Finish sending metric.</pre>\r\n"
      ]
     },
     "metadata": {},
     "output_type": "display_data"
    },
    {
     "data": {
      "text/html": [
       "<pre>DEBUG: 10:16:27 AM - UpdateAzureRmVmss end processing.</pre>\r\n"
      ]
     },
     "metadata": {},
     "output_type": "display_data"
    },
    {
     "data": {
      "text/html": [
       "<pre>DEBUG: 10:16:27 AM - UpdateAzureRmVmss end processing.</pre>\r\n"
      ]
     },
     "metadata": {},
     "output_type": "display_data"
    },
    {
     "data": {
      "text/html": [
       "<pre></pre>\r\n"
      ]
     },
     "metadata": {},
     "output_type": "display_data"
    }
   ],
   "source": [
    "$error.clear()\n",
    "Update-AzVmss -ResourceGroupName $resourceGroupName -VMScaleSetName $nodeTypeName -VirtualMachineScaleSet $vmss -verbose -debug -Confirm:$false"
   ]
  },
  {
   "cell_type": "code",
   "execution_count": 15,
   "metadata": {
    "scrolled": true
   },
   "outputs": [
    {
     "data": {
      "text/html": [
       "<pre>\r\n",
       "ResourceGroupName                      : {{resourceGroupName}}\r\n",
       "Sku                                    : Microsoft.Azure.Management.Compute.Models.Sku\r\n",
       "Plan                                   : \r\n",
       "UpgradePolicy                          : Microsoft.Azure.Management.Compute.Models.UpgradePolicy\r\n",
       "VirtualMachineProfile                  : Microsoft.Azure.Management.Compute.Models.VirtualMachineScaleSetVMProfile\r\n",
       "ProvisioningState                      : Succeeded\r\n",
       "Overprovision                          : False\r\n",
       "DoNotRunExtensionsOnOverprovisionedVMs : False\r\n",
       "UniqueId                               : xxxxxxxx-xxxx-xxxx-xxxx-xxxxxxxxxxxx\r\n",
       "SinglePlacementGroup                   : True\r\n",
       "ZoneBalance                            : \r\n",
       "PlatformFaultDomainCount               : \r\n",
       "ProximityPlacementGroup                : \r\n",
       "AdditionalCapabilities                 : \r\n",
       "Identity                               : \r\n",
       "Zones                                  : \r\n",
       "Id                                     : /subscriptions/{{subscription}}/resourceGroups/{{resourceGroupName}}/providers/Microsoft.Compute/virtualMachineScaleSets/{{Microsoft.Compute/virtualMachineScaleSets}}\r\n",
       "Name                                   : {{Microsoft.Compute/virtualMachineScaleSets}}\r\n",
       "Type                                   : Microsoft.Compute/virtualMachineScaleSets\r\n",
       "Location                               : {{location}}\r\n",
       "Tags                                   : {[resourceType, Service Fabric], [clusterName, {{resourceGroupName}}]}\r\n",
       "FullyQualifiedDomainName               : \r\n",
       "\r\n",
       "\r\n",
       "</pre>\r\n"
      ]
     },
     "metadata": {},
     "output_type": "display_data"
    }
   ],
   "source": [
    "write-host ($vmss)"
   ]
  },
  {
   "cell_type": "code",
   "execution_count": null,
   "metadata": {
    "scrolled": true
   },
   "outputs": [],
   "source": []
  }
 ],
 "metadata": {
  "kernelspec": {
   "display_name": ".NET (PowerShell)",
   "language": "PowerShell",
   "name": ".net-powershell"
  },
  "language_info": {
   "file_extension": ".ps1",
   "mimetype": "text/x-powershell",
   "name": "PowerShell",
   "pygments_lexer": "powershell",
   "version": "7.0"
  }
 },
 "nbformat": 4,
 "nbformat_minor": 4
}
