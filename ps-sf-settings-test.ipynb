{
 "cells": [
  {
   "cell_type": "code",
   "execution_count": 5,
   "metadata": {},
   "outputs": [
    {
     "data": {
      "text/html": [
       "<pre>connected</pre>\r\n"
      ]
     },
     "metadata": {},
     "output_type": "display_data"
    }
   ],
   "source": [
    "$global:clusterName = 'someCluster'\n",
    "$global:resourceGroupName = 'someResourceGroup'\n",
    "\n",
    "$error.clear()\n",
    "if(!(get-azcontext)) {\n",
    "    Set-ExecutionPolicy -ExecutionPolicy Bypass\n",
    "    import-module az.accounts\n",
    "    $error.clear()\n",
    "    connect-azaccount\n",
    "}\n",
    "\n",
    "if($error) {\n",
    "   $error\n",
    "}\n",
    "else {\n",
    "    'connected'\n",
    "}"
   ]
  },
  {
   "cell_type": "code",
   "execution_count": 31,
   "metadata": {},
   "outputs": [
    {
     "data": {
      "text/html": [
       "<pre>json:\r\n",
       "{\r\n",
       "  &quot;Name&quot;: &quot;Management&quot;,\r\n",
       "  &quot;Parameters&quot;: [\r\n",
       "    {\r\n",
       "      &quot;Name&quot;: &quot;CleanupApplicationPackageOnProvisionSuccess&quot;,\r\n",
       "      &quot;Value&quot;: &quot;True&quot;\r\n",
       "    },\r\n",
       "    {\r\n",
       "      &quot;Name&quot;: &quot;CleanupUnusedApplicationTypes&quot;,\r\n",
       "      &quot;Value&quot;: &quot;True&quot;\r\n",
       "    },\r\n",
       "    {\r\n",
       "      &quot;Name&quot;: &quot;PeriodicCleanupUnusedApplicationTypes&quot;,\r\n",
       "      &quot;Value&quot;: &quot;True&quot;\r\n",
       "    },\r\n",
       "    {\r\n",
       "      &quot;Name&quot;: &quot;TriggerAppTypeCleanupOnProvisionSuccess&quot;,\r\n",
       "      &quot;Value&quot;: &quot;True&quot;\r\n",
       "    },\r\n",
       "    {\r\n",
       "      &quot;Name&quot;: &quot;MaxUnusedAppTypeVersionsToKeep&quot;,\r\n",
       "      &quot;Value&quot;: &quot;3&quot;\r\n",
       "    }\r\n",
       "  ]\r\n",
       "}</pre>\r\n"
      ]
     },
     "metadata": {},
     "output_type": "display_data"
    },
    {
     "data": {
      "text/html": [
       "<pre>Set-AzServiceFabricSetting: \r\n",
       "Line |\r\n",
       "   6 |             -SettingsSectionDescription $json\r\n",
       "     |                                         ^ Cannot bind parameter &#39;SettingsSectionDescription&#39;. Cannot convert the &quot;[{&quot;Name&quot;:&quot;Management&quot;,&quot;Parameters&quot;:[{&quot;Name&quot;:&quot;CleanupApplicationPackageOnProvisionSuccess&quot;,&quot;Value&quot;:&quot;True&quot;},{&quot;Name&quot;:&quot;CleanupUnusedApplicationTypes&quot;,&quot;Value&quot;:&quot;True&quot;},{&quot;Name&quot;:&quot;PeriodicCleanupUnusedApplicationTypes&quot;,&quot;Value&quot;:&quot;True&quot;},{&quot;Name&quot;:&quot;TriggerAppTypeCleanupOnProvisionSuccess&quot;,&quot;Value&quot;:&quot;True&quot;},{&quot;Name&quot;:&quot;MaxUnusedAppTypeVersionsToKeep&quot;,&quot;Value&quot;:&quot;3&quot;}]}]&quot; value of type &quot;System.String&quot; to type &quot;Microsoft.Azure.Commands.ServiceFabric.Models.PSSettingsSectionDescription&quot;.</pre>\r\n"
      ]
     },
     "metadata": {},
     "output_type": "display_data"
    }
   ],
   "source": [
    "$json = '[{\"Name\":\"Management\",\"Parameters\":[{\"Name\":\"CleanupApplicationPackageOnProvisionSuccess\",\"Value\":\"True\"},{\"Name\":\"CleanupUnusedApplicationTypes\",\"Value\":\"True\"},{\"Name\":\"PeriodicCleanupUnusedApplicationTypes\",\"Value\":\"True\"},{\"Name\":\"TriggerAppTypeCleanupOnProvisionSuccess\",\"Value\":\"True\"},{\"Name\":\"MaxUnusedAppTypeVersionsToKeep\",\"Value\":\"3\"}]}]'\n",
    "write-host \"json:`r`n$($json | convertfrom-json | convertto-json)\"\n",
    "\n",
    "Set-AzServiceFabricSetting -ResourceGroupName $resourceGroupName `\n",
    "            -Name $clusterName `\n",
    "            -SettingsSectionDescription $json"
   ]
  },
  {
   "cell_type": "code",
   "execution_count": 32,
   "metadata": {},
   "outputs": [
    {
     "data": {
      "text/html": [
       "<pre>json:\r\n",
       "{\r\n",
       "  &quot;Name&quot;: &quot;Management&quot;,\r\n",
       "  &quot;Parameters&quot;: [\r\n",
       "    {\r\n",
       "      &quot;Name&quot;: &quot;CleanupApplicationPackageOnProvisionSuccess&quot;,\r\n",
       "      &quot;Value&quot;: &quot;True&quot;\r\n",
       "    },\r\n",
       "    {\r\n",
       "      &quot;Name&quot;: &quot;CleanupUnusedApplicationTypes&quot;,\r\n",
       "      &quot;Value&quot;: &quot;True&quot;\r\n",
       "    },\r\n",
       "    {\r\n",
       "      &quot;Name&quot;: &quot;PeriodicCleanupUnusedApplicationTypes&quot;,\r\n",
       "      &quot;Value&quot;: &quot;True&quot;\r\n",
       "    },\r\n",
       "    {\r\n",
       "      &quot;Name&quot;: &quot;TriggerAppTypeCleanupOnProvisionSuccess&quot;,\r\n",
       "      &quot;Value&quot;: &quot;True&quot;\r\n",
       "    },\r\n",
       "    {\r\n",
       "      &quot;Name&quot;: &quot;MaxUnusedAppTypeVersionsToKeep&quot;,\r\n",
       "      &quot;Value&quot;: &quot;3&quot;\r\n",
       "    }\r\n",
       "  ]\r\n",
       "}</pre>\r\n"
      ]
     },
     "metadata": {},
     "output_type": "display_data"
    },
    {
     "data": {
      "text/html": [
       "<pre>jsonObj:\r\n",
       "\r\n",
       "Name       : Management\r\n",
       "Parameters : {@{Name=CleanupApplicationPackageOnProvisionSuccess; Value=True}, @{Name=CleanupUnusedApplicationTypes; Value=True}, @{Name=PeriodicCleanupUnusedApplicationTypes; Value=True}, @{Name=TriggerAppTypeCleanupOnProvisionSuccess; Value=True}…}\r\n",
       "\r\n",
       "\r\n",
       "</pre>\r\n"
      ]
     },
     "metadata": {},
     "output_type": "display_data"
    },
    {
     "data": {
      "text/html": [
       "<pre>Set-AzServiceFabricSetting: \r\n",
       "Line |\r\n",
       "   9 |             -SettingsSectionDescription $jsonObj\r\n",
       "     |                                         ^ Cannot bind parameter &#39;SettingsSectionDescription&#39;. Cannot convert value &quot;@{Name=Management; Parameters=System.Object[]}&quot; to type &quot;Microsoft.Azure.Commands.ServiceFabric.Models.PSSettingsSectionDescription&quot;. Error: &quot;Cannot convert the &quot;System.Object[]&quot; value of type &quot;System.Object[]&quot; to type &quot;System.Collections.Generic.IList`1[Microsoft.Azure.Commands.ServiceFabric.Models.PSSettingsParameterDescription]&quot;.&quot;</pre>\r\n"
      ]
     },
     "metadata": {},
     "output_type": "display_data"
    }
   ],
   "source": [
    "$json = '[{\"Name\":\"Management\",\"Parameters\":[{\"Name\":\"CleanupApplicationPackageOnProvisionSuccess\",\"Value\":\"True\"},{\"Name\":\"CleanupUnusedApplicationTypes\",\"Value\":\"True\"},{\"Name\":\"PeriodicCleanupUnusedApplicationTypes\",\"Value\":\"True\"},{\"Name\":\"TriggerAppTypeCleanupOnProvisionSuccess\",\"Value\":\"True\"},{\"Name\":\"MaxUnusedAppTypeVersionsToKeep\",\"Value\":\"3\"}]}]'\n",
    "write-host \"json:`r`n$($json | convertfrom-json | convertto-json)\"\n",
    "\n",
    "$jsonObj = ($json | convertfrom-json)\n",
    "write-host \"jsonObj:`r`n$($jsonObj | fl * | out-string)\"\n",
    "\n",
    "Set-AzServiceFabricSetting -ResourceGroupName $resourceGroupName `\n",
    "            -Name $clusterName `\n",
    "            -SettingsSectionDescription $jsonObj"
   ]
  },
  {
   "cell_type": "code",
   "execution_count": 34,
   "metadata": {},
   "outputs": [
    {
     "data": {
      "text/html": [
       "<pre>{\r\n",
       "  &quot;Parameters&quot;: [\r\n",
       "    {\r\n",
       "      &quot;Value&quot;: true,\r\n",
       "      &quot;Name&quot;: &quot;CleanupApplicationPackageOnProvisionSuccess&quot;\r\n",
       "    }\r\n",
       "  ],\r\n",
       "  &quot;Name&quot;: &quot;Management&quot;\r\n",
       "}</pre>\r\n"
      ]
     },
     "metadata": {},
     "output_type": "display_data"
    },
    {
     "data": {
      "text/html": [
       "<pre>Set-AzServiceFabricSetting: \r\n",
       "Line |\r\n",
       "   7 |             -SettingsSectionDescription $sectionSettings\r\n",
       "     |                                         ^ Cannot bind parameter &#39;SettingsSectionDescription&#39;. Cannot create object of type &quot;Microsoft.Azure.Commands.ServiceFabric.Models.PSSettingsSectionDescription&quot;. Cannot convert the &quot;System.Object[]&quot; value of type &quot;System.Object[]&quot; to type &quot;System.Collections.Generic.IList`1[Microsoft.Azure.Commands.ServiceFabric.Models.PSSettingsParameterDescription]&quot;.</pre>\r\n"
      ]
     },
     "metadata": {},
     "output_type": "display_data"
    }
   ],
   "source": [
    "$sectionSettings = @(@{Name = 'Management'; Parameters = @(@{Name = 'CleanupApplicationPackageOnProvisionSuccess'; Value = $true })})\n",
    "\n",
    "write-host ($sectionSettings | convertto-json)\n",
    "\n",
    "Set-AzServiceFabricSetting -ResourceGroupName $resourceGroupName `\n",
    "            -Name $clusterName `\n",
    "            -SettingsSectionDescription $sectionSettings"
   ]
  },
  {
   "cell_type": "code",
   "execution_count": 6,
   "metadata": {},
   "outputs": [
    {
     "data": {
      "text/html": [
       "<pre></pre>\r\n"
      ]
     },
     "metadata": {},
     "output_type": "display_data"
    },
    {
     "data": {
      "text/html": [
       "<pre>using fabric settings array. one ud walk. fast</pre>\r\n"
      ]
     },
     "metadata": {},
     "output_type": "display_data"
    },
    {
     "data": {
      "text/html": [
       "<pre>fabricsettingsarray: \r\n",
       "Parameters : {CleanupApplicationPackageOnProvisionSuccess, CleanupUnusedApplicationTypes, PeriodicCleanupUnusedApplicationTypes, TriggerAppTypeCleanupOnProvisionSuccess…}\r\n",
       "Name       : Management\r\n",
       "\r\n",
       "\r\n",
       "</pre>\r\n"
      ]
     },
     "metadata": {},
     "output_type": "display_data"
    },
    {
     "data": {
      "text/html": [
       "<pre>Set-AzServiceFabricSetting -ResourceGroupName someResourceGroup \n",
       "            -Name someCluster \n",
       "            -SettingsSectionDescription Microsoft.Azure.Commands.ServiceFabric.Models.PSSettingsSectionDescription</pre>\r\n"
      ]
     },
     "metadata": {},
     "output_type": "display_data"
    },
    {
     "data": {
      "text/html": [
       "<pre></pre>\r\n"
      ]
     },
     "metadata": {},
     "output_type": "display_data"
    },
    {
     "data": {
      "text/html": [
       "<pre>Cluster : AddOnFeatures : </pre>\r\n"
      ]
     },
     "metadata": {},
     "output_type": "display_data"
    },
    {
     "data": {
      "text/html": [
       "<pre>          AvailableClusterVersions :</pre>\r\n"
      ]
     },
     "metadata": {},
     "output_type": "display_data"
    },
    {
     "data": {
      "text/html": [
       "<pre>              CodeVersion : 7.0.466.9590</pre>\r\n"
      ]
     },
     "metadata": {},
     "output_type": "display_data"
    },
    {
     "data": {
      "text/html": [
       "<pre>              SupportExpiryUtc : 12/31/9999 23:59:59</pre>\r\n"
      ]
     },
     "metadata": {},
     "output_type": "display_data"
    },
    {
     "data": {
      "text/html": [
       "<pre>              Environment : Windows</pre>\r\n"
      ]
     },
     "metadata": {},
     "output_type": "display_data"
    },
    {
     "data": {
      "text/html": [
       "<pre>          AzureActiveDirectory : </pre>\r\n"
      ]
     },
     "metadata": {},
     "output_type": "display_data"
    },
    {
     "data": {
      "text/html": [
       "<pre>          Certificate :</pre>\r\n"
      ]
     },
     "metadata": {},
     "output_type": "display_data"
    },
    {
     "data": {
      "text/html": [
       "<pre>              Thumbprint : xxxxxxxxxxxxxxxxxxxxxxxxxxxxxxxx</pre>\r\n"
      ]
     },
     "metadata": {},
     "output_type": "display_data"
    },
    {
     "data": {
      "text/html": [
       "<pre>              ThumbprintSecondary : </pre>\r\n"
      ]
     },
     "metadata": {},
     "output_type": "display_data"
    },
    {
     "data": {
      "text/html": [
       "<pre>              X509StoreName : My</pre>\r\n"
      ]
     },
     "metadata": {},
     "output_type": "display_data"
    },
    {
     "data": {
      "text/html": [
       "<pre>          CertificateCommonNames : </pre>\r\n"
      ]
     },
     "metadata": {},
     "output_type": "display_data"
    },
    {
     "data": {
      "text/html": [
       "<pre>          ClientCertificateCommonNames :</pre>\r\n"
      ]
     },
     "metadata": {},
     "output_type": "display_data"
    },
    {
     "data": {
      "text/html": [
       "<pre>          ClientCertificateThumbprints :</pre>\r\n"
      ]
     },
     "metadata": {},
     "output_type": "display_data"
    },
    {
     "data": {
      "text/html": [
       "<pre>          ClusterCodeVersion : 7.0.466.9590</pre>\r\n"
      ]
     },
     "metadata": {},
     "output_type": "display_data"
    },
    {
     "data": {
      "text/html": [
       "<pre>          ClusterEndpoint : https://eastus.servicefabric.azure.com/runtime/clusters/xxxxxxxx-xxxx-xxxx-xxxx-xxxxxxxxxxxx</pre>\r\n"
      ]
     },
     "metadata": {},
     "output_type": "display_data"
    },
    {
     "data": {
      "text/html": [
       "<pre>          ClusterId : xxxxxxxx-xxxx-xxxx-xxxx-xxxxxxxxxxxx</pre>\r\n"
      ]
     },
     "metadata": {},
     "output_type": "display_data"
    },
    {
     "data": {
      "text/html": [
       "<pre>          ClusterState : Ready</pre>\r\n"
      ]
     },
     "metadata": {},
     "output_type": "display_data"
    },
    {
     "data": {
      "text/html": [
       "<pre>          DiagnosticsStorageAccountConfig :</pre>\r\n"
      ]
     },
     "metadata": {},
     "output_type": "display_data"
    },
    {
     "data": {
      "text/html": [
       "<pre>              StorageAccountName : sflogsxxxxxxxxxxxxxx</pre>\r\n"
      ]
     },
     "metadata": {},
     "output_type": "display_data"
    },
    {
     "data": {
      "text/html": [
       "<pre>              ProtectedAccountKeyName : StorageAccountKey1</pre>\r\n"
      ]
     },
     "metadata": {},
     "output_type": "display_data"
    },
    {
     "data": {
      "text/html": [
       "<pre>              BlobEndpoint : https://sflogsxxxxxxxxxxxxxx.blob.core.windows.net/</pre>\r\n"
      ]
     },
     "metadata": {},
     "output_type": "display_data"
    },
    {
     "data": {
      "text/html": [
       "<pre>              QueueEndpoint : https://sflogsxxxxxxxxxxxxxx.queue.core.windows.net/</pre>\r\n"
      ]
     },
     "metadata": {},
     "output_type": "display_data"
    },
    {
     "data": {
      "text/html": [
       "<pre>              TableEndpoint : https://sflogsxxxxxxxxxxxxxx.table.core.windows.net/</pre>\r\n"
      ]
     },
     "metadata": {},
     "output_type": "display_data"
    },
    {
     "data": {
      "text/html": [
       "<pre>          FabricSettings :</pre>\r\n"
      ]
     },
     "metadata": {},
     "output_type": "display_data"
    },
    {
     "data": {
      "text/html": [
       "<pre>              Name : Security</pre>\r\n"
      ]
     },
     "metadata": {},
     "output_type": "display_data"
    },
    {
     "data": {
      "text/html": [
       "<pre>              Parameters :</pre>\r\n"
      ]
     },
     "metadata": {},
     "output_type": "display_data"
    },
    {
     "data": {
      "text/html": [
       "<pre>                  Name : ClusterProtectionLevel</pre>\r\n"
      ]
     },
     "metadata": {},
     "output_type": "display_data"
    },
    {
     "data": {
      "text/html": [
       "<pre>                  Value : EncryptAndSign</pre>\r\n"
      ]
     },
     "metadata": {},
     "output_type": "display_data"
    },
    {
     "data": {
      "text/html": [
       "<pre>              Name : Management</pre>\r\n"
      ]
     },
     "metadata": {},
     "output_type": "display_data"
    },
    {
     "data": {
      "text/html": [
       "<pre>              Parameters :</pre>\r\n"
      ]
     },
     "metadata": {},
     "output_type": "display_data"
    },
    {
     "data": {
      "text/html": [
       "<pre>                  Name : CleanupApplicationPackageOnProvisionSuccess</pre>\r\n"
      ]
     },
     "metadata": {},
     "output_type": "display_data"
    },
    {
     "data": {
      "text/html": [
       "<pre>                  Value : True</pre>\r\n"
      ]
     },
     "metadata": {},
     "output_type": "display_data"
    },
    {
     "data": {
      "text/html": [
       "<pre>                  Name : CleanupUnusedApplicationTypes</pre>\r\n"
      ]
     },
     "metadata": {},
     "output_type": "display_data"
    },
    {
     "data": {
      "text/html": [
       "<pre>                  Value : True</pre>\r\n"
      ]
     },
     "metadata": {},
     "output_type": "display_data"
    },
    {
     "data": {
      "text/html": [
       "<pre>                  Name : PeriodicCleanupUnusedApplicationTypes</pre>\r\n"
      ]
     },
     "metadata": {},
     "output_type": "display_data"
    },
    {
     "data": {
      "text/html": [
       "<pre>                  Value : True</pre>\r\n"
      ]
     },
     "metadata": {},
     "output_type": "display_data"
    },
    {
     "data": {
      "text/html": [
       "<pre>                  Name : TriggerAppTypeCleanupOnProvisionSuccess</pre>\r\n"
      ]
     },
     "metadata": {},
     "output_type": "display_data"
    },
    {
     "data": {
      "text/html": [
       "<pre>                  Value : True</pre>\r\n"
      ]
     },
     "metadata": {},
     "output_type": "display_data"
    },
    {
     "data": {
      "text/html": [
       "<pre>                  Name : MaxUnusedAppTypeVersionsToKeep</pre>\r\n"
      ]
     },
     "metadata": {},
     "output_type": "display_data"
    },
    {
     "data": {
      "text/html": [
       "<pre>                  Value : 3</pre>\r\n"
      ]
     },
     "metadata": {},
     "output_type": "display_data"
    },
    {
     "data": {
      "text/html": [
       "<pre>          ManagementEndpoint : https://someCluster.eastus.cloudapp.azure.com:19080</pre>\r\n"
      ]
     },
     "metadata": {},
     "output_type": "display_data"
    },
    {
     "data": {
      "text/html": [
       "<pre>          NodeTypes :</pre>\r\n"
      ]
     },
     "metadata": {},
     "output_type": "display_data"
    },
    {
     "data": {
      "text/html": [
       "<pre>              NodeTypeDescription :</pre>\r\n"
      ]
     },
     "metadata": {},
     "output_type": "display_data"
    },
    {
     "data": {
      "text/html": [
       "<pre>                  Name : nt0</pre>\r\n"
      ]
     },
     "metadata": {},
     "output_type": "display_data"
    },
    {
     "data": {
      "text/html": [
       "<pre>                  PlacementProperties : </pre>\r\n"
      ]
     },
     "metadata": {},
     "output_type": "display_data"
    },
    {
     "data": {
      "text/html": [
       "<pre>                  Capacities : </pre>\r\n"
      ]
     },
     "metadata": {},
     "output_type": "display_data"
    },
    {
     "data": {
      "text/html": [
       "<pre>                  ClientConnectionEndpointPort : 19000</pre>\r\n"
      ]
     },
     "metadata": {},
     "output_type": "display_data"
    },
    {
     "data": {
      "text/html": [
       "<pre>                  HttpGatewayEndpointPort : 19080</pre>\r\n"
      ]
     },
     "metadata": {},
     "output_type": "display_data"
    },
    {
     "data": {
      "text/html": [
       "<pre>                  DurabilityLevel : Bronze</pre>\r\n"
      ]
     },
     "metadata": {},
     "output_type": "display_data"
    },
    {
     "data": {
      "text/html": [
       "<pre>                  ApplicationPorts :</pre>\r\n"
      ]
     },
     "metadata": {},
     "output_type": "display_data"
    },
    {
     "data": {
      "text/html": [
       "<pre>                      StartPort : 20000</pre>\r\n"
      ]
     },
     "metadata": {},
     "output_type": "display_data"
    },
    {
     "data": {
      "text/html": [
       "<pre>                      EndPort : 30000</pre>\r\n"
      ]
     },
     "metadata": {},
     "output_type": "display_data"
    },
    {
     "data": {
      "text/html": [
       "<pre>                  EphemeralPorts :</pre>\r\n"
      ]
     },
     "metadata": {},
     "output_type": "display_data"
    },
    {
     "data": {
      "text/html": [
       "<pre>                      StartPort : 49152</pre>\r\n"
      ]
     },
     "metadata": {},
     "output_type": "display_data"
    },
    {
     "data": {
      "text/html": [
       "<pre>                      EndPort : 65534</pre>\r\n"
      ]
     },
     "metadata": {},
     "output_type": "display_data"
    },
    {
     "data": {
      "text/html": [
       "<pre>                  IsPrimary : True</pre>\r\n"
      ]
     },
     "metadata": {},
     "output_type": "display_data"
    },
    {
     "data": {
      "text/html": [
       "<pre>                  VmInstanceCount : 3</pre>\r\n"
      ]
     },
     "metadata": {},
     "output_type": "display_data"
    },
    {
     "data": {
      "text/html": [
       "<pre>                  ReverseProxyEndpointPort : 19081</pre>\r\n"
      ]
     },
     "metadata": {},
     "output_type": "display_data"
    },
    {
     "data": {
      "text/html": [
       "<pre>          ProvisioningState : Succeeded</pre>\r\n"
      ]
     },
     "metadata": {},
     "output_type": "display_data"
    },
    {
     "data": {
      "text/html": [
       "<pre>          ReliabilityLevel : Bronze</pre>\r\n"
      ]
     },
     "metadata": {},
     "output_type": "display_data"
    },
    {
     "data": {
      "text/html": [
       "<pre>          ReverseProxyCertificate : </pre>\r\n"
      ]
     },
     "metadata": {},
     "output_type": "display_data"
    },
    {
     "data": {
      "text/html": [
       "<pre>          ReverseProxyCertificateCommonNames : </pre>\r\n"
      ]
     },
     "metadata": {},
     "output_type": "display_data"
    },
    {
     "data": {
      "text/html": [
       "<pre>          UpgradeDescription : </pre>\r\n"
      ]
     },
     "metadata": {},
     "output_type": "display_data"
    },
    {
     "data": {
      "text/html": [
       "<pre>          UpgradeMode : Automatic</pre>\r\n"
      ]
     },
     "metadata": {},
     "output_type": "display_data"
    },
    {
     "data": {
      "text/html": [
       "<pre>          VmImage : Windows</pre>\r\n"
      ]
     },
     "metadata": {},
     "output_type": "display_data"
    },
    {
     "data": {
      "text/html": [
       "<pre>          Id : /subscriptions/xxxxxxxx-xxxx-xxxx-xxxx-xxxxxxxxxxxx/resourcegroups/someResourceGroup/providers/Microsoft.ServiceFabric/clusters/someCluster</pre>\r\n"
      ]
     },
     "metadata": {},
     "output_type": "display_data"
    },
    {
     "data": {
      "text/html": [
       "<pre>          Name : someCluster</pre>\r\n"
      ]
     },
     "metadata": {},
     "output_type": "display_data"
    },
    {
     "data": {
      "text/html": [
       "<pre>          Type : Microsoft.ServiceFabric/clusters</pre>\r\n"
      ]
     },
     "metadata": {},
     "output_type": "display_data"
    },
    {
     "data": {
      "text/html": [
       "<pre>          Location : eastus</pre>\r\n"
      ]
     },
     "metadata": {},
     "output_type": "display_data"
    },
    {
     "data": {
      "text/html": [
       "<pre>          Tags :</pre>\r\n"
      ]
     },
     "metadata": {},
     "output_type": "display_data"
    },
    {
     "data": {
      "text/html": [
       "<pre>          </pre>\r\n"
      ]
     },
     "metadata": {},
     "output_type": "display_data"
    },
    {
     "data": {
      "text/html": [
       "<pre></pre>\r\n"
      ]
     },
     "metadata": {},
     "output_type": "display_data"
    },
    {
     "data": {
      "text/html": [
       "<pre>finished</pre>\r\n"
      ]
     },
     "metadata": {},
     "output_type": "display_data"
    },
    {
     "data": {
      "text/html": [
       "<pre></pre>\r\n"
      ]
     },
     "metadata": {},
     "output_type": "display_data"
    }
   ],
   "source": [
    "        install-module system.collections.generics\n",
    "        write-host \"using fabric settings array. one ud walk. fast\"\n",
    "        $fabricSettingsArray = [system.collections.Generic.List[Microsoft.Azure.Commands.ServiceFabric.Models.PSSettingsSectionDescription]]::new()\n",
    "        $sectionDescription = new-object Microsoft.Azure.Commands.ServiceFabric.Models.PSSettingsSectionDescription\n",
    "        $fabricParametersArray = [system.collections.Generic.List[Microsoft.Azure.Commands.ServiceFabric.Models.PSSettingsParameterDescription]]::new()\n",
    "\n",
    "        $fabricParametersArray.Add((new-object Microsoft.Azure.Commands.ServiceFabric.Models.PSSettingsParameterDescription -property @{\n",
    "            name = 'CleanupApplicationPackageOnProvisionSuccess'\n",
    "            value = $true\n",
    "        }))\n",
    "\n",
    "        $fabricParametersArray.Add((new-object Microsoft.Azure.Commands.ServiceFabric.Models.PSSettingsParameterDescription -property @{\n",
    "            name = 'CleanupUnusedApplicationTypes'\n",
    "            value = $true\n",
    "        }))\n",
    "\n",
    "        $fabricParametersArray.Add((new-object Microsoft.Azure.Commands.ServiceFabric.Models.PSSettingsParameterDescription -property @{\n",
    "            name = 'PeriodicCleanupUnusedApplicationTypes'\n",
    "            value = $true\n",
    "        }))\n",
    "\n",
    "        $fabricParametersArray.Add((new-object Microsoft.Azure.Commands.ServiceFabric.Models.PSSettingsParameterDescription -property @{\n",
    "            name = 'TriggerAppTypeCleanupOnProvisionSuccess'\n",
    "            value = $true\n",
    "        }))\n",
    "\n",
    "        $fabricParametersArray.Add((new-object Microsoft.Azure.Commands.ServiceFabric.Models.PSSettingsParameterDescription -property @{\n",
    "            name = 'MaxUnusedAppTypeVersionsToKeep'\n",
    "            value = 3\n",
    "        }))\n",
    "\n",
    "        $sectionDescription.name = \"Management\"\n",
    "        $sectionDescription.parameters = $fabricParametersArray\n",
    "        $fabricSettingsArray.Add($sectionDescription)\n",
    "\n",
    "        write-host \"fabricsettingsarray: $($fabricSettingsArray | fl * | out-string)\"\n",
    "\n",
    "        write-host \"Set-AzServiceFabricSetting -ResourceGroupName $resourceGroupName `\n",
    "            -Name $clusterName `\n",
    "            -SettingsSectionDescription $fabricSettingsArray\"\n",
    "\n",
    "        Set-AzServiceFabricSetting -ResourceGroupName $resourceGroupName `\n",
    "            -Name $clusterName `\n",
    "            -SettingsSectionDescription $fabricSettingsArray\n",
    "\n",
    "        write-host 'finished'"
   ]
  },
  {
   "cell_type": "code",
   "execution_count": null,
   "metadata": {},
   "outputs": [],
   "source": []
  }
 ],
 "metadata": {
  "kernelspec": {
   "display_name": ".NET (PowerShell)",
   "language": "PowerShell",
   "name": ".net-powershell"
  },
  "language_info": {
   "file_extension": ".ps1",
   "mimetype": "text/x-powershell",
   "name": "PowerShell",
   "pygments_lexer": "powershell",
   "version": "7.0"
  }
 },
 "nbformat": 4,
 "nbformat_minor": 4
}
