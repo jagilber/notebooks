{
 "cells": [
  {
   "cell_type": "code",
   "execution_count": 49,
   "metadata": {
    "scrolled": true
   },
   "outputs": [],
   "source": [
    "# for demo overrides write-host\n",
    "if ((test-path .\\utilities.ps1)) {. .\\utilities.ps1 -useArm}"
   ]
  },
  {
   "cell_type": "code",
   "execution_count": 50,
   "metadata": {
    "scrolled": true
   },
   "outputs": [
    {
     "data": {
      "text/html": [
       "<pre>connected</pre>\r\n"
      ]
     },
     "metadata": {},
     "output_type": "display_data"
    }
   ],
   "source": [
    "$global:clusterName = '{{resourceGroupName}}'\n",
    "$global:resourceGroupName = '{{resourceGroupName}}'\n",
    "\n",
    "$error.clear()\n",
    "if(!(get-command get-azcontext)) {\n",
    "    set-executionPolicy -executionPolicy Bypass\n",
    "    install-module az.accounts\n",
    "}\n",
    "\n",
    "if(!(get-azcontext)) {\n",
    "    $error.clear()\n",
    "    import-module az.accounts\n",
    "    connect-azaccount\n",
    "}\n",
    "\n",
    "if($error) {\n",
    "   $error\n",
    "}\n",
    "else {\n",
    "    'connected'\n",
    "}"
   ]
  },
  {
   "cell_type": "code",
   "execution_count": 20,
   "metadata": {
    "scrolled": true
   },
   "outputs": [
    {
     "data": {
      "text/html": [
       "<pre>\r\n",
       "PSClusterString                    : AddOnFeatures : \r\n",
       "                                     AvailableClusterVersions :\r\n",
       "                                         CodeVersion : 7.0.466.9590\r\n",
       "                                         SupportExpiryUtc : 12/31/9999 23:59:59\r\n",
       "                                         Environment : Windows\r\n",
       "                                     AzureActiveDirectory : \r\n",
       "                                     Certificate :\r\n",
       "                                         Thumbprint : xxxxxxxxxxxxxxxxxxxxxxxxxxxxxxxxxxxxxxxx\r\n",
       "                                         ThumbprintSecondary : \r\n",
       "                                         X509StoreName : My\r\n",
       "                                     CertificateCommonNames : \r\n",
       "                                     ClientCertificateCommonNames :\r\n",
       "                                     ClientCertificateThumbprints :\r\n",
       "                                     ClusterCodeVersion : 7.0.466.9590\r\n",
       "                                     ClusterEndpoint : https://{{location}}.servicefabric.azure.com/runtime/clusters/xxxxxxxx-xxxx-xxxx-xxxx-xxxxxxxxxxxx\r\n",
       "                                     ClusterId : xxxxxxxx-xxxx-xxxx-xxxx-xxxxxxxxxxxx\r\n",
       "                                     ClusterState : Ready\r\n",
       "                                     DiagnosticsStorageAccountConfig :\r\n",
       "                                         StorageAccountName : {{Microsoft.Storage/storageAccounts}}\r\n",
       "                                         ProtectedAccountKeyName : StorageAccountKey1\r\n",
       "                                         BlobEndpoint : https://{{Microsoft.Storage/storageAccounts}}.blob.core.windows.net/\r\n",
       "                                         QueueEndpoint : https://{{Microsoft.Storage/storageAccounts}}.queue.core.windows.net/\r\n",
       "                                         TableEndpoint : https://{{Microsoft.Storage/storageAccounts}}.table.core.windows.net/\r\n",
       "                                     EventStoreServiceEnabled : \r\n",
       "                                     FabricSettings :\r\n",
       "                                         Name : Security\r\n",
       "                                         Parameters :\r\n",
       "                                             Name : ClusterProtectionLevel\r\n",
       "                                             Value : EncryptAndSign\r\n",
       "                                     ManagementEndpoint : https://{{resourceGroupName}}.{{location}}.cloudapp.azure.com:19080\r\n",
       "                                     NodeTypes :\r\n",
       "                                         NodeTypeDescription :\r\n",
       "                                             Name : {{Microsoft.Compute/virtualMachineScaleSets}}\r\n",
       "                                             PlacementProperties : \r\n",
       "                                             Capacities : \r\n",
       "                                             ClientConnectionEndpointPort : 19000\r\n",
       "                                             HttpGatewayEndpointPort : 19080\r\n",
       "                                             DurabilityLevel : Bronze\r\n",
       "                                             ApplicationPorts :\r\n",
       "                                                 StartPort : 20000\r\n",
       "                                                 EndPort : 30000\r\n",
       "                                             EphemeralPorts :\r\n",
       "                                                 StartPort : 49152\r\n",
       "                                                 EndPort : 65534\r\n",
       "                                             IsPrimary : True\r\n",
       "                                             VmInstanceCount : 3\r\n",
       "                                             ReverseProxyEndpointPort : 19081\r\n",
       "                                     ProvisioningState : Succeeded\r\n",
       "                                     ReliabilityLevel : Bronze\r\n",
       "                                     ReverseProxyCertificate : \r\n",
       "                                     ReverseProxyCertificateCommonNames : \r\n",
       "                                     UpgradeDescription : \r\n",
       "                                     UpgradeMode : Automatic\r\n",
       "                                     VmImage : Windows\r\n",
       "                                     Id : /subscriptions/{{subscription}}/resourcegroups/{{resourceGroupName}}/providers/Microsoft.ServiceFabric/clusters/{{resourceGroupName}}\r\n",
       "                                     Name : {{resourceGroupName}}\r\n",
       "                                     Type : Microsoft.ServiceFabric/clusters\r\n",
       "                                     Location : {{location}}\r\n",
       "                                     Tags :\r\n",
       "                                         resourceType : Service Fabric\r\n",
       "                                         clusterName : {{resourceGroupName}}\r\n",
       "                                     Etag : \r\n",
       "                                     \r\n",
       "AddOnFeatures                      : \r\n",
       "AvailableClusterVersions           : {Microsoft.Azure.Management.ServiceFabric.Models.ClusterVersionDetails}\r\n",
       "AzureActiveDirectory               : \r\n",
       "Certificate                        : Microsoft.Azure.Management.ServiceFabric.Models.CertificateDescription\r\n",
       "CertificateCommonNames             : \r\n",
       "ClientCertificateCommonNames       : {}\r\n",
       "ClientCertificateThumbprints       : {}\r\n",
       "ClusterCodeVersion                 : 7.0.466.9590\r\n",
       "ClusterEndpoint                    : https://{{location}}.servicefabric.azure.com/runtime/clusters/xxxxxxxx-xxxx-xxxx-xxxx-xxxxxxxxxxxx\r\n",
       "ClusterId                          : xxxxxxxx-xxxx-xxxx-xxxx-xxxxxxxxxxxx\r\n",
       "ClusterState                       : Ready\r\n",
       "DiagnosticsStorageAccountConfig    : Microsoft.Azure.Management.ServiceFabric.Models.DiagnosticsStorageAccountConfig\r\n",
       "EventStoreServiceEnabled           : \r\n",
       "FabricSettings                     : {Security}\r\n",
       "ManagementEndpoint                 : https://{{resourceGroupName}}.{{location}}.cloudapp.azure.com:19080\r\n",
       "NodeTypes                          : {{{Microsoft.Compute/virtualMachineScaleSets}}}\r\n",
       "ProvisioningState                  : Succeeded\r\n",
       "ReliabilityLevel                   : Bronze\r\n",
       "ReverseProxyCertificate            : \r\n",
       "ReverseProxyCertificateCommonNames : \r\n",
       "UpgradeDescription                 : \r\n",
       "UpgradeMode                        : Automatic\r\n",
       "VmImage                            : Windows\r\n",
       "Id                                 : /subscriptions/{{subscription}}/resourcegroups/{{resourceGroupName}}/providers/Microsoft.ServiceFabric/clusters/{{resourceGroupName}}\r\n",
       "Name                               : {{resourceGroupName}}\r\n",
       "Type                               : Microsoft.ServiceFabric/clusters\r\n",
       "Location                           : {{location}}\r\n",
       "Tags                               : {[resourceType, Service Fabric], [clusterName, {{resourceGroupName}}]}\r\n",
       "Etag                               : \r\n",
       "\r\n",
       "\r\n",
       "</pre>\r\n"
      ]
     },
     "metadata": {},
     "output_type": "display_data"
    }
   ],
   "source": [
    "# dont use as json. use get-azresource for json\n",
    "$cluster = get-azservicefabriccluster -Name $clusterName -ResourceGroupName $resourceGroupName\n",
    "write-host ($cluster)"
   ]
  },
  {
   "cell_type": "code",
   "execution_count": 52,
   "metadata": {
    "scrolled": true
   },
   "outputs": [
    {
     "data": {
      "text/html": [
       "<pre>json:\r\n",
       "{\r\n",
       "  &quot;fabricSettings&quot;: [\r\n",
       "    {\r\n",
       "      &quot;name&quot;: &quot;Security&quot;,\r\n",
       "      &quot;parameters&quot;: &quot;&quot;\r\n",
       "    },\r\n",
       "    {\r\n",
       "      &quot;name&quot;: &quot;Management&quot;,\r\n",
       "      &quot;parameters&quot;: &quot;    &quot;\r\n",
       "    }\r\n",
       "  ]\r\n",
       "}</pre>\r\n"
      ]
     },
     "metadata": {},
     "output_type": "display_data"
    },
    {
     "data": {
      "text/html": [
       "<pre>Set-AzServiceFabricSetting: \r\n",
       "Line |\r\n",
       "   6 |              -SettingsSectionDescription $json\r\n",
       "\r\n",
       "     |                                          ~~~~~\r\n",
       "     | Cannot bind parameter &#39;SettingsSectionDescription&#39;. Cannot convert the &quot;{&quot;fabricSettings&quot;:[{&quot;name&quot;:&quot;Security&quot;,&quot;parameters&quot;:[{&quot;name&quot;:&quot;ClusterProtectionLevel&quot;,&quot;value&quot;:&quot;EncryptAndSign&quot;}]},{&quot;name&quot;:&quot;Management&quot;,&quot;parameters&quot;:[{&quot;name&quot;:&quot;CleanupApplicationPackageOnProvisionSuccess&quot;,&quot;value&quot;:&quot;True&quot;},{&quot;name&quot;:&quot;CleanupUnusedApplicationTypes&quot;,&quot;value&quot;:&quot;True&quot;},{&quot;name&quot;:&quot;PeriodicCleanupUnusedApplicationTypes&quot;,&quot;value&quot;:&quot;True&quot;},{&quot;name&quot;:&quot;TriggerAppTypeCleanupOnProvisionSuccess&quot;,&quot;value&quot;:&quot;True&quot;},{&quot;name&quot;:&quot;MaxUnusedAppTypeVersionsToKeep&quot;,&quot;value&quot;:&quot;3&quot;}]}]}&quot; value of type &quot;System.String&quot; to type &quot;Microsoft.Azure.Commands.ServiceFabric.Models.PSSettingsSectionDescription&quot;.</pre>\r\n"
      ]
     },
     "metadata": {},
     "output_type": "display_data"
    }
   ],
   "source": [
    "$json = '{\"fabricSettings\":[{\"name\":\"Security\",\"parameters\":[{\"name\":\"ClusterProtectionLevel\",\"value\":\"EncryptAndSign\"}]},{\"name\":\"Management\",\"parameters\":[{\"name\":\"CleanupApplicationPackageOnProvisionSuccess\",\"value\":\"True\"},{\"name\":\"CleanupUnusedApplicationTypes\",\"value\":\"True\"},{\"name\":\"PeriodicCleanupUnusedApplicationTypes\",\"value\":\"True\"},{\"name\":\"TriggerAppTypeCleanupOnProvisionSuccess\",\"value\":\"True\"},{\"name\":\"MaxUnusedAppTypeVersionsToKeep\",\"value\":\"3\"}]}]}'\n",
    "write-host \"json:`r`n$($json | convertfrom-json | convertto-json)\"\n",
    "\n",
    "Set-AzServiceFabricSetting -ResourceGroupName $resourceGroupName `\n",
    "            -Name $clusterName `\n",
    "            -SettingsSectionDescription $json"
   ]
  },
  {
   "cell_type": "code",
   "execution_count": 51,
   "metadata": {
    "scrolled": true
   },
   "outputs": [
    {
     "data": {
      "text/html": [
       "<pre>json:\r\n",
       "{\r\n",
       "  &quot;Name&quot;: &quot;Management&quot;,\r\n",
       "  &quot;Parameters&quot;: [\r\n",
       "    {\r\n",
       "      &quot;Name&quot;: &quot;CleanupApplicationPackageOnProvisionSuccess&quot;,\r\n",
       "      &quot;Value&quot;: &quot;True&quot;\r\n",
       "    },\r\n",
       "    {\r\n",
       "      &quot;Name&quot;: &quot;CleanupUnusedApplicationTypes&quot;,\r\n",
       "      &quot;Value&quot;: &quot;True&quot;\r\n",
       "    },\r\n",
       "    {\r\n",
       "      &quot;Name&quot;: &quot;PeriodicCleanupUnusedApplicationTypes&quot;,\r\n",
       "      &quot;Value&quot;: &quot;True&quot;\r\n",
       "    },\r\n",
       "    {\r\n",
       "      &quot;Name&quot;: &quot;TriggerAppTypeCleanupOnProvisionSuccess&quot;,\r\n",
       "      &quot;Value&quot;: &quot;True&quot;\r\n",
       "    },\r\n",
       "    {\r\n",
       "      &quot;Name&quot;: &quot;MaxUnusedAppTypeVersionsToKeep&quot;,\r\n",
       "      &quot;Value&quot;: &quot;3&quot;\r\n",
       "    }\r\n",
       "  ]\r\n",
       "}</pre>\r\n"
      ]
     },
     "metadata": {},
     "output_type": "display_data"
    },
    {
     "data": {
      "text/html": [
       "<pre>Set-AzServiceFabricSetting: \r\n",
       "Line |\r\n",
       "   6 |              -SettingsSectionDescription $json\r\n",
       "\r\n",
       "     |                                          ~~~~~\r\n",
       "     | Cannot bind parameter &#39;SettingsSectionDescription&#39;. Cannot convert the &quot;[{&quot;Name&quot;:&quot;Management&quot;,&quot;Parameters&quot;:[{&quot;Name&quot;:&quot;CleanupApplicationPackageOnProvisionSuccess&quot;,&quot;Value&quot;:&quot;True&quot;},{&quot;Name&quot;:&quot;CleanupUnusedApplicationTypes&quot;,&quot;Value&quot;:&quot;True&quot;},{&quot;Name&quot;:&quot;PeriodicCleanupUnusedApplicationTypes&quot;,&quot;Value&quot;:&quot;True&quot;},{&quot;Name&quot;:&quot;TriggerAppTypeCleanupOnProvisionSuccess&quot;,&quot;Value&quot;:&quot;True&quot;},{&quot;Name&quot;:&quot;MaxUnusedAppTypeVersionsToKeep&quot;,&quot;Value&quot;:&quot;3&quot;}]}]&quot; value of type &quot;System.String&quot; to type &quot;Microsoft.Azure.Commands.ServiceFabric.Models.PSSettingsSectionDescription&quot;.</pre>\r\n"
      ]
     },
     "metadata": {},
     "output_type": "display_data"
    }
   ],
   "source": [
    "$json = '[{\"Name\":\"Management\",\"Parameters\":[{\"Name\":\"CleanupApplicationPackageOnProvisionSuccess\",\"Value\":\"True\"},{\"Name\":\"CleanupUnusedApplicationTypes\",\"Value\":\"True\"},{\"Name\":\"PeriodicCleanupUnusedApplicationTypes\",\"Value\":\"True\"},{\"Name\":\"TriggerAppTypeCleanupOnProvisionSuccess\",\"Value\":\"True\"},{\"Name\":\"MaxUnusedAppTypeVersionsToKeep\",\"Value\":\"3\"}]}]'\n",
    "write-host \"json:`r`n$($json | convertfrom-json | convertto-json)\"\n",
    "\n",
    "Set-AzServiceFabricSetting -ResourceGroupName $resourceGroupName `\n",
    "            -Name $clusterName `\n",
    "            -SettingsSectionDescription $json"
   ]
  },
  {
   "cell_type": "code",
   "execution_count": null,
   "metadata": {
    "scrolled": true
   },
   "outputs": [],
   "source": [
    "$json = '[{\"Name\":\"Management\",\"Parameters\":[{\"Name\":\"CleanupApplicationPackageOnProvisionSuccess\",\"Value\":\"True\"},{\"Name\":\"CleanupUnusedApplicationTypes\",\"Value\":\"True\"},{\"Name\":\"PeriodicCleanupUnusedApplicationTypes\",\"Value\":\"True\"},{\"Name\":\"TriggerAppTypeCleanupOnProvisionSuccess\",\"Value\":\"True\"},{\"Name\":\"MaxUnusedAppTypeVersionsToKeep\",\"Value\":\"3\"}]}]'\n",
    "write-host \"json:`r`n$($json | convertfrom-json | convertto-json)\"\n",
    "\n",
    "$jsonObj = ($json | convertfrom-json)\n",
    "write-host \"jsonObj:`r`n$($jsonObj | fl * | out-string)\"\n",
    "\n",
    "Set-AzServiceFabricSetting -ResourceGroupName $resourceGroupName `\n",
    "            -Name $clusterName `\n",
    "            -SettingsSectionDescription $jsonObj"
   ]
  },
  {
   "cell_type": "code",
   "execution_count": null,
   "metadata": {
    "scrolled": true
   },
   "outputs": [],
   "source": [
    "$sectionSettings = @(@{Name = 'Management'; Parameters = @(@{Name = 'CleanupApplicationPackageOnProvisionSuccess'; Value = $true })})\n",
    "\n",
    "write-host ($sectionSettings | convertto-json)\n",
    "\n",
    "Set-AzServiceFabricSetting -ResourceGroupName $resourceGroupName `\n",
    "            -Name $clusterName `\n",
    "            -SettingsSectionDescription $sectionSettings"
   ]
  },
  {
   "cell_type": "code",
   "execution_count": null,
   "metadata": {
    "scrolled": true
   },
   "outputs": [],
   "source": [
    "        install-module system.collections.generics\n",
    "        write-host \"using fabric settings array. one ud walk. fast\"\n",
    "        $fabricSettingsArray = [system.collections.Generic.List[Microsoft.Azure.Commands.ServiceFabric.Models.PSSettingsSectionDescription]]::new()\n",
    "        $sectionDescription = new-object Microsoft.Azure.Commands.ServiceFabric.Models.PSSettingsSectionDescription\n",
    "        $fabricParametersArray = [system.collections.Generic.List[Microsoft.Azure.Commands.ServiceFabric.Models.PSSettingsParameterDescription]]::new()\n",
    "\n",
    "        $fabricParametersArray.Add((new-object Microsoft.Azure.Commands.ServiceFabric.Models.PSSettingsParameterDescription -property @{\n",
    "            name = 'CleanupApplicationPackageOnProvisionSuccess'\n",
    "            value = $true\n",
    "        }))\n",
    "\n",
    "        $fabricParametersArray.Add((new-object Microsoft.Azure.Commands.ServiceFabric.Models.PSSettingsParameterDescription -property @{\n",
    "            name = 'CleanupUnusedApplicationTypes'\n",
    "            value = $true\n",
    "        }))\n",
    "\n",
    "        $fabricParametersArray.Add((new-object Microsoft.Azure.Commands.ServiceFabric.Models.PSSettingsParameterDescription -property @{\n",
    "            name = 'PeriodicCleanupUnusedApplicationTypes'\n",
    "            value = $true\n",
    "        }))\n",
    "\n",
    "        $fabricParametersArray.Add((new-object Microsoft.Azure.Commands.ServiceFabric.Models.PSSettingsParameterDescription -property @{\n",
    "            name = 'TriggerAppTypeCleanupOnProvisionSuccess'\n",
    "            value = $true\n",
    "        }))\n",
    "\n",
    "        $fabricParametersArray.Add((new-object Microsoft.Azure.Commands.ServiceFabric.Models.PSSettingsParameterDescription -property @{\n",
    "            name = 'MaxUnusedAppTypeVersionsToKeep'\n",
    "            value = 3\n",
    "        }))\n",
    "\n",
    "        $sectionDescription.name = \"Management\"\n",
    "        $sectionDescription.parameters = $fabricParametersArray\n",
    "        $fabricSettingsArray.Add($sectionDescription)\n",
    "\n",
    "        write-host \"fabricsettingsarray: $($fabricSettingsArray | fl * | out-string)\"\n",
    "\n",
    "        write-host \"Set-AzServiceFabricSetting -ResourceGroupName $resourceGroupName `\n",
    "            -Name $clusterName `\n",
    "            -SettingsSectionDescription $fabricSettingsArray\"\n",
    "\n",
    "        Set-AzServiceFabricSetting -ResourceGroupName $resourceGroupName `\n",
    "            -Name $clusterName `\n",
    "            -SettingsSectionDescription $fabricSettingsArray\n",
    "\n",
    "        write-host 'finished'"
   ]
  },
  {
   "cell_type": "code",
   "execution_count": null,
   "metadata": {
    "scrolled": true
   },
   "outputs": [],
   "source": []
  }
 ],
 "metadata": {
  "kernelspec": {
   "display_name": ".NET (PowerShell)",
   "language": "PowerShell",
   "name": ".net-powershell"
  },
  "language_info": {
   "file_extension": ".ps1",
   "mimetype": "text/x-powershell",
   "name": "PowerShell",
   "pygments_lexer": "powershell",
   "version": "7.0"
  }
 },
 "nbformat": 4,
 "nbformat_minor": 4
}
