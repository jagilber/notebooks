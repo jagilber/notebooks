{
 "cells": [
  {
   "cell_type": "code",
   "execution_count": 1,
   "metadata": {},
   "source": [
    "#r \"Newtonsoft.Json\"\n",
    "#r \".\\packages\\Azure.Storage.Blobs.12.7.0\\lib\\netstandard2.0\\Azure.Storage.Blobs.dll\"\n",
    "#r \".\\packages\\Azure.Storage.Common.12.6.0\\lib\\netstandard2.0\\Azure.Storage.Common.dll\"\n",
    "#r \".\\packages\\Azure.Core.1.6.0\\lib\\netstandard2.0\\Azure.Core.dll\"\n",
    "\n",
    "//$nuget.InstallPackage(\"Azure.Core\",'nuget.org','.\\packages',$false)\n",
    "\n",
    "using System;\n",
    "using System.Threading;\n",
    "using Newtonsoft.Json;\n",
    "using Azure;\n",
    "using Azure.Storage.Blobs;\n",
    "using Azure.Storage.Blobs.Models;\n",
    "using Azure.Storage;\n",
    "using Azure.Core.Extensions;\n",
    "\n",
    "Console.WriteLine(\"test\");\n",
    ""
   ],
   "outputs": [
    {
     "output_type": "execute_result",
     "data": {
      "text/plain": "test\r\n"
     },
     "execution_count": 1,
     "metadata": {}
    }
   ]
  },
  {
   "cell_type": "code",
   "execution_count": 1,
   "metadata": {},
   "source": [
    "string connectionString = \"\";\n",
    "string blobToken = \"\";\n",
    "string containerPrefix = \"\";\n",
    "CancellationToken cancelToken = new CancellationToken();\n",
    "\n",
    "IAsyncEnumerable<Page<BlobContainerItem>> containerPages = default(IAsyncEnumerable<Page<BlobContainerItem>>);\n",
    "Page<BlobContainerItem> containerPage = default(Page<BlobContainerItem>);"
   ],
   "outputs": []
  },
  {
   "cell_type": "code",
   "execution_count": 1,
   "metadata": {},
   "source": [
    "//Console.WriteLine(connectionString);\n",
    "var _serviceClient = new BlobServiceClient(connectionString);\n",
    "\n",
    "containerPages = _serviceClient.GetBlobContainersAsync(\n",
    "    BlobContainerTraits.None,\n",
    "    BlobContainerStates.None,\n",
    "    prefix: containerPrefix,\n",
    "    cancelToken).AsPages(blobToken);"
   ],
   "outputs": [
    {
     "output_type": "error",
     "ename": "Error",
     "evalue": "System.ArgumentNullException: Value cannot be null. (Parameter 'connectionString')\r\n   at Azure.Storage.StorageConnectionString.Parse(String connectionString)\r\n   at Azure.Storage.Blobs.BlobServiceClient..ctor(String connectionString, BlobClientOptions options)\r\n   at Azure.Storage.Blobs.BlobServiceClient..ctor(String connectionString)\r\n   at Submission#29.<<Initialize>>d__0.MoveNext()\r\n--- End of stack trace from previous location where exception was thrown ---\r\n   at Microsoft.CodeAnalysis.Scripting.ScriptExecutionState.RunSubmissionsAsync[TResult](ImmutableArray`1 precedingExecutors, Func`2 currentExecutor, StrongBox`1 exceptionHolderOpt, Func`2 catchExceptionOpt, CancellationToken cancellationToken)",
     "traceback": []
    }
   ]
  },
  {
   "cell_type": "code",
   "execution_count": 1,
   "metadata": {},
   "source": [
    ""
   ],
   "outputs": []
  }
 ],
 "metadata": {
  "kernelspec": {
   "display_name": ".NET (C#)",
   "language": "C#",
   "name": ".net-csharp"
  },
  "language_info": {
   "file_extension": ".cs",
   "mimetype": "text/x-csharp",
   "name": "C#",
   "pygments_lexer": "csharp",
   "version": "8.0"
  }
 },
 "nbformat": 4,
 "nbformat_minor": 4
}