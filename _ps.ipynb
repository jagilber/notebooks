checking C:\github\{{user}}\notebooks\_ps.ipynb
saving to temp file C:\github\{{user}}\notebooks\temp\_ps.ipynb
checking C:\github\{{user}}\notebooks\_ps.ipynb
saving to temp file C:\github\{{user}}\notebooks\temp\_ps.ipynb
{
 "cells": [
  {
   "cell_type": "code",
   "execution_count": null,
   "metadata": {
    "scrolled": true
   },
   "outputs": [],
   "source": [
    "# for demo overrides write-host\n",
    "if ((test-path .\\utilities.ps1)) {. .\\utilities.ps1}"
   ]
  }
 ],
 "metadata": {
  "kernelspec": {
   "display_name": ".NET (PowerShell)",
   "language": "PowerShell",
   "name": ".net-powershell"
  },
  "language_info": {
   "file_extension": ".ps1",
   "mimetype": "text/x-powershell",
   "name": "PowerShell",
   "pygments_lexer": "powershell",
   "version": "7.0"
  }
 },
 "nbformat": 4,
 "nbformat_minor": 4
}


