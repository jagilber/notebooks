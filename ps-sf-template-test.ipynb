{
 "cells": [
  {
   "cell_type": "code",
   "execution_count": 32,
   "metadata": {},
   "outputs": [],
   "source": [
    "# for demo overrides write-host\n",
    "if ((test-path .\\utilities.ps1)) {. .\\utilities.ps1 -useArm}"
   ]
  },
  {
   "cell_type": "code",
   "execution_count": 33,
   "metadata": {},
   "outputs": [
    {
     "data": {
      "text/html": [
       "<pre>connected</pre>\r\n"
      ]
     },
     "metadata": {},
     "output_type": "display_data"
    }
   ],
   "source": [
    "$global:clusterName = '{{resourceGroupName}}'\n",
    "$global:resourceGroupName = '{{resourceGroupName}}'\n",
    "\n",
    "$error.clear()\n",
    "if(!(get-command get-azcontext)) {\n",
    "    set-executionPolicy -executionPolicy Bypass\n",
    "    install-module az.accounts\n",
    "}\n",
    "\n",
    "if(!(get-azcontext)) {\n",
    "    $error.clear()\n",
    "    import-module az.accounts\n",
    "    connect-azaccount\n",
    "}\n",
    "\n",
    "if($error) {\n",
    "   $error\n",
    "}\n",
    "else {\n",
    "    'connected'\n",
    "}"
   ]
  },
  {
   "cell_type": "code",
   "execution_count": 3,
   "metadata": {},
   "outputs": [
    {
     "data": {
      "text/html": [
       "<pre>\r\n",
       "PSClusterString                    : AddOnFeatures : \r\n",
       "                                     AvailableClusterVersions :\r\n",
       "                                         CodeVersion : 7.0.466.9590\r\n",
       "                                         SupportExpiryUtc : 12/31/9999 23:59:59\r\n",
       "                                         Environment : Windows\r\n",
       "                                     AzureActiveDirectory : \r\n",
       "                                     Certificate :\r\n",
       "                                         Thumbprint : xxxxxxxxxxxxxxxxxxxxxxxxxxxxxxxxxxxxxxxx\r\n",
       "                                         ThumbprintSecondary : \r\n",
       "                                         X509StoreName : My\r\n",
       "                                     CertificateCommonNames : \r\n",
       "                                     ClientCertificateCommonNames :\r\n",
       "                                     ClientCertificateThumbprints :\r\n",
       "                                     ClusterCodeVersion : 7.0.466.9590\r\n",
       "                                     ClusterEndpoint : https://{{location}}.servicefabric.azure.com/runtime/clusters/xxxxxxxx-xxxx-xxxx-xxxx-xxxxxxxxxxxx\r\n",
       "                                     ClusterId : xxxxxxxx-xxxx-xxxx-xxxx-xxxxxxxxxxxx\r\n",
       "                                     ClusterState : Ready\r\n",
       "                                     DiagnosticsStorageAccountConfig :\r\n",
       "                                         StorageAccountName : {{Microsoft.Storage/storageAccounts}}\r\n",
       "                                         ProtectedAccountKeyName : StorageAccountKey1\r\n",
       "                                         BlobEndpoint : https://{{Microsoft.Storage/storageAccounts}}.blob.core.windows.net/\r\n",
       "                                         QueueEndpoint : https://{{Microsoft.Storage/storageAccounts}}.queue.core.windows.net/\r\n",
       "                                         TableEndpoint : https://{{Microsoft.Storage/storageAccounts}}.table.core.windows.net/\r\n",
       "                                     EventStoreServiceEnabled : \r\n",
       "                                     FabricSettings :\r\n",
       "                                         Name : Security\r\n",
       "                                         Parameters :\r\n",
       "                                             Name : ClusterProtectionLevel\r\n",
       "                                             Value : EncryptAndSign\r\n",
       "                                         Name : Management\r\n",
       "                                         Parameters :\r\n",
       "                                             Name : CleanupApplicationPackageOnProvisionSuccess\r\n",
       "                                             Value : True\r\n",
       "                                             Name : CleanupUnusedApplicationTypes\r\n",
       "                                             Value : True\r\n",
       "                                             Name : PeriodicCleanupUnusedApplicationTypes\r\n",
       "                                             Value : True\r\n",
       "                                             Name : TriggerAppTypeCleanupOnProvisionSuccess\r\n",
       "                                             Value : True\r\n",
       "                                             Name : MaxUnusedAppTypeVersionsToKeep\r\n",
       "                                             Value : 3\r\n",
       "                                     ManagementEndpoint : https://{{resourceGroupName}}.{{location}}.cloudapp.azure.com:19080\r\n",
       "                                     NodeTypes :\r\n",
       "                                         NodeTypeDescription :\r\n",
       "                                             Name : {{Microsoft.Compute/virtualMachineScaleSets}}\r\n",
       "                                             PlacementProperties : \r\n",
       "                                             Capacities : \r\n",
       "                                             ClientConnectionEndpointPort : 19000\r\n",
       "                                             HttpGatewayEndpointPort : 19080\r\n",
       "                                             DurabilityLevel : Bronze\r\n",
       "                                             ApplicationPorts :\r\n",
       "                                                 StartPort : 20000\r\n",
       "                                                 EndPort : 30000\r\n",
       "                                             EphemeralPorts :\r\n",
       "                                                 StartPort : 49152\r\n",
       "                                                 EndPort : 65534\r\n",
       "                                             IsPrimary : True\r\n",
       "                                             VmInstanceCount : 3\r\n",
       "                                             ReverseProxyEndpointPort : 19081\r\n",
       "                                     ProvisioningState : Succeeded\r\n",
       "                                     ReliabilityLevel : Bronze\r\n",
       "                                     ReverseProxyCertificate : \r\n",
       "                                     ReverseProxyCertificateCommonNames : \r\n",
       "                                     UpgradeDescription : \r\n",
       "                                     UpgradeMode : Automatic\r\n",
       "                                     VmImage : Windows\r\n",
       "                                     Id : /subscriptions/{{subscription}}/resourcegroups/{{resourceGroupName}}/providers/Microsoft.ServiceFabric/clusters/{{resourceGroupName}}\r\n",
       "                                     Name : {{resourceGroupName}}\r\n",
       "                                     Type : Microsoft.ServiceFabric/clusters\r\n",
       "                                     Location : {{location}}\r\n",
       "                                     Tags :\r\n",
       "                                     Etag : \r\n",
       "                                     \r\n",
       "AddOnFeatures                      : \r\n",
       "AvailableClusterVersions           : {Microsoft.Azure.Management.ServiceFabric.Models.ClusterVersionDetails}\r\n",
       "AzureActiveDirectory               : \r\n",
       "Certificate                        : Microsoft.Azure.Management.ServiceFabric.Models.CertificateDescription\r\n",
       "CertificateCommonNames             : \r\n",
       "ClientCertificateCommonNames       : {}\r\n",
       "ClientCertificateThumbprints       : {}\r\n",
       "ClusterCodeVersion                 : 7.0.466.9590\r\n",
       "ClusterEndpoint                    : https://{{location}}.servicefabric.azure.com/runtime/clusters/xxxxxxxx-xxxx-xxxx-xxxx-xxxxxxxxxxxx\r\n",
       "ClusterId                          : xxxxxxxx-xxxx-xxxx-xxxx-xxxxxxxxxxxx\r\n",
       "ClusterState                       : Ready\r\n",
       "DiagnosticsStorageAccountConfig    : Microsoft.Azure.Management.ServiceFabric.Models.DiagnosticsStorageAccountConfig\r\n",
       "EventStoreServiceEnabled           : \r\n",
       "FabricSettings                     : {Security, Management}\r\n",
       "ManagementEndpoint                 : https://{{resourceGroupName}}.{{location}}.cloudapp.azure.com:19080\r\n",
       "NodeTypes                          : {{{Microsoft.Compute/virtualMachineScaleSets}}}\r\n",
       "ProvisioningState                  : Succeeded\r\n",
       "ReliabilityLevel                   : Bronze\r\n",
       "ReverseProxyCertificate            : \r\n",
       "ReverseProxyCertificateCommonNames : \r\n",
       "UpgradeDescription                 : \r\n",
       "UpgradeMode                        : Automatic\r\n",
       "VmImage                            : Windows\r\n",
       "Id                                 : /subscriptions/{{subscription}}/resourcegroups/{{resourceGroupName}}/providers/Microsoft.ServiceFabric/clusters/{{resourceGroupName}}\r\n",
       "Name                               : {{resourceGroupName}}\r\n",
       "Type                               : Microsoft.ServiceFabric/clusters\r\n",
       "Location                           : {{location}}\r\n",
       "Tags                               : {}\r\n",
       "Etag                               : \r\n",
       "\r\n",
       "\r\n",
       "</pre>\r\n"
      ]
     },
     "metadata": {},
     "output_type": "display_data"
    }
   ],
   "source": [
    "# dont use as json. use get-azresource for json\n",
    "$cluster = get-azservicefabriccluster -Name $clusterName -ResourceGroupName $resourceGroupName\n",
    "write-host ($cluster)"
   ]
  },
  {
   "cell_type": "code",
   "execution_count": 31,
   "metadata": {},
   "outputs": [
    {
     "data": {
      "text/html": [
       "<pre>{\r\n",
       "  &quot;contentVersion&quot;: &quot;xxx.xxx.xxx.xxx&quot;,\r\n",
       "  &quot;resources&quot;: [\r\n",
       "    {\r\n",
       "      &quot;name&quot;: &quot;{{resourceGroupName}}&quot;,\r\n",
       "      &quot;apiVersion&quot;: &quot;2019-06-01-preview&quot;,\r\n",
       "      &quot;properties&quot;: {\r\n",
       "        &quot;provisioningState&quot;: &quot;Succeeded&quot;,\r\n",
       "        &quot;clusterId&quot;: &quot;xxxxxxxx-xxxx-xxxx-xxxx-xxxxxxxxxxxx&quot;,\r\n",
       "        &quot;clusterCodeVersion&quot;: &quot;7.0.466.9590&quot;,\r\n",
       "        &quot;clusterState&quot;: &quot;Ready&quot;,\r\n",
       "        &quot;managementEndpoint&quot;: &quot;https://{{resourceGroupName}}.{{location}}.cloudapp.azure.com:19080&quot;,\r\n",
       "        &quot;clusterEndpoint&quot;: &quot;https://{{location}}.servicefabric.azure.com/runtime/clusters/xxxxxxxx-xxxx-xxxx-xxxx-xxxxxxxxxxxx&quot;,\r\n",
       "        &quot;certificate&quot;: {\r\n",
       "          &quot;thumbprint&quot;: &quot;xxxxxxxxxxxxxxxxxxxxxxxxxxxxxxxxxxxxxxxx&quot;,\r\n",
       "          &quot;x509StoreName&quot;: &quot;My&quot;\r\n",
       "        },\r\n",
       "        &quot;clientCertificateThumbprints&quot;: [],\r\n",
       "        &quot;clientCertificateCommonNames&quot;: [],\r\n",
       "        &quot;fabricSettings&quot;: [\r\n",
       "          {\r\n",
       "            &quot;name&quot;: &quot;Security&quot;,\r\n",
       "            &quot;parameters&quot;: [\r\n",
       "              {\r\n",
       "                &quot;name&quot;: &quot;ClusterProtectionLevel&quot;,\r\n",
       "                &quot;value&quot;: &quot;EncryptAndSign&quot;\r\n",
       "              }\r\n",
       "            ]\r\n",
       "          },\r\n",
       "          {\r\n",
       "            &quot;name&quot;: &quot;Management&quot;,\r\n",
       "            &quot;parameters&quot;: [\r\n",
       "              {\r\n",
       "                &quot;name&quot;: &quot;CleanupApplicationPackageOnProvisionSuccess&quot;,\r\n",
       "                &quot;value&quot;: &quot;True&quot;\r\n",
       "              },\r\n",
       "              {\r\n",
       "                &quot;name&quot;: &quot;CleanupUnusedApplicationTypes&quot;,\r\n",
       "                &quot;value&quot;: &quot;True&quot;\r\n",
       "              },\r\n",
       "              {\r\n",
       "                &quot;name&quot;: &quot;PeriodicCleanupUnusedApplicationTypes&quot;,\r\n",
       "                &quot;value&quot;: &quot;True&quot;\r\n",
       "              },\r\n",
       "              {\r\n",
       "                &quot;name&quot;: &quot;TriggerAppTypeCleanupOnProvisionSuccess&quot;,\r\n",
       "                &quot;value&quot;: &quot;True&quot;\r\n",
       "              },\r\n",
       "              {\r\n",
       "                &quot;name&quot;: &quot;MaxUnusedAppTypeVersionsToKeep&quot;,\r\n",
       "                &quot;value&quot;: &quot;3&quot;\r\n",
       "              }\r\n",
       "            ]\r\n",
       "          }\r\n",
       "        ],\r\n",
       "        &quot;vmImage&quot;: &quot;Windows&quot;,\r\n",
       "        &quot;reliabilityLevel&quot;: &quot;Bronze&quot;,\r\n",
       "        &quot;nodeTypes&quot;: [\r\n",
       "          {\r\n",
       "            &quot;name&quot;: &quot;{{Microsoft.Compute/virtualMachineScaleSets}}&quot;,\r\n",
       "            &quot;vmInstanceCount&quot;: 3,\r\n",
       "            &quot;clientConnectionEndpointPort&quot;: 19000,\r\n",
       "            &quot;httpGatewayEndpointPort&quot;: 19080,\r\n",
       "            &quot;applicationPorts&quot;: {\r\n",
       "              &quot;startPort&quot;: 20000,\r\n",
       "              &quot;endPort&quot;: 30000\r\n",
       "            },\r\n",
       "            &quot;ephemeralPorts&quot;: {\r\n",
       "              &quot;startPort&quot;: 49152,\r\n",
       "              &quot;endPort&quot;: 65534\r\n",
       "            },\r\n",
       "            &quot;isPrimary&quot;: true,\r\n",
       "            &quot;reverseProxyEndpointPort&quot;: 19081,\r\n",
       "            &quot;durabilityLevel&quot;: &quot;Bronze&quot;\r\n",
       "          }\r\n",
       "        ],\r\n",
       "        &quot;diagnosticsStorageAccountConfig&quot;: {\r\n",
       "          &quot;storageAccountName&quot;: &quot;{{Microsoft.Storage/storageAccounts}}&quot;,\r\n",
       "          &quot;primaryAccessKey&quot;: &quot;&quot;,\r\n",
       "          &quot;secondaryAccessKey&quot;: &quot;&quot;,\r\n",
       "          &quot;protectedAccountKeyName&quot;: &quot;StorageAccountKey1&quot;,\r\n",
       "          &quot;blobEndpoint&quot;: &quot;https://{{Microsoft.Storage/storageAccounts}}.blob.core.windows.net/&quot;,\r\n",
       "          &quot;queueEndpoint&quot;: &quot;https://{{Microsoft.Storage/storageAccounts}}.queue.core.windows.net/&quot;,\r\n",
       "          &quot;tableEndpoint&quot;: &quot;https://{{Microsoft.Storage/storageAccounts}}.table.core.windows.net/&quot;\r\n",
       "        },\r\n",
       "        &quot;upgradeMode&quot;: &quot;Automatic&quot;,\r\n",
       "        &quot;availableClusterVersions&quot;: [\r\n",
       "          {\r\n",
       "            &quot;codeVersion&quot;: &quot;7.0.466.9590&quot;,\r\n",
       "            &quot;supportExpiryUtc&quot;: &quot;9999-12-31T23:59:59.9999999Z&quot;,\r\n",
       "            &quot;environment&quot;: &quot;Windows&quot;\r\n",
       "          }\r\n",
       "        ]\r\n",
       "      },\r\n",
       "      &quot;tags&quot;: {},\r\n",
       "      &quot;type&quot;: &quot;Microsoft.ServiceFabric/clusters&quot;,\r\n",
       "      &quot;location&quot;: &quot;{{location}}&quot;\r\n",
       "    }\r\n",
       "  ],\r\n",
       "  &quot;$schema&quot;: &quot;http://schema.management.azure.com/schemas/2015-01-01/deploymentTemplate.json&quot;\r\n",
       "}</pre>\r\n"
      ]
     },
     "metadata": {},
     "output_type": "display_data"
    }
   ],
   "source": [
    "# convert sf cluster az resource to sf arm template\n",
    "$cluster = get-azresource -Name $clusterName -ResourceGroupName $resourceGroupName -ResourceType Microsoft.ServiceFabric/clusters\n",
    "$clusterPropertiesJson = $cluster.properties | convertto-json -depth 99\n",
    "\n",
    "$clusterResourcesObject = @{}\n",
    "$clusterResourcesObject.'$schema' = \"http://schema.management.azure.com/schemas/2015-01-01/deploymentTemplate.json\"\n",
    "$clusterResourcesObject.contentVersion = \"xxx.xxx.xxx.xxx\"\n",
    "\n",
    "$clusterObject = @{}\n",
    "$clusterObject.apiVersion = '2019-06-01-preview'\n",
    "#$clusterObject.dependsOn = @()\n",
    "$clusterObject.type = $cluster.Type\n",
    "$clusterObject.location = $cluster.Location\n",
    "#$clusterObject.id = $cluster.Id\n",
    "$clusterObject.name = $cluster.Name\n",
    "$clusterObject.tags = $cluster.Tags\n",
    "#$clusterObject.etag = $cluster.ETag\n",
    "$clusterObject.properties = $clusterPropertiesJson | convertfrom-json\n",
    "\n",
    "$clusterResourcesObject.Add('resources',@($clusterObject))\n",
    "\n",
    "$clusterTemplate = $clusterResourcesObject | convertto-json -depth 99\n",
    "$clusterTemplate | out-file .\\clustertemplate.json\n",
    "\n",
    "#$clusterTemplate\n",
    "write-host $clusterTemplate"
   ]
  },
  {
   "cell_type": "code",
   "execution_count": 30,
   "metadata": {},
   "outputs": [
    {
     "data": {
      "text/html": [
       "<pre>VERBOSE: Performing the operation &quot;Creating Deployment&quot; on target &quot;{{resourceGroupName}}&quot;.</pre>\r\n"
      ]
     },
     "metadata": {},
     "output_type": "display_data"
    },
    {
     "data": {
      "text/html": [
       "<pre>WARNING: The DeploymentDebug setting has been enabled. This can potentially log secrets like passwords used in resource property or listKeys operations when you retrieve the deployment operations through Get-AzResourceGroupDeploymentOperation</pre>\r\n"
      ]
     },
     "metadata": {},
     "output_type": "display_data"
    },
    {
     "data": {
      "text/html": [
       "<pre>VERBOSE: 14:53:09 - Template is valid.</pre>\r\n"
      ]
     },
     "metadata": {},
     "output_type": "display_data"
    },
    {
     "data": {
      "text/html": [
       "<pre>VERBOSE: 14:53:10 - Create template deployment &#39;{{resourceGroupName}}-20200301-025308&#39;</pre>\r\n"
      ]
     },
     "metadata": {},
     "output_type": "display_data"
    },
    {
     "data": {
      "text/html": [
       "<pre>VERBOSE: 14:53:10 - Checking deployment status in 5 seconds</pre>\r\n"
      ]
     },
     "metadata": {},
     "output_type": "display_data"
    },
    {
     "data": {
      "text/html": [
       "<pre>VERBOSE: 14:53:15 - Checking deployment status in 5 seconds</pre>\r\n"
      ]
     },
     "metadata": {},
     "output_type": "display_data"
    },
    {
     "data": {
      "text/html": [
       "<pre>VERBOSE: 14:53:20 - Checking deployment status in 5 seconds</pre>\r\n"
      ]
     },
     "metadata": {},
     "output_type": "display_data"
    },
    {
     "data": {
      "text/html": [
       "<pre>VERBOSE: 14:53:26 - Checking deployment status in 5 seconds</pre>\r\n"
      ]
     },
     "metadata": {},
     "output_type": "display_data"
    },
    {
     "data": {
      "text/html": [
       "<pre>VERBOSE: 14:53:31 - Checking deployment status in 5 seconds</pre>\r\n"
      ]
     },
     "metadata": {},
     "output_type": "display_data"
    },
    {
     "data": {
      "text/html": [
       "<pre>VERBOSE: 14:53:36 - Checking deployment status in 5 seconds</pre>\r\n"
      ]
     },
     "metadata": {},
     "output_type": "display_data"
    },
    {
     "data": {
      "text/html": [
       "<pre>VERBOSE: 14:53:41 - Checking deployment status in 5 seconds</pre>\r\n"
      ]
     },
     "metadata": {},
     "output_type": "display_data"
    },
    {
     "data": {
      "text/html": [
       "<pre>VERBOSE: 14:53:46 - Resource Microsoft.ServiceFabric/clusters &#39;{{resourceGroupName}}&#39; provisioning status is running</pre>\r\n"
      ]
     },
     "metadata": {},
     "output_type": "display_data"
    },
    {
     "data": {
      "text/html": [
       "<pre>VERBOSE: 14:53:46 - Checking deployment status in 0 seconds</pre>\r\n"
      ]
     },
     "metadata": {},
     "output_type": "display_data"
    },
    {
     "data": {
      "text/html": [
       "<pre>VERBOSE: 14:53:46 - Checking deployment status in 0 seconds</pre>\r\n"
      ]
     },
     "metadata": {},
     "output_type": "display_data"
    },
    {
     "data": {
      "text/html": [
       "<pre>VERBOSE: 14:53:47 - Checking deployment status in 0 seconds</pre>\r\n"
      ]
     },
     "metadata": {},
     "output_type": "display_data"
    },
    {
     "data": {
      "text/html": [
       "<pre>VERBOSE: 14:53:47 - Checking deployment status in 0 seconds</pre>\r\n"
      ]
     },
     "metadata": {},
     "output_type": "display_data"
    },
    {
     "data": {
      "text/html": [
       "<pre>VERBOSE: 14:53:47 - Checking deployment status in 0 seconds</pre>\r\n"
      ]
     },
     "metadata": {},
     "output_type": "display_data"
    },
    {
     "data": {
      "text/html": [
       "<pre>VERBOSE: 14:53:47 - Checking deployment status in 59 seconds</pre>\r\n"
      ]
     },
     "metadata": {},
     "output_type": "display_data"
    },
    {
     "data": {
      "text/html": [
       "<pre>VERBOSE: 14:54:46 - Checking deployment status in 16 seconds</pre>\r\n"
      ]
     },
     "metadata": {},
     "output_type": "display_data"
    },
    {
     "data": {
      "text/html": [
       "<pre>VERBOSE: 14:55:03 - Checking deployment status in 15 seconds</pre>\r\n"
      ]
     },
     "metadata": {},
     "output_type": "display_data"
    },
    {
     "data": {
      "text/html": [
       "<pre>VERBOSE: 14:55:18 - Checking deployment status in 16 seconds</pre>\r\n"
      ]
     },
     "metadata": {},
     "output_type": "display_data"
    },
    {
     "data": {
      "text/html": [
       "<pre>VERBOSE: 14:55:34 - Checking deployment status in 15 seconds</pre>\r\n"
      ]
     },
     "metadata": {},
     "output_type": "display_data"
    },
    {
     "data": {
      "text/html": [
       "<pre>VERBOSE: 14:55:49 - Checking deployment status in 15 seconds</pre>\r\n"
      ]
     },
     "metadata": {},
     "output_type": "display_data"
    },
    {
     "data": {
      "text/html": [
       "<pre>VERBOSE: 14:56:04 - Checking deployment status in 5 seconds</pre>\r\n"
      ]
     },
     "metadata": {},
     "output_type": "display_data"
    },
    {
     "data": {
      "text/html": [
       "<pre>VERBOSE: 14:56:10 - Checking deployment status in 13 seconds</pre>\r\n"
      ]
     },
     "metadata": {},
     "output_type": "display_data"
    },
    {
     "data": {
      "text/html": [
       "<pre>VERBOSE: 14:56:23 - Checking deployment status in 16 seconds</pre>\r\n"
      ]
     },
     "metadata": {},
     "output_type": "display_data"
    },
    {
     "data": {
      "text/html": [
       "<pre>VERBOSE: 14:56:39 - Checking deployment status in 15 seconds</pre>\r\n"
      ]
     },
     "metadata": {},
     "output_type": "display_data"
    },
    {
     "data": {
      "text/html": [
       "<pre>VERBOSE: 14:56:54 - Checking deployment status in 15 seconds</pre>\r\n"
      ]
     },
     "metadata": {},
     "output_type": "display_data"
    },
    {
     "data": {
      "text/html": [
       "<pre>VERBOSE: 14:57:10 - Checking deployment status in 5 seconds</pre>\r\n"
      ]
     },
     "metadata": {},
     "output_type": "display_data"
    },
    {
     "data": {
      "text/html": [
       "<pre>VERBOSE: 14:57:15 - Checking deployment status in 14 seconds</pre>\r\n"
      ]
     },
     "metadata": {},
     "output_type": "display_data"
    },
    {
     "data": {
      "text/html": [
       "<pre>VERBOSE: 14:57:29 - Checking deployment status in 5 seconds</pre>\r\n"
      ]
     },
     "metadata": {},
     "output_type": "display_data"
    },
    {
     "data": {
      "text/html": [
       "<pre>VERBOSE: 14:57:34 - Checking deployment status in 5 seconds</pre>\r\n"
      ]
     },
     "metadata": {},
     "output_type": "display_data"
    },
    {
     "data": {
      "text/html": [
       "<pre>VERBOSE: 14:57:39 - Checking deployment status in 5 seconds</pre>\r\n"
      ]
     },
     "metadata": {},
     "output_type": "display_data"
    },
    {
     "data": {
      "text/html": [
       "<pre>VERBOSE: 14:57:45 - Checking deployment status in 14 seconds</pre>\r\n"
      ]
     },
     "metadata": {},
     "output_type": "display_data"
    },
    {
     "data": {
      "text/html": [
       "<pre>VERBOSE: 14:58:11 - Checking deployment status in 7 seconds</pre>\r\n"
      ]
     },
     "metadata": {},
     "output_type": "display_data"
    },
    {
     "data": {
      "text/html": [
       "<pre>VERBOSE: 14:58:18 - Checking deployment status in 5 seconds</pre>\r\n"
      ]
     },
     "metadata": {},
     "output_type": "display_data"
    },
    {
     "data": {
      "text/html": [
       "<pre>VERBOSE: 14:58:23 - Checking deployment status in 14 seconds</pre>\r\n"
      ]
     },
     "metadata": {},
     "output_type": "display_data"
    },
    {
     "data": {
      "text/html": [
       "<pre>VERBOSE: 14:58:37 - Checking deployment status in 15 seconds</pre>\r\n"
      ]
     },
     "metadata": {},
     "output_type": "display_data"
    },
    {
     "data": {
      "text/html": [
       "<pre>VERBOSE: 14:58:53 - Checking deployment status in 5 seconds</pre>\r\n"
      ]
     },
     "metadata": {},
     "output_type": "display_data"
    },
    {
     "data": {
      "text/html": [
       "<pre>VERBOSE: 14:58:58 - Checking deployment status in 13 seconds</pre>\r\n"
      ]
     },
     "metadata": {},
     "output_type": "display_data"
    },
    {
     "data": {
      "text/html": [
       "<pre>VERBOSE: 14:59:11 - Checking deployment status in 15 seconds</pre>\r\n"
      ]
     },
     "metadata": {},
     "output_type": "display_data"
    },
    {
     "data": {
      "text/html": [
       "<pre>VERBOSE: 14:59:26 - Checking deployment status in 5 seconds</pre>\r\n"
      ]
     },
     "metadata": {},
     "output_type": "display_data"
    },
    {
     "data": {
      "text/html": [
       "<pre>VERBOSE: 14:59:32 - Checking deployment status in 13 seconds</pre>\r\n"
      ]
     },
     "metadata": {},
     "output_type": "display_data"
    },
    {
     "data": {
      "text/html": [
       "<pre>VERBOSE: 14:59:45 - Checking deployment status in 15 seconds</pre>\r\n"
      ]
     },
     "metadata": {},
     "output_type": "display_data"
    },
    {
     "data": {
      "text/html": [
       "<pre>VERBOSE: 15:00:00 - Checking deployment status in 15 seconds</pre>\r\n"
      ]
     },
     "metadata": {},
     "output_type": "display_data"
    },
    {
     "data": {
      "text/html": [
       "<pre>VERBOSE: 15:00:15 - Checking deployment status in 5 seconds</pre>\r\n"
      ]
     },
     "metadata": {},
     "output_type": "display_data"
    },
    {
     "data": {
      "text/html": [
       "<pre>VERBOSE: 15:00:21 - Checking deployment status in 14 seconds</pre>\r\n"
      ]
     },
     "metadata": {},
     "output_type": "display_data"
    },
    {
     "data": {
      "text/html": [
       "<pre>VERBOSE: 15:00:35 - Checking deployment status in 5 seconds</pre>\r\n"
      ]
     },
     "metadata": {},
     "output_type": "display_data"
    },
    {
     "data": {
      "text/html": [
       "<pre>VERBOSE: 15:00:40 - Checking deployment status in 13 seconds</pre>\r\n"
      ]
     },
     "metadata": {},
     "output_type": "display_data"
    },
    {
     "data": {
      "text/html": [
       "<pre>VERBOSE: 15:00:53 - Checking deployment status in 5 seconds</pre>\r\n"
      ]
     },
     "metadata": {},
     "output_type": "display_data"
    },
    {
     "data": {
      "text/html": [
       "<pre>VERBOSE: 15:00:58 - Checking deployment status in 5 seconds</pre>\r\n"
      ]
     },
     "metadata": {},
     "output_type": "display_data"
    },
    {
     "data": {
      "text/html": [
       "<pre>VERBOSE: 15:01:04 - Checking deployment status in 5 seconds</pre>\r\n"
      ]
     },
     "metadata": {},
     "output_type": "display_data"
    },
    {
     "data": {
      "text/html": [
       "<pre>VERBOSE: 15:01:09 - Checking deployment status in 12 seconds</pre>\r\n"
      ]
     },
     "metadata": {},
     "output_type": "display_data"
    },
    {
     "data": {
      "text/html": [
       "<pre>VERBOSE: 15:01:21 - Checking deployment status in 5 seconds</pre>\r\n"
      ]
     },
     "metadata": {},
     "output_type": "display_data"
    },
    {
     "data": {
      "text/html": [
       "<pre>VERBOSE: 15:01:26 - Checking deployment status in 14 seconds</pre>\r\n"
      ]
     },
     "metadata": {},
     "output_type": "display_data"
    },
    {
     "data": {
      "text/html": [
       "<pre>VERBOSE: 15:01:40 - Checking deployment status in 15 seconds</pre>\r\n"
      ]
     },
     "metadata": {},
     "output_type": "display_data"
    },
    {
     "data": {
      "text/html": [
       "<pre>VERBOSE: 15:01:56 - Checking deployment status in 15 seconds</pre>\r\n"
      ]
     },
     "metadata": {},
     "output_type": "display_data"
    },
    {
     "data": {
      "text/html": [
       "<pre>VERBOSE: 15:02:11 - Checking deployment status in 15 seconds</pre>\r\n"
      ]
     },
     "metadata": {},
     "output_type": "display_data"
    },
    {
     "data": {
      "text/html": [
       "<pre>VERBOSE: 15:02:26 - Checking deployment status in 15 seconds</pre>\r\n"
      ]
     },
     "metadata": {},
     "output_type": "display_data"
    },
    {
     "data": {
      "text/html": [
       "<pre>VERBOSE: 15:02:41 - Checking deployment status in 15 seconds</pre>\r\n"
      ]
     },
     "metadata": {},
     "output_type": "display_data"
    },
    {
     "data": {
      "text/html": [
       "<pre>VERBOSE: 15:02:56 - Checking deployment status in 5 seconds</pre>\r\n"
      ]
     },
     "metadata": {},
     "output_type": "display_data"
    },
    {
     "data": {
      "text/html": [
       "<pre>VERBOSE: 15:03:02 - Checking deployment status in 14 seconds</pre>\r\n"
      ]
     },
     "metadata": {},
     "output_type": "display_data"
    },
    {
     "data": {
      "text/html": [
       "<pre>VERBOSE: 15:03:16 - Checking deployment status in 15 seconds</pre>\r\n"
      ]
     },
     "metadata": {},
     "output_type": "display_data"
    },
    {
     "data": {
      "text/html": [
       "<pre>VERBOSE: 15:03:33 - Checking deployment status in 16 seconds</pre>\r\n"
      ]
     },
     "metadata": {},
     "output_type": "display_data"
    },
    {
     "data": {
      "text/html": [
       "<pre>VERBOSE: 15:03:50 - Checking deployment status in 15 seconds</pre>\r\n"
      ]
     },
     "metadata": {},
     "output_type": "display_data"
    },
    {
     "data": {
      "text/html": [
       "<pre>VERBOSE: 15:04:05 - Checking deployment status in 15 seconds</pre>\r\n"
      ]
     },
     "metadata": {},
     "output_type": "display_data"
    },
    {
     "data": {
      "text/html": [
       "<pre>VERBOSE: 15:04:20 - Checking deployment status in 5 seconds</pre>\r\n"
      ]
     },
     "metadata": {},
     "output_type": "display_data"
    },
    {
     "data": {
      "text/html": [
       "<pre>VERBOSE: 15:04:25 - Checking deployment status in 13 seconds</pre>\r\n"
      ]
     },
     "metadata": {},
     "output_type": "display_data"
    },
    {
     "data": {
      "text/html": [
       "<pre>VERBOSE: 15:04:38 - Checking deployment status in 16 seconds</pre>\r\n"
      ]
     },
     "metadata": {},
     "output_type": "display_data"
    },
    {
     "data": {
      "text/html": [
       "<pre>VERBOSE: 15:04:55 - Checking deployment status in 5 seconds</pre>\r\n"
      ]
     },
     "metadata": {},
     "output_type": "display_data"
    },
    {
     "data": {
      "text/html": [
       "<pre>VERBOSE: 15:05:00 - Checking deployment status in 13 seconds</pre>\r\n"
      ]
     },
     "metadata": {},
     "output_type": "display_data"
    },
    {
     "data": {
      "text/html": [
       "<pre>VERBOSE: 15:05:13 - Checking deployment status in 15 seconds</pre>\r\n"
      ]
     },
     "metadata": {},
     "output_type": "display_data"
    },
    {
     "data": {
      "text/html": [
       "<pre>VERBOSE: 15:05:40 - Checking deployment status in 5 seconds</pre>\r\n"
      ]
     },
     "metadata": {},
     "output_type": "display_data"
    },
    {
     "data": {
      "text/html": [
       "<pre>VERBOSE: 15:05:46 - Checking deployment status in 5 seconds</pre>\r\n"
      ]
     },
     "metadata": {},
     "output_type": "display_data"
    },
    {
     "data": {
      "text/html": [
       "<pre>VERBOSE: 15:05:51 - Checking deployment status in 11 seconds</pre>\r\n"
      ]
     },
     "metadata": {},
     "output_type": "display_data"
    },
    {
     "data": {
      "text/html": [
       "<pre>VERBOSE: 15:06:02 - Checking deployment status in 15 seconds</pre>\r\n"
      ]
     },
     "metadata": {},
     "output_type": "display_data"
    },
    {
     "data": {
      "text/html": [
       "<pre>VERBOSE: 15:06:17 - Checking deployment status in 15 seconds</pre>\r\n"
      ]
     },
     "metadata": {},
     "output_type": "display_data"
    },
    {
     "data": {
      "text/html": [
       "<pre>VERBOSE: 15:06:33 - Checking deployment status in 5 seconds</pre>\r\n"
      ]
     },
     "metadata": {},
     "output_type": "display_data"
    },
    {
     "data": {
      "text/html": [
       "<pre>VERBOSE: 15:06:38 - Checking deployment status in 13 seconds</pre>\r\n"
      ]
     },
     "metadata": {},
     "output_type": "display_data"
    },
    {
     "data": {
      "text/html": [
       "<pre>VERBOSE: 15:06:51 - Checking deployment status in 5 seconds</pre>\r\n"
      ]
     },
     "metadata": {},
     "output_type": "display_data"
    },
    {
     "data": {
      "text/html": [
       "<pre>VERBOSE: 15:06:56 - Checking deployment status in 14 seconds</pre>\r\n"
      ]
     },
     "metadata": {},
     "output_type": "display_data"
    },
    {
     "data": {
      "text/html": [
       "<pre>VERBOSE: 15:07:10 - Checking deployment status in 15 seconds</pre>\r\n"
      ]
     },
     "metadata": {},
     "output_type": "display_data"
    },
    {
     "data": {
      "text/html": [
       "<pre>VERBOSE: 15:07:26 - Checking deployment status in 5 seconds</pre>\r\n"
      ]
     },
     "metadata": {},
     "output_type": "display_data"
    },
    {
     "data": {
      "text/html": [
       "<pre>VERBOSE: 15:07:31 - Checking deployment status in 14 seconds</pre>\r\n"
      ]
     },
     "metadata": {},
     "output_type": "display_data"
    },
    {
     "data": {
      "text/html": [
       "<pre>VERBOSE: 15:07:45 - Checking deployment status in 5 seconds</pre>\r\n"
      ]
     },
     "metadata": {},
     "output_type": "display_data"
    },
    {
     "data": {
      "text/html": [
       "<pre>VERBOSE: 15:07:50 - Checking deployment status in 13 seconds</pre>\r\n"
      ]
     },
     "metadata": {},
     "output_type": "display_data"
    },
    {
     "data": {
      "text/html": [
       "<pre>VERBOSE: 15:08:04 - Checking deployment status in 5 seconds</pre>\r\n"
      ]
     },
     "metadata": {},
     "output_type": "display_data"
    },
    {
     "data": {
      "text/html": [
       "<pre>VERBOSE: 15:08:09 - Resource Microsoft.ServiceFabric/clusters &#39;{{resourceGroupName}}&#39; provisioning status is succeeded</pre>\r\n"
      ]
     },
     "metadata": {},
     "output_type": "display_data"
    },
    {
     "data": {
      "text/html": [
       "<pre></pre>\r\n"
      ]
     },
     "metadata": {},
     "output_type": "display_data"
    },
    {
     "data": {
      "text/html": [
       "<pre>DeploymentName          : {{resourceGroupName}}-20200301-025308</pre>\r\n"
      ]
     },
     "metadata": {},
     "output_type": "display_data"
    },
    {
     "data": {
      "text/html": [
       "<pre>ResourceGroupName       : {{resourceGroupName}}</pre>\r\n"
      ]
     },
     "metadata": {},
     "output_type": "display_data"
    },
    {
     "data": {
      "text/html": [
       "<pre>ProvisioningState       : Succeeded</pre>\r\n"
      ]
     },
     "metadata": {},
     "output_type": "display_data"
    },
    {
     "data": {
      "text/html": [
       "<pre>Timestamp               : 03/01/20 20:08:06</pre>\r\n"
      ]
     },
     "metadata": {},
     "output_type": "display_data"
    },
    {
     "data": {
      "text/html": [
       "<pre>Mode                    : Incremental</pre>\r\n"
      ]
     },
     "metadata": {},
     "output_type": "display_data"
    },
    {
     "data": {
      "text/html": [
       "<pre>TemplateLink            : </pre>\r\n"
      ]
     },
     "metadata": {},
     "output_type": "display_data"
    },
    {
     "data": {
      "text/html": [
       "<pre>Parameters              : </pre>\r\n"
      ]
     },
     "metadata": {},
     "output_type": "display_data"
    },
    {
     "data": {
      "text/html": [
       "<pre>Outputs                 : </pre>\r\n"
      ]
     },
     "metadata": {},
     "output_type": "display_data"
    },
    {
     "data": {
      "text/html": [
       "<pre>DeploymentDebugLogLevel : RequestContent, ResponseContent</pre>\r\n"
      ]
     },
     "metadata": {},
     "output_type": "display_data"
    },
    {
     "data": {
      "text/html": [
       "<pre></pre>\r\n"
      ]
     },
     "metadata": {},
     "output_type": "display_data"
    },
    {
     "data": {
      "text/html": [
       "<pre></pre>\r\n"
      ]
     },
     "metadata": {},
     "output_type": "display_data"
    }
   ],
   "source": [
    "New-AzResourceGroupDeployment -Name \"$resourceGroupName-$((get-date).ToString(\"yyyyMMdd-hhmmss\"))\" `\n",
    "    -ResourceGroupName $resourceGroupName `\n",
    "    -DeploymentDebugLogLevel All `\n",
    "    -TemplateFile .\\clustertemplate.json `\n",
    "    -Verbose"
   ]
  },
  {
   "cell_type": "code",
   "execution_count": 34,
   "metadata": {},
   "outputs": [
    {
     "data": {
      "text/html": [
       "<pre>\r\n",
       "PSClusterString                    : AddOnFeatures : \r\n",
       "                                     AvailableClusterVersions :\r\n",
       "                                         CodeVersion : 7.0.466.9590\r\n",
       "                                         SupportExpiryUtc : 12/31/9999 23:59:59\r\n",
       "                                         Environment : Windows\r\n",
       "                                     AzureActiveDirectory : \r\n",
       "                                     Certificate :\r\n",
       "                                         Thumbprint : xxxxxxxxxxxxxxxxxxxxxxxxxxxxxxxxxxxxxxxx\r\n",
       "                                         ThumbprintSecondary : \r\n",
       "                                         X509StoreName : My\r\n",
       "                                     CertificateCommonNames : \r\n",
       "                                     ClientCertificateCommonNames :\r\n",
       "                                     ClientCertificateThumbprints :\r\n",
       "                                     ClusterCodeVersion : 7.0.466.9590\r\n",
       "                                     ClusterEndpoint : https://{{location}}.servicefabric.azure.com/runtime/clusters/xxxxxxxx-xxxx-xxxx-xxxx-xxxxxxxxxxxx\r\n",
       "                                     ClusterId : xxxxxxxx-xxxx-xxxx-xxxx-xxxxxxxxxxxx\r\n",
       "                                     ClusterState : Ready\r\n",
       "                                     DiagnosticsStorageAccountConfig :\r\n",
       "                                         StorageAccountName : {{Microsoft.Storage/storageAccounts}}\r\n",
       "                                         ProtectedAccountKeyName : StorageAccountKey1\r\n",
       "                                         BlobEndpoint : https://{{Microsoft.Storage/storageAccounts}}.blob.core.windows.net/\r\n",
       "                                         QueueEndpoint : https://{{Microsoft.Storage/storageAccounts}}.queue.core.windows.net/\r\n",
       "                                         TableEndpoint : https://{{Microsoft.Storage/storageAccounts}}.table.core.windows.net/\r\n",
       "                                     EventStoreServiceEnabled : \r\n",
       "                                     FabricSettings :\r\n",
       "                                         Name : Security\r\n",
       "                                         Parameters :\r\n",
       "                                             Name : ClusterProtectionLevel\r\n",
       "                                             Value : EncryptAndSign\r\n",
       "                                         Name : Management\r\n",
       "                                         Parameters :\r\n",
       "                                             Name : CleanupApplicationPackageOnProvisionSuccess\r\n",
       "                                             Value : True\r\n",
       "                                             Name : CleanupUnusedApplicationTypes\r\n",
       "                                             Value : True\r\n",
       "                                             Name : PeriodicCleanupUnusedApplicationTypes\r\n",
       "                                             Value : True\r\n",
       "                                             Name : TriggerAppTypeCleanupOnProvisionSuccess\r\n",
       "                                             Value : True\r\n",
       "                                             Name : MaxUnusedAppTypeVersionsToKeep\r\n",
       "                                             Value : 3\r\n",
       "                                     ManagementEndpoint : https://{{resourceGroupName}}.{{location}}.cloudapp.azure.com:19080\r\n",
       "                                     NodeTypes :\r\n",
       "                                         NodeTypeDescription :\r\n",
       "                                             Name : {{Microsoft.Compute/virtualMachineScaleSets}}\r\n",
       "                                             PlacementProperties : \r\n",
       "                                             Capacities : \r\n",
       "                                             ClientConnectionEndpointPort : 19000\r\n",
       "                                             HttpGatewayEndpointPort : 19080\r\n",
       "                                             DurabilityLevel : Bronze\r\n",
       "                                             ApplicationPorts :\r\n",
       "                                                 StartPort : 20000\r\n",
       "                                                 EndPort : 30000\r\n",
       "                                             EphemeralPorts :\r\n",
       "                                                 StartPort : 49152\r\n",
       "                                                 EndPort : 65534\r\n",
       "                                             IsPrimary : True\r\n",
       "                                             VmInstanceCount : 3\r\n",
       "                                             ReverseProxyEndpointPort : 19081\r\n",
       "                                     ProvisioningState : Succeeded\r\n",
       "                                     ReliabilityLevel : Bronze\r\n",
       "                                     ReverseProxyCertificate : \r\n",
       "                                     ReverseProxyCertificateCommonNames : \r\n",
       "                                     UpgradeDescription : \r\n",
       "                                     UpgradeMode : Automatic\r\n",
       "                                     VmImage : Windows\r\n",
       "                                     Id : /subscriptions/{{subscription}}/resourcegroups/{{resourceGroupName}}/providers/Microsoft.ServiceFabric/clusters/{{resourceGroupName}}\r\n",
       "                                     Name : {{resourceGroupName}}\r\n",
       "                                     Type : Microsoft.ServiceFabric/clusters\r\n",
       "                                     Location : {{location}}\r\n",
       "                                     Tags :\r\n",
       "                                     Etag : \r\n",
       "                                     \r\n",
       "AddOnFeatures                      : \r\n",
       "AvailableClusterVersions           : {Microsoft.Azure.Management.ServiceFabric.Models.ClusterVersionDetails}\r\n",
       "AzureActiveDirectory               : \r\n",
       "Certificate                        : Microsoft.Azure.Management.ServiceFabric.Models.CertificateDescription\r\n",
       "CertificateCommonNames             : \r\n",
       "ClientCertificateCommonNames       : {}\r\n",
       "ClientCertificateThumbprints       : {}\r\n",
       "ClusterCodeVersion                 : 7.0.466.9590\r\n",
       "ClusterEndpoint                    : https://{{location}}.servicefabric.azure.com/runtime/clusters/xxxxxxxx-xxxx-xxxx-xxxx-xxxxxxxxxxxx\r\n",
       "ClusterId                          : xxxxxxxx-xxxx-xxxx-xxxx-xxxxxxxxxxxx\r\n",
       "ClusterState                       : Ready\r\n",
       "DiagnosticsStorageAccountConfig    : Microsoft.Azure.Management.ServiceFabric.Models.DiagnosticsStorageAccountConfig\r\n",
       "EventStoreServiceEnabled           : \r\n",
       "FabricSettings                     : {Security, Management}\r\n",
       "ManagementEndpoint                 : https://{{resourceGroupName}}.{{location}}.cloudapp.azure.com:19080\r\n",
       "NodeTypes                          : {{{Microsoft.Compute/virtualMachineScaleSets}}}\r\n",
       "ProvisioningState                  : Succeeded\r\n",
       "ReliabilityLevel                   : Bronze\r\n",
       "ReverseProxyCertificate            : \r\n",
       "ReverseProxyCertificateCommonNames : \r\n",
       "UpgradeDescription                 : \r\n",
       "UpgradeMode                        : Automatic\r\n",
       "VmImage                            : Windows\r\n",
       "Id                                 : /subscriptions/{{subscription}}/resourcegroups/{{resourceGroupName}}/providers/Microsoft.ServiceFabric/clusters/{{resourceGroupName}}\r\n",
       "Name                               : {{resourceGroupName}}\r\n",
       "Type                               : Microsoft.ServiceFabric/clusters\r\n",
       "Location                           : {{location}}\r\n",
       "Tags                               : {}\r\n",
       "Etag                               : \r\n",
       "\r\n",
       "\r\n",
       "</pre>\r\n"
      ]
     },
     "metadata": {},
     "output_type": "display_data"
    }
   ],
   "source": [
    "# dont use as json. use get-azresource for json\n",
    "$cluster = get-azservicefabriccluster -Name $clusterName -ResourceGroupName $resourceGroupName\n",
    "write-host ($cluster)"
   ]
  },
  {
   "cell_type": "code",
   "execution_count": null,
   "metadata": {},
   "outputs": [],
   "source": []
  }
 ],
 "metadata": {
  "kernelspec": {
   "display_name": ".NET (PowerShell)",
   "language": "PowerShell",
   "name": ".net-powershell"
  },
  "language_info": {
   "file_extension": ".ps1",
   "mimetype": "text/x-powershell",
   "name": "PowerShell",
   "pygments_lexer": "powershell",
   "version": "7.0"
  }
 },
 "nbformat": 4,
 "nbformat_minor": 4
}
